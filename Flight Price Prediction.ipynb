{
 "cells": [
  {
   "cell_type": "markdown",
   "id": "f2f59ee5",
   "metadata": {
    "papermill": {
     "duration": 0.025365,
     "end_time": "2022-10-01T16:19:39.891916",
     "exception": false,
     "start_time": "2022-10-01T16:19:39.866551",
     "status": "completed"
    },
    "tags": []
   },
   "source": [
    "# <b>1 <span style='color:#0000FF'>|</span> Importing libraries</b>"
   ]
  },
  {
   "cell_type": "code",
   "execution_count": 1,
   "id": "312f6225",
   "metadata": {
    "execution": {
     "iopub.execute_input": "2022-10-01T16:19:39.945755Z",
     "iopub.status.busy": "2022-10-01T16:19:39.944491Z",
     "iopub.status.idle": "2022-10-01T16:19:43.637076Z",
     "shell.execute_reply": "2022-10-01T16:19:43.636025Z"
    },
    "papermill": {
     "duration": 3.72289,
     "end_time": "2022-10-01T16:19:43.640132",
     "exception": false,
     "start_time": "2022-10-01T16:19:39.917242",
     "status": "completed"
    },
    "tags": []
   },
   "outputs": [],
   "source": [
    "import pandas as pd \n",
    "import numpy as np\n",
    "import matplotlib.pyplot as plt\n",
    "import seaborn as sns\n",
    "from pandas_profiling import ProfileReport\n",
    "from sklearn.preprocessing import StandardScaler \n",
    "from sklearn.model_selection import train_test_split\n",
    "\n",
    "# data modeling \n",
    "from sklearn.linear_model import LinearRegression\n",
    "from sklearn.neighbors import KNeighborsRegressor\n",
    "from sklearn.svm import SVR\n",
    "from sklearn.tree import DecisionTreeRegressor\n",
    "from sklearn.ensemble import RandomForestRegressor\n",
    "from sklearn.ensemble import ExtraTreesRegressor\n",
    "from sklearn.ensemble import BaggingRegressor\n",
    "from sklearn.linear_model import Ridge, Lasso\n",
    "from sklearn.ensemble import GradientBoostingRegressor\n",
    "from xgboost import XGBRegressor\n",
    "from sklearn import metrics\n",
    "import joblib\n",
    "\n",
    "\n",
    "\n",
    "\n",
    "\n",
    "\n",
    "import warnings\n",
    "warnings.filterwarnings('ignore')\n",
    "%matplotlib inline\n",
    "sns.set(rc={'figure.figsize': [10, 6]}, font_scale=1.3)\n",
    "pd.set_option(\"display.max_columns\",None)\n",
    "pd.set_option(\"display.max_rows\",None)\n"
   ]
  },
  {
   "cell_type": "markdown",
   "id": "440cd0bd",
   "metadata": {
    "papermill": {
     "duration": 0.025187,
     "end_time": "2022-10-01T16:19:43.690966",
     "exception": false,
     "start_time": "2022-10-01T16:19:43.665779",
     "status": "completed"
    },
    "tags": []
   },
   "source": [
    "# <b>2 <span style='color:#0000FF'>|</span> Reading the dataset</b>"
   ]
  },
  {
   "cell_type": "code",
   "execution_count": 2,
   "id": "75b6f772",
   "metadata": {},
   "outputs": [],
   "source": [
    "df= pd.read_csv(r\"C:\\Users\\Vishi\\Downloads\\Data_Flight_Proce.csv\")"
   ]
  },
  {
   "cell_type": "code",
   "execution_count": 3,
   "id": "504c723f",
   "metadata": {
    "execution": {
     "iopub.execute_input": "2022-10-01T16:19:43.803082Z",
     "iopub.status.busy": "2022-10-01T16:19:43.802490Z",
     "iopub.status.idle": "2022-10-01T16:19:45.898170Z",
     "shell.execute_reply": "2022-10-01T16:19:45.897280Z"
    },
    "papermill": {
     "duration": 2.125751,
     "end_time": "2022-10-01T16:19:45.901206",
     "exception": false,
     "start_time": "2022-10-01T16:19:43.775455",
     "status": "completed"
    },
    "tags": []
   },
   "outputs": [
    {
     "data": {
      "text/html": [
       "<div>\n",
       "<style scoped>\n",
       "    .dataframe tbody tr th:only-of-type {\n",
       "        vertical-align: middle;\n",
       "    }\n",
       "\n",
       "    .dataframe tbody tr th {\n",
       "        vertical-align: top;\n",
       "    }\n",
       "\n",
       "    .dataframe thead th {\n",
       "        text-align: right;\n",
       "    }\n",
       "</style>\n",
       "<table border=\"1\" class=\"dataframe\">\n",
       "  <thead>\n",
       "    <tr style=\"text-align: right;\">\n",
       "      <th></th>\n",
       "      <th>Airline</th>\n",
       "      <th>Date_of_Journey</th>\n",
       "      <th>Source</th>\n",
       "      <th>Destination</th>\n",
       "      <th>Route</th>\n",
       "      <th>Dep_Time</th>\n",
       "      <th>Arrival_Time</th>\n",
       "      <th>Duration</th>\n",
       "      <th>Total_Stops</th>\n",
       "      <th>Additional_Info</th>\n",
       "      <th>Price</th>\n",
       "    </tr>\n",
       "  </thead>\n",
       "  <tbody>\n",
       "    <tr>\n",
       "      <th>0</th>\n",
       "      <td>IndiGo</td>\n",
       "      <td>24/03/2019</td>\n",
       "      <td>Banglore</td>\n",
       "      <td>New Delhi</td>\n",
       "      <td>BLR → DEL</td>\n",
       "      <td>22:20</td>\n",
       "      <td>01:10 22 Mar</td>\n",
       "      <td>2h 50m</td>\n",
       "      <td>non-stop</td>\n",
       "      <td>No info</td>\n",
       "      <td>3897</td>\n",
       "    </tr>\n",
       "    <tr>\n",
       "      <th>1</th>\n",
       "      <td>Air India</td>\n",
       "      <td>1/05/2019</td>\n",
       "      <td>Kolkata</td>\n",
       "      <td>Banglore</td>\n",
       "      <td>CCU → IXR → BBI → BLR</td>\n",
       "      <td>05:50</td>\n",
       "      <td>13:15</td>\n",
       "      <td>7h 25m</td>\n",
       "      <td>2 stops</td>\n",
       "      <td>No info</td>\n",
       "      <td>7662</td>\n",
       "    </tr>\n",
       "    <tr>\n",
       "      <th>2</th>\n",
       "      <td>Jet Airways</td>\n",
       "      <td>9/06/2019</td>\n",
       "      <td>Delhi</td>\n",
       "      <td>Cochin</td>\n",
       "      <td>DEL → LKO → BOM → COK</td>\n",
       "      <td>09:25</td>\n",
       "      <td>04:25 10 Jun</td>\n",
       "      <td>19h</td>\n",
       "      <td>2 stops</td>\n",
       "      <td>No info</td>\n",
       "      <td>13882</td>\n",
       "    </tr>\n",
       "    <tr>\n",
       "      <th>3</th>\n",
       "      <td>IndiGo</td>\n",
       "      <td>12/05/2019</td>\n",
       "      <td>Kolkata</td>\n",
       "      <td>Banglore</td>\n",
       "      <td>CCU → NAG → BLR</td>\n",
       "      <td>18:05</td>\n",
       "      <td>23:30</td>\n",
       "      <td>5h 25m</td>\n",
       "      <td>1 stop</td>\n",
       "      <td>No info</td>\n",
       "      <td>6218</td>\n",
       "    </tr>\n",
       "    <tr>\n",
       "      <th>4</th>\n",
       "      <td>IndiGo</td>\n",
       "      <td>01/03/2019</td>\n",
       "      <td>Banglore</td>\n",
       "      <td>New Delhi</td>\n",
       "      <td>BLR → NAG → DEL</td>\n",
       "      <td>16:50</td>\n",
       "      <td>21:35</td>\n",
       "      <td>4h 45m</td>\n",
       "      <td>1 stop</td>\n",
       "      <td>No info</td>\n",
       "      <td>13302</td>\n",
       "    </tr>\n",
       "  </tbody>\n",
       "</table>\n",
       "</div>"
      ],
      "text/plain": [
       "       Airline Date_of_Journey    Source Destination                  Route  \\\n",
       "0       IndiGo      24/03/2019  Banglore   New Delhi              BLR → DEL   \n",
       "1    Air India       1/05/2019   Kolkata    Banglore  CCU → IXR → BBI → BLR   \n",
       "2  Jet Airways       9/06/2019     Delhi      Cochin  DEL → LKO → BOM → COK   \n",
       "3       IndiGo      12/05/2019   Kolkata    Banglore        CCU → NAG → BLR   \n",
       "4       IndiGo      01/03/2019  Banglore   New Delhi        BLR → NAG → DEL   \n",
       "\n",
       "  Dep_Time  Arrival_Time Duration Total_Stops Additional_Info  Price  \n",
       "0    22:20  01:10 22 Mar   2h 50m    non-stop         No info   3897  \n",
       "1    05:50         13:15   7h 25m     2 stops         No info   7662  \n",
       "2    09:25  04:25 10 Jun      19h     2 stops         No info  13882  \n",
       "3    18:05         23:30   5h 25m      1 stop         No info   6218  \n",
       "4    16:50         21:35   4h 45m      1 stop         No info  13302  "
      ]
     },
     "execution_count": 3,
     "metadata": {},
     "output_type": "execute_result"
    }
   ],
   "source": [
    "df.head()"
   ]
  },
  {
   "cell_type": "code",
   "execution_count": 4,
   "id": "d8d3bc2f",
   "metadata": {},
   "outputs": [
    {
     "data": {
      "text/plain": [
       "(10683, 11)"
      ]
     },
     "execution_count": 4,
     "metadata": {},
     "output_type": "execute_result"
    }
   ],
   "source": [
    "df.shape"
   ]
  },
  {
   "cell_type": "code",
   "execution_count": 5,
   "id": "583e6af7",
   "metadata": {},
   "outputs": [
    {
     "data": {
      "text/plain": [
       "Index(['Airline', 'Date_of_Journey', 'Source', 'Destination', 'Route',\n",
       "       'Dep_Time', 'Arrival_Time', 'Duration', 'Total_Stops',\n",
       "       'Additional_Info', 'Price'],\n",
       "      dtype='object')"
      ]
     },
     "execution_count": 5,
     "metadata": {},
     "output_type": "execute_result"
    }
   ],
   "source": [
    "df.columns"
   ]
  },
  {
   "cell_type": "code",
   "execution_count": 6,
   "id": "7332d4ee",
   "metadata": {
    "execution": {
     "iopub.execute_input": "2022-10-01T16:19:45.955884Z",
     "iopub.status.busy": "2022-10-01T16:19:45.955206Z",
     "iopub.status.idle": "2022-10-01T16:19:45.987605Z",
     "shell.execute_reply": "2022-10-01T16:19:45.986357Z"
    },
    "papermill": {
     "duration": 0.062746,
     "end_time": "2022-10-01T16:19:45.990270",
     "exception": false,
     "start_time": "2022-10-01T16:19:45.927524",
     "status": "completed"
    },
    "tags": []
   },
   "outputs": [
    {
     "name": "stdout",
     "output_type": "stream",
     "text": [
      "<class 'pandas.core.frame.DataFrame'>\n",
      "RangeIndex: 10683 entries, 0 to 10682\n",
      "Data columns (total 11 columns):\n",
      " #   Column           Non-Null Count  Dtype \n",
      "---  ------           --------------  ----- \n",
      " 0   Airline          10683 non-null  object\n",
      " 1   Date_of_Journey  10683 non-null  object\n",
      " 2   Source           10683 non-null  object\n",
      " 3   Destination      10683 non-null  object\n",
      " 4   Route            10682 non-null  object\n",
      " 5   Dep_Time         10683 non-null  object\n",
      " 6   Arrival_Time     10683 non-null  object\n",
      " 7   Duration         10683 non-null  object\n",
      " 8   Total_Stops      10682 non-null  object\n",
      " 9   Additional_Info  10683 non-null  object\n",
      " 10  Price            10683 non-null  int64 \n",
      "dtypes: int64(1), object(10)\n",
      "memory usage: 918.2+ KB\n"
     ]
    }
   ],
   "source": [
    "df.info()"
   ]
  },
  {
   "cell_type": "code",
   "execution_count": 7,
   "id": "32b85472",
   "metadata": {
    "execution": {
     "iopub.execute_input": "2022-10-01T16:19:46.234321Z",
     "iopub.status.busy": "2022-10-01T16:19:46.233922Z",
     "iopub.status.idle": "2022-10-01T16:19:46.277879Z",
     "shell.execute_reply": "2022-10-01T16:19:46.276753Z"
    },
    "papermill": {
     "duration": 0.074203,
     "end_time": "2022-10-01T16:19:46.280434",
     "exception": false,
     "start_time": "2022-10-01T16:19:46.206231",
     "status": "completed"
    },
    "tags": []
   },
   "outputs": [
    {
     "data": {
      "text/html": [
       "<div>\n",
       "<style scoped>\n",
       "    .dataframe tbody tr th:only-of-type {\n",
       "        vertical-align: middle;\n",
       "    }\n",
       "\n",
       "    .dataframe tbody tr th {\n",
       "        vertical-align: top;\n",
       "    }\n",
       "\n",
       "    .dataframe thead th {\n",
       "        text-align: right;\n",
       "    }\n",
       "</style>\n",
       "<table border=\"1\" class=\"dataframe\">\n",
       "  <thead>\n",
       "    <tr style=\"text-align: right;\">\n",
       "      <th></th>\n",
       "      <th>Airline</th>\n",
       "      <th>Date_of_Journey</th>\n",
       "      <th>Source</th>\n",
       "      <th>Destination</th>\n",
       "      <th>Route</th>\n",
       "      <th>Dep_Time</th>\n",
       "      <th>Arrival_Time</th>\n",
       "      <th>Duration</th>\n",
       "      <th>Total_Stops</th>\n",
       "      <th>Additional_Info</th>\n",
       "    </tr>\n",
       "  </thead>\n",
       "  <tbody>\n",
       "    <tr>\n",
       "      <th>count</th>\n",
       "      <td>10683</td>\n",
       "      <td>10683</td>\n",
       "      <td>10683</td>\n",
       "      <td>10683</td>\n",
       "      <td>10682</td>\n",
       "      <td>10683</td>\n",
       "      <td>10683</td>\n",
       "      <td>10683</td>\n",
       "      <td>10682</td>\n",
       "      <td>10683</td>\n",
       "    </tr>\n",
       "    <tr>\n",
       "      <th>unique</th>\n",
       "      <td>12</td>\n",
       "      <td>44</td>\n",
       "      <td>5</td>\n",
       "      <td>6</td>\n",
       "      <td>128</td>\n",
       "      <td>222</td>\n",
       "      <td>1343</td>\n",
       "      <td>368</td>\n",
       "      <td>5</td>\n",
       "      <td>10</td>\n",
       "    </tr>\n",
       "    <tr>\n",
       "      <th>top</th>\n",
       "      <td>Jet Airways</td>\n",
       "      <td>18/05/2019</td>\n",
       "      <td>Delhi</td>\n",
       "      <td>Cochin</td>\n",
       "      <td>DEL → BOM → COK</td>\n",
       "      <td>18:55</td>\n",
       "      <td>19:00</td>\n",
       "      <td>2h 50m</td>\n",
       "      <td>1 stop</td>\n",
       "      <td>No info</td>\n",
       "    </tr>\n",
       "    <tr>\n",
       "      <th>freq</th>\n",
       "      <td>3849</td>\n",
       "      <td>504</td>\n",
       "      <td>4537</td>\n",
       "      <td>4537</td>\n",
       "      <td>2376</td>\n",
       "      <td>233</td>\n",
       "      <td>423</td>\n",
       "      <td>550</td>\n",
       "      <td>5625</td>\n",
       "      <td>8345</td>\n",
       "    </tr>\n",
       "  </tbody>\n",
       "</table>\n",
       "</div>"
      ],
      "text/plain": [
       "            Airline Date_of_Journey Source Destination            Route  \\\n",
       "count         10683           10683  10683       10683            10682   \n",
       "unique           12              44      5           6              128   \n",
       "top     Jet Airways      18/05/2019  Delhi      Cochin  DEL → BOM → COK   \n",
       "freq           3849             504   4537        4537             2376   \n",
       "\n",
       "       Dep_Time Arrival_Time Duration Total_Stops Additional_Info  \n",
       "count     10683        10683    10683       10682           10683  \n",
       "unique      222         1343      368           5              10  \n",
       "top       18:55        19:00   2h 50m      1 stop         No info  \n",
       "freq        233          423      550        5625            8345  "
      ]
     },
     "execution_count": 7,
     "metadata": {},
     "output_type": "execute_result"
    }
   ],
   "source": [
    "df.describe(include='O')"
   ]
  },
  {
   "cell_type": "code",
   "execution_count": 8,
   "id": "7b4fb25d",
   "metadata": {
    "execution": {
     "iopub.execute_input": "2022-10-01T16:19:46.097113Z",
     "iopub.status.busy": "2022-10-01T16:19:46.096459Z",
     "iopub.status.idle": "2022-10-01T16:19:46.176351Z",
     "shell.execute_reply": "2022-10-01T16:19:46.175127Z"
    },
    "papermill": {
     "duration": 0.110628,
     "end_time": "2022-10-01T16:19:46.178936",
     "exception": false,
     "start_time": "2022-10-01T16:19:46.068308",
     "status": "completed"
    },
    "tags": []
   },
   "outputs": [
    {
     "data": {
      "text/html": [
       "<div>\n",
       "<style scoped>\n",
       "    .dataframe tbody tr th:only-of-type {\n",
       "        vertical-align: middle;\n",
       "    }\n",
       "\n",
       "    .dataframe tbody tr th {\n",
       "        vertical-align: top;\n",
       "    }\n",
       "\n",
       "    .dataframe thead th {\n",
       "        text-align: right;\n",
       "    }\n",
       "</style>\n",
       "<table border=\"1\" class=\"dataframe\">\n",
       "  <thead>\n",
       "    <tr style=\"text-align: right;\">\n",
       "      <th></th>\n",
       "      <th>Price</th>\n",
       "    </tr>\n",
       "  </thead>\n",
       "  <tbody>\n",
       "    <tr>\n",
       "      <th>count</th>\n",
       "      <td>10683.000000</td>\n",
       "    </tr>\n",
       "    <tr>\n",
       "      <th>mean</th>\n",
       "      <td>9087.064121</td>\n",
       "    </tr>\n",
       "    <tr>\n",
       "      <th>std</th>\n",
       "      <td>4611.359167</td>\n",
       "    </tr>\n",
       "    <tr>\n",
       "      <th>min</th>\n",
       "      <td>1759.000000</td>\n",
       "    </tr>\n",
       "    <tr>\n",
       "      <th>25%</th>\n",
       "      <td>5277.000000</td>\n",
       "    </tr>\n",
       "    <tr>\n",
       "      <th>50%</th>\n",
       "      <td>8372.000000</td>\n",
       "    </tr>\n",
       "    <tr>\n",
       "      <th>75%</th>\n",
       "      <td>12373.000000</td>\n",
       "    </tr>\n",
       "    <tr>\n",
       "      <th>max</th>\n",
       "      <td>79512.000000</td>\n",
       "    </tr>\n",
       "  </tbody>\n",
       "</table>\n",
       "</div>"
      ],
      "text/plain": [
       "              Price\n",
       "count  10683.000000\n",
       "mean    9087.064121\n",
       "std     4611.359167\n",
       "min     1759.000000\n",
       "25%     5277.000000\n",
       "50%     8372.000000\n",
       "75%    12373.000000\n",
       "max    79512.000000"
      ]
     },
     "execution_count": 8,
     "metadata": {},
     "output_type": "execute_result"
    }
   ],
   "source": [
    "df.describe()"
   ]
  },
  {
   "cell_type": "markdown",
   "id": "a7ca1c6e",
   "metadata": {},
   "source": [
    "# <b>2 <span style='color:#0000FF'>|</span> Cleaning data</b>"
   ]
  },
  {
   "cell_type": "code",
   "execution_count": 9,
   "id": "1d1d975e",
   "metadata": {
    "execution": {
     "iopub.execute_input": "2022-10-01T16:19:46.398246Z",
     "iopub.status.busy": "2022-10-01T16:19:46.397850Z",
     "iopub.status.idle": "2022-10-01T16:19:46.412013Z",
     "shell.execute_reply": "2022-10-01T16:19:46.410975Z"
    },
    "papermill": {
     "duration": 0.04513,
     "end_time": "2022-10-01T16:19:46.414430",
     "exception": false,
     "start_time": "2022-10-01T16:19:46.369300",
     "status": "completed"
    },
    "tags": []
   },
   "outputs": [
    {
     "data": {
      "text/plain": [
       "Airline            0\n",
       "Date_of_Journey    0\n",
       "Source             0\n",
       "Destination        0\n",
       "Route              1\n",
       "Dep_Time           0\n",
       "Arrival_Time       0\n",
       "Duration           0\n",
       "Total_Stops        1\n",
       "Additional_Info    0\n",
       "Price              0\n",
       "dtype: int64"
      ]
     },
     "execution_count": 9,
     "metadata": {},
     "output_type": "execute_result"
    }
   ],
   "source": [
    "df.isnull().sum()"
   ]
  },
  {
   "cell_type": "code",
   "execution_count": 10,
   "id": "a0eb178b",
   "metadata": {
    "execution": {
     "iopub.execute_input": "2022-10-01T16:19:46.470060Z",
     "iopub.status.busy": "2022-10-01T16:19:46.469612Z",
     "iopub.status.idle": "2022-10-01T16:19:46.491752Z",
     "shell.execute_reply": "2022-10-01T16:19:46.490548Z"
    },
    "papermill": {
     "duration": 0.053396,
     "end_time": "2022-10-01T16:19:46.494529",
     "exception": false,
     "start_time": "2022-10-01T16:19:46.441133",
     "status": "completed"
    },
    "tags": []
   },
   "outputs": [
    {
     "data": {
      "text/plain": [
       "220"
      ]
     },
     "execution_count": 10,
     "metadata": {},
     "output_type": "execute_result"
    }
   ],
   "source": [
    "df.duplicated().sum()"
   ]
  },
  {
   "cell_type": "markdown",
   "id": "8cc0967d",
   "metadata": {
    "papermill": {
     "duration": 0.026088,
     "end_time": "2022-10-01T16:19:46.547475",
     "exception": false,
     "start_time": "2022-10-01T16:19:46.521387",
     "status": "completed"
    },
    "tags": []
   },
   "source": [
    "#### There are 220 dublicated values which will be dropped "
   ]
  },
  {
   "cell_type": "code",
   "execution_count": 11,
   "id": "981e9341",
   "metadata": {
    "execution": {
     "iopub.execute_input": "2022-10-01T16:19:46.602969Z",
     "iopub.status.busy": "2022-10-01T16:19:46.602579Z",
     "iopub.status.idle": "2022-10-01T16:19:46.621779Z",
     "shell.execute_reply": "2022-10-01T16:19:46.620606Z"
    },
    "papermill": {
     "duration": 0.050268,
     "end_time": "2022-10-01T16:19:46.624425",
     "exception": false,
     "start_time": "2022-10-01T16:19:46.574157",
     "status": "completed"
    },
    "tags": []
   },
   "outputs": [],
   "source": [
    "df.drop_duplicates(inplace=True)"
   ]
  },
  {
   "cell_type": "code",
   "execution_count": 12,
   "id": "2db3a578",
   "metadata": {
    "execution": {
     "iopub.execute_input": "2022-10-01T16:19:46.679834Z",
     "iopub.status.busy": "2022-10-01T16:19:46.679445Z",
     "iopub.status.idle": "2022-10-01T16:19:46.685013Z",
     "shell.execute_reply": "2022-10-01T16:19:46.683987Z"
    },
    "papermill": {
     "duration": 0.036388,
     "end_time": "2022-10-01T16:19:46.687635",
     "exception": false,
     "start_time": "2022-10-01T16:19:46.651247",
     "status": "completed"
    },
    "tags": []
   },
   "outputs": [
    {
     "data": {
      "text/plain": [
       "(10463, 11)"
      ]
     },
     "execution_count": 12,
     "metadata": {},
     "output_type": "execute_result"
    }
   ],
   "source": [
    "df.shape"
   ]
  },
  {
   "cell_type": "markdown",
   "id": "34fbd5e4",
   "metadata": {},
   "source": [
    "# <b>3 <span style='color:#0000FF'>|</span> Feature engineering</b>"
   ]
  },
  {
   "cell_type": "markdown",
   "id": "9bdad261",
   "metadata": {},
   "source": [
    "### Coverting duration to minutes"
   ]
  },
  {
   "cell_type": "code",
   "execution_count": 13,
   "id": "aaf5401e",
   "metadata": {
    "execution": {
     "iopub.execute_input": "2022-10-01T16:19:46.797525Z",
     "iopub.status.busy": "2022-10-01T16:19:46.796198Z",
     "iopub.status.idle": "2022-10-01T16:19:46.803518Z",
     "shell.execute_reply": "2022-10-01T16:19:46.802593Z"
    },
    "papermill": {
     "duration": 0.038037,
     "end_time": "2022-10-01T16:19:46.806054",
     "exception": false,
     "start_time": "2022-10-01T16:19:46.768017",
     "status": "completed"
    },
    "tags": []
   },
   "outputs": [],
   "source": [
    "def convert_time(df,col_name):\n",
    "    \n",
    "    h = df[col_name].str.extract('(\\d+)h', expand=False).astype(float) * 60\n",
    "    m = df[col_name].str.extract('(\\d+)m', expand=False).astype(float)\n",
    "    df[col_name] = h.add(m, fill_value=0).astype(int).astype(str) + 'm'\n",
    "    \n",
    "    ## convert to integer\n",
    "    df[col_name]=df[col_name].apply(lambda x: int(x.split('m')[0]))\n",
    "    \n",
    "    \n",
    "    "
   ]
  },
  {
   "cell_type": "markdown",
   "id": "22725732",
   "metadata": {},
   "source": [
    "### Splitting departure and arrival time in intervals"
   ]
  },
  {
   "cell_type": "code",
   "execution_count": 14,
   "id": "d5a6d3ff",
   "metadata": {
    "execution": {
     "iopub.execute_input": "2022-10-01T16:19:46.862125Z",
     "iopub.status.busy": "2022-10-01T16:19:46.861699Z",
     "iopub.status.idle": "2022-10-01T16:19:46.869918Z",
     "shell.execute_reply": "2022-10-01T16:19:46.868675Z"
    },
    "papermill": {
     "duration": 0.039281,
     "end_time": "2022-10-01T16:19:46.872290",
     "exception": false,
     "start_time": "2022-10-01T16:19:46.833009",
     "status": "completed"
    },
    "tags": []
   },
   "outputs": [],
   "source": [
    "def split(x):\n",
    "    x=float(x.split(':')[0])\n",
    "    if (x > 4) and (x <= 8):\n",
    "        return 'Early Morning'\n",
    "    elif (x > 8) and (x <= 12 ):\n",
    "        return 'Morning'\n",
    "    elif (x > 12) and (x <= 16):\n",
    "        return'Noon'\n",
    "    elif (x > 16) and (x <= 20) :\n",
    "        return 'Evening'\n",
    "    elif (x > 20) and (x <= 24):\n",
    "        return'Night'\n",
    "    elif (x <= 4):\n",
    "        return'Late Night'"
   ]
  },
  {
   "cell_type": "markdown",
   "id": "c719f17d",
   "metadata": {},
   "source": [
    "### Extracting day and month from date of journey"
   ]
  },
  {
   "cell_type": "code",
   "execution_count": 15,
   "id": "4a3b0012",
   "metadata": {
    "execution": {
     "iopub.execute_input": "2022-10-01T16:19:46.928143Z",
     "iopub.status.busy": "2022-10-01T16:19:46.927713Z",
     "iopub.status.idle": "2022-10-01T16:19:46.935862Z",
     "shell.execute_reply": "2022-10-01T16:19:46.934614Z"
    },
    "papermill": {
     "duration": 0.038975,
     "end_time": "2022-10-01T16:19:46.938219",
     "exception": false,
     "start_time": "2022-10-01T16:19:46.899244",
     "status": "completed"
    },
    "tags": []
   },
   "outputs": [],
   "source": [
    "def process_data(df):\n",
    "    df['Date_of_Journey']=pd.to_datetime(df.Date_of_Journey)\n",
    "    df['Month']=df['Date_of_Journey'].dt.month\n",
    "    df['Day']=df['Date_of_Journey'].dt.day_name()\n",
    "\n",
    "    ### convert Duration column to numerical value in minutes\n",
    "    convert_time(df,'Duration')\n",
    "\n",
    "    ### convert Dep_time and Arrival_time to Part of day such as (evening, noon , morning ...)\n",
    "    df['Dep_Time']=df['Dep_Time'].apply(split)\n",
    "    df['Arrival_Time']=df['Arrival_Time'].apply(split)\n",
    "    \n",
    "    ### drop non benefit columns\n",
    "    df.drop(columns=['Date_of_Journey','Route'],axis=1,inplace=True)\n",
    "    \n",
    "    ### Reindex the dataframe columns\n",
    "    df=df.reindex(columns=['Airline', 'Source', 'Destination','Month', 'Day','Dep_Time', 'Arrival_Time',\n",
    "       'Duration', 'Total_Stops', 'Additional_Info', 'Price'])\n",
    "    \n",
    "    return df"
   ]
  },
  {
   "cell_type": "code",
   "execution_count": 16,
   "id": "9ab7f257",
   "metadata": {
    "execution": {
     "iopub.execute_input": "2022-10-01T16:19:46.993838Z",
     "iopub.status.busy": "2022-10-01T16:19:46.993276Z",
     "iopub.status.idle": "2022-10-01T16:19:47.090264Z",
     "shell.execute_reply": "2022-10-01T16:19:47.088983Z"
    },
    "papermill": {
     "duration": 0.128034,
     "end_time": "2022-10-01T16:19:47.092961",
     "exception": false,
     "start_time": "2022-10-01T16:19:46.964927",
     "status": "completed"
    },
    "scrolled": true,
    "tags": []
   },
   "outputs": [
    {
     "data": {
      "text/html": [
       "<div>\n",
       "<style scoped>\n",
       "    .dataframe tbody tr th:only-of-type {\n",
       "        vertical-align: middle;\n",
       "    }\n",
       "\n",
       "    .dataframe tbody tr th {\n",
       "        vertical-align: top;\n",
       "    }\n",
       "\n",
       "    .dataframe thead th {\n",
       "        text-align: right;\n",
       "    }\n",
       "</style>\n",
       "<table border=\"1\" class=\"dataframe\">\n",
       "  <thead>\n",
       "    <tr style=\"text-align: right;\">\n",
       "      <th></th>\n",
       "      <th>Airline</th>\n",
       "      <th>Source</th>\n",
       "      <th>Destination</th>\n",
       "      <th>Month</th>\n",
       "      <th>Day</th>\n",
       "      <th>Dep_Time</th>\n",
       "      <th>Arrival_Time</th>\n",
       "      <th>Duration</th>\n",
       "      <th>Total_Stops</th>\n",
       "      <th>Additional_Info</th>\n",
       "      <th>Price</th>\n",
       "    </tr>\n",
       "  </thead>\n",
       "  <tbody>\n",
       "    <tr>\n",
       "      <th>0</th>\n",
       "      <td>IndiGo</td>\n",
       "      <td>Banglore</td>\n",
       "      <td>New Delhi</td>\n",
       "      <td>3</td>\n",
       "      <td>Sunday</td>\n",
       "      <td>Night</td>\n",
       "      <td>Late Night</td>\n",
       "      <td>170</td>\n",
       "      <td>non-stop</td>\n",
       "      <td>No info</td>\n",
       "      <td>3897</td>\n",
       "    </tr>\n",
       "    <tr>\n",
       "      <th>1</th>\n",
       "      <td>Air India</td>\n",
       "      <td>Kolkata</td>\n",
       "      <td>Banglore</td>\n",
       "      <td>1</td>\n",
       "      <td>Saturday</td>\n",
       "      <td>Early Morning</td>\n",
       "      <td>Noon</td>\n",
       "      <td>445</td>\n",
       "      <td>2 stops</td>\n",
       "      <td>No info</td>\n",
       "      <td>7662</td>\n",
       "    </tr>\n",
       "    <tr>\n",
       "      <th>2</th>\n",
       "      <td>Jet Airways</td>\n",
       "      <td>Delhi</td>\n",
       "      <td>Cochin</td>\n",
       "      <td>9</td>\n",
       "      <td>Friday</td>\n",
       "      <td>Morning</td>\n",
       "      <td>Late Night</td>\n",
       "      <td>1140</td>\n",
       "      <td>2 stops</td>\n",
       "      <td>No info</td>\n",
       "      <td>13882</td>\n",
       "    </tr>\n",
       "    <tr>\n",
       "      <th>3</th>\n",
       "      <td>IndiGo</td>\n",
       "      <td>Kolkata</td>\n",
       "      <td>Banglore</td>\n",
       "      <td>12</td>\n",
       "      <td>Thursday</td>\n",
       "      <td>Evening</td>\n",
       "      <td>Night</td>\n",
       "      <td>325</td>\n",
       "      <td>1 stop</td>\n",
       "      <td>No info</td>\n",
       "      <td>6218</td>\n",
       "    </tr>\n",
       "    <tr>\n",
       "      <th>4</th>\n",
       "      <td>IndiGo</td>\n",
       "      <td>Banglore</td>\n",
       "      <td>New Delhi</td>\n",
       "      <td>1</td>\n",
       "      <td>Thursday</td>\n",
       "      <td>Noon</td>\n",
       "      <td>Night</td>\n",
       "      <td>285</td>\n",
       "      <td>1 stop</td>\n",
       "      <td>No info</td>\n",
       "      <td>13302</td>\n",
       "    </tr>\n",
       "  </tbody>\n",
       "</table>\n",
       "</div>"
      ],
      "text/plain": [
       "       Airline    Source Destination  Month       Day       Dep_Time  \\\n",
       "0       IndiGo  Banglore   New Delhi      3    Sunday          Night   \n",
       "1    Air India   Kolkata    Banglore      1  Saturday  Early Morning   \n",
       "2  Jet Airways     Delhi      Cochin      9    Friday        Morning   \n",
       "3       IndiGo   Kolkata    Banglore     12  Thursday        Evening   \n",
       "4       IndiGo  Banglore   New Delhi      1  Thursday           Noon   \n",
       "\n",
       "  Arrival_Time  Duration Total_Stops Additional_Info  Price  \n",
       "0   Late Night       170    non-stop         No info   3897  \n",
       "1         Noon       445     2 stops         No info   7662  \n",
       "2   Late Night      1140     2 stops         No info  13882  \n",
       "3        Night       325      1 stop         No info   6218  \n",
       "4        Night       285      1 stop         No info  13302  "
      ]
     },
     "execution_count": 16,
     "metadata": {},
     "output_type": "execute_result"
    }
   ],
   "source": [
    "df=process_data(df)\n",
    "df.head()"
   ]
  },
  {
   "cell_type": "code",
   "execution_count": 17,
   "id": "c04e6551",
   "metadata": {
    "execution": {
     "iopub.execute_input": "2022-10-01T16:19:47.150190Z",
     "iopub.status.busy": "2022-10-01T16:19:47.149784Z",
     "iopub.status.idle": "2022-10-01T16:19:47.164037Z",
     "shell.execute_reply": "2022-10-01T16:19:47.162689Z"
    },
    "papermill": {
     "duration": 0.046062,
     "end_time": "2022-10-01T16:19:47.166840",
     "exception": false,
     "start_time": "2022-10-01T16:19:47.120778",
     "status": "completed"
    },
    "tags": []
   },
   "outputs": [],
   "source": [
    "df=df.dropna()"
   ]
  },
  {
   "cell_type": "code",
   "execution_count": 18,
   "id": "a6023e59",
   "metadata": {
    "execution": {
     "iopub.execute_input": "2022-10-01T16:19:47.222805Z",
     "iopub.status.busy": "2022-10-01T16:19:47.222394Z",
     "iopub.status.idle": "2022-10-01T16:19:47.236055Z",
     "shell.execute_reply": "2022-10-01T16:19:47.234831Z"
    },
    "papermill": {
     "duration": 0.044102,
     "end_time": "2022-10-01T16:19:47.238269",
     "exception": false,
     "start_time": "2022-10-01T16:19:47.194167",
     "status": "completed"
    },
    "tags": []
   },
   "outputs": [
    {
     "data": {
      "text/plain": [
       "Airline            0\n",
       "Source             0\n",
       "Destination        0\n",
       "Month              0\n",
       "Day                0\n",
       "Dep_Time           0\n",
       "Arrival_Time       0\n",
       "Duration           0\n",
       "Total_Stops        0\n",
       "Additional_Info    0\n",
       "Price              0\n",
       "dtype: int64"
      ]
     },
     "execution_count": 18,
     "metadata": {},
     "output_type": "execute_result"
    }
   ],
   "source": [
    "df.isnull().sum()"
   ]
  },
  {
   "cell_type": "markdown",
   "id": "d36ae9c8",
   "metadata": {},
   "source": [
    "# <b>4 <span style='color:#0000FF'>|</span> Data Analysis and Data Visualization</b>"
   ]
  },
  {
   "cell_type": "markdown",
   "id": "9e56f89a",
   "metadata": {
    "papermill": {
     "duration": 0.039921,
     "end_time": "2022-10-01T16:19:51.493881",
     "exception": false,
     "start_time": "2022-10-01T16:19:51.453960",
     "status": "completed"
    },
    "tags": []
   },
   "source": [
    "<div style=\"color:yellow;display:fill;border-radius:8px;\n",
    "            background-color:#0000FF;font-size:150%;\n",
    "            font-family:Nexa;letter-spacing:0.5px\">\n",
    "    <p style=\"padding: 8px\n",
    ";color:white;\"><b>4.1 | Target Feature [Price] </b></p>\n",
    "</div>. "
   ]
  },
  {
   "cell_type": "code",
   "execution_count": 19,
   "id": "8f8a2318",
   "metadata": {
    "execution": {
     "iopub.execute_input": "2022-10-01T16:19:51.576400Z",
     "iopub.status.busy": "2022-10-01T16:19:51.575954Z",
     "iopub.status.idle": "2022-10-01T16:19:51.593137Z",
     "shell.execute_reply": "2022-10-01T16:19:51.591766Z"
    },
    "papermill": {
     "duration": 0.061329,
     "end_time": "2022-10-01T16:19:51.595912",
     "exception": false,
     "start_time": "2022-10-01T16:19:51.534583",
     "status": "completed"
    },
    "tags": []
   },
   "outputs": [
    {
     "data": {
      "text/html": [
       "<div>\n",
       "<style scoped>\n",
       "    .dataframe tbody tr th:only-of-type {\n",
       "        vertical-align: middle;\n",
       "    }\n",
       "\n",
       "    .dataframe tbody tr th {\n",
       "        vertical-align: top;\n",
       "    }\n",
       "\n",
       "    .dataframe thead th {\n",
       "        text-align: right;\n",
       "    }\n",
       "</style>\n",
       "<table border=\"1\" class=\"dataframe\">\n",
       "  <thead>\n",
       "    <tr style=\"text-align: right;\">\n",
       "      <th></th>\n",
       "      <th>count</th>\n",
       "      <th>mean</th>\n",
       "      <th>std</th>\n",
       "      <th>min</th>\n",
       "      <th>25%</th>\n",
       "      <th>50%</th>\n",
       "      <th>75%</th>\n",
       "      <th>max</th>\n",
       "    </tr>\n",
       "  </thead>\n",
       "  <tbody>\n",
       "    <tr>\n",
       "      <th>Price</th>\n",
       "      <td>10462.0</td>\n",
       "      <td>9026.790289</td>\n",
       "      <td>4624.849541</td>\n",
       "      <td>1759.0</td>\n",
       "      <td>5224.0</td>\n",
       "      <td>8266.0</td>\n",
       "      <td>12344.75</td>\n",
       "      <td>79512.0</td>\n",
       "    </tr>\n",
       "  </tbody>\n",
       "</table>\n",
       "</div>"
      ],
      "text/plain": [
       "         count         mean          std     min     25%     50%       75%  \\\n",
       "Price  10462.0  9026.790289  4624.849541  1759.0  5224.0  8266.0  12344.75   \n",
       "\n",
       "           max  \n",
       "Price  79512.0  "
      ]
     },
     "execution_count": 19,
     "metadata": {},
     "output_type": "execute_result"
    }
   ],
   "source": [
    "df[['Price']].describe().T"
   ]
  },
  {
   "cell_type": "code",
   "execution_count": 20,
   "id": "ff30809b",
   "metadata": {
    "execution": {
     "iopub.execute_input": "2022-10-01T16:19:51.691891Z",
     "iopub.status.busy": "2022-10-01T16:19:51.690395Z",
     "iopub.status.idle": "2022-10-01T16:19:52.316286Z",
     "shell.execute_reply": "2022-10-01T16:19:52.314719Z"
    },
    "papermill": {
     "duration": 0.678104,
     "end_time": "2022-10-01T16:19:52.319088",
     "exception": false,
     "start_time": "2022-10-01T16:19:51.640984",
     "status": "completed"
    },
    "scrolled": true,
    "tags": []
   },
   "outputs": [
    {
     "data": {
      "image/png": "[encoded data removed]",
      "text/plain": [
       "<Figure size 1080x576 with 2 Axes>"
      ]
     },
     "metadata": {},
     "output_type": "display_data"
    }
   ],
   "source": [
    "fig , ax = plt.subplots(1,2,figsize=(15,8))\n",
    "sns.distplot(df['Price'],ax=ax[0])\n",
    "sns.boxplot(data=df,x='Price',ax=ax[1])\n",
    "plt.show()"
   ]
  },
  {
   "cell_type": "code",
   "execution_count": 21,
   "id": "ef45cd0a",
   "metadata": {
    "execution": {
     "iopub.execute_input": "2022-10-01T16:19:52.403591Z",
     "iopub.status.busy": "2022-10-01T16:19:52.403179Z",
     "iopub.status.idle": "2022-10-01T16:19:52.431208Z",
     "shell.execute_reply": "2022-10-01T16:19:52.429880Z"
    },
    "papermill": {
     "duration": 0.073518,
     "end_time": "2022-10-01T16:19:52.434080",
     "exception": false,
     "start_time": "2022-10-01T16:19:52.360562",
     "status": "completed"
    },
    "scrolled": true,
    "tags": []
   },
   "outputs": [
    {
     "data": {
      "text/html": [
       "<div>\n",
       "<style scoped>\n",
       "    .dataframe tbody tr th:only-of-type {\n",
       "        vertical-align: middle;\n",
       "    }\n",
       "\n",
       "    .dataframe tbody tr th {\n",
       "        vertical-align: top;\n",
       "    }\n",
       "\n",
       "    .dataframe thead th {\n",
       "        text-align: right;\n",
       "    }\n",
       "</style>\n",
       "<table border=\"1\" class=\"dataframe\">\n",
       "  <thead>\n",
       "    <tr style=\"text-align: right;\">\n",
       "      <th></th>\n",
       "      <th>index</th>\n",
       "      <th>Airline</th>\n",
       "      <th>Source</th>\n",
       "      <th>Destination</th>\n",
       "      <th>Month</th>\n",
       "      <th>Day</th>\n",
       "      <th>Dep_Time</th>\n",
       "      <th>Arrival_Time</th>\n",
       "      <th>Duration</th>\n",
       "      <th>Total_Stops</th>\n",
       "      <th>Additional_Info</th>\n",
       "      <th>Price</th>\n",
       "    </tr>\n",
       "  </thead>\n",
       "  <tbody>\n",
       "    <tr>\n",
       "      <th>0</th>\n",
       "      <td>2924</td>\n",
       "      <td>Jet Airways Business</td>\n",
       "      <td>Banglore</td>\n",
       "      <td>New Delhi</td>\n",
       "      <td>1</td>\n",
       "      <td>Thursday</td>\n",
       "      <td>Early Morning</td>\n",
       "      <td>Morning</td>\n",
       "      <td>340</td>\n",
       "      <td>1 stop</td>\n",
       "      <td>Business class</td>\n",
       "      <td>79512</td>\n",
       "    </tr>\n",
       "    <tr>\n",
       "      <th>1</th>\n",
       "      <td>5372</td>\n",
       "      <td>Jet Airways Business</td>\n",
       "      <td>Banglore</td>\n",
       "      <td>New Delhi</td>\n",
       "      <td>1</td>\n",
       "      <td>Thursday</td>\n",
       "      <td>Early Morning</td>\n",
       "      <td>Morning</td>\n",
       "      <td>400</td>\n",
       "      <td>1 stop</td>\n",
       "      <td>Business class</td>\n",
       "      <td>62427</td>\n",
       "    </tr>\n",
       "    <tr>\n",
       "      <th>2</th>\n",
       "      <td>10364</td>\n",
       "      <td>Jet Airways Business</td>\n",
       "      <td>Banglore</td>\n",
       "      <td>New Delhi</td>\n",
       "      <td>1</td>\n",
       "      <td>Thursday</td>\n",
       "      <td>Morning</td>\n",
       "      <td>Noon</td>\n",
       "      <td>280</td>\n",
       "      <td>1 stop</td>\n",
       "      <td>Business class</td>\n",
       "      <td>57209</td>\n",
       "    </tr>\n",
       "    <tr>\n",
       "      <th>3</th>\n",
       "      <td>5439</td>\n",
       "      <td>Jet Airways</td>\n",
       "      <td>Banglore</td>\n",
       "      <td>New Delhi</td>\n",
       "      <td>1</td>\n",
       "      <td>Thursday</td>\n",
       "      <td>Noon</td>\n",
       "      <td>Night</td>\n",
       "      <td>365</td>\n",
       "      <td>1 stop</td>\n",
       "      <td>No info</td>\n",
       "      <td>54826</td>\n",
       "    </tr>\n",
       "    <tr>\n",
       "      <th>4</th>\n",
       "      <td>1478</td>\n",
       "      <td>Jet Airways</td>\n",
       "      <td>Banglore</td>\n",
       "      <td>New Delhi</td>\n",
       "      <td>3</td>\n",
       "      <td>Monday</td>\n",
       "      <td>Evening</td>\n",
       "      <td>Late Night</td>\n",
       "      <td>365</td>\n",
       "      <td>1 stop</td>\n",
       "      <td>No info</td>\n",
       "      <td>54826</td>\n",
       "    </tr>\n",
       "    <tr>\n",
       "      <th>5</th>\n",
       "      <td>2618</td>\n",
       "      <td>Jet Airways</td>\n",
       "      <td>Banglore</td>\n",
       "      <td>New Delhi</td>\n",
       "      <td>3</td>\n",
       "      <td>Monday</td>\n",
       "      <td>Night</td>\n",
       "      <td>Early Morning</td>\n",
       "      <td>375</td>\n",
       "      <td>1 stop</td>\n",
       "      <td>No info</td>\n",
       "      <td>54826</td>\n",
       "    </tr>\n",
       "    <tr>\n",
       "      <th>6</th>\n",
       "      <td>9715</td>\n",
       "      <td>Jet Airways Business</td>\n",
       "      <td>Delhi</td>\n",
       "      <td>Cochin</td>\n",
       "      <td>6</td>\n",
       "      <td>Monday</td>\n",
       "      <td>Evening</td>\n",
       "      <td>Late Night</td>\n",
       "      <td>500</td>\n",
       "      <td>2 stops</td>\n",
       "      <td>No info</td>\n",
       "      <td>52285</td>\n",
       "    </tr>\n",
       "    <tr>\n",
       "      <th>7</th>\n",
       "      <td>657</td>\n",
       "      <td>Jet Airways Business</td>\n",
       "      <td>Banglore</td>\n",
       "      <td>New Delhi</td>\n",
       "      <td>1</td>\n",
       "      <td>Thursday</td>\n",
       "      <td>Early Morning</td>\n",
       "      <td>Morning</td>\n",
       "      <td>300</td>\n",
       "      <td>1 stop</td>\n",
       "      <td>No info</td>\n",
       "      <td>52229</td>\n",
       "    </tr>\n",
       "    <tr>\n",
       "      <th>8</th>\n",
       "      <td>7351</td>\n",
       "      <td>Jet Airways Business</td>\n",
       "      <td>Delhi</td>\n",
       "      <td>Cochin</td>\n",
       "      <td>3</td>\n",
       "      <td>Sunday</td>\n",
       "      <td>Evening</td>\n",
       "      <td>Late Night</td>\n",
       "      <td>500</td>\n",
       "      <td>2 stops</td>\n",
       "      <td>No info</td>\n",
       "      <td>46490</td>\n",
       "    </tr>\n",
       "    <tr>\n",
       "      <th>9</th>\n",
       "      <td>396</td>\n",
       "      <td>Multiple carriers</td>\n",
       "      <td>Delhi</td>\n",
       "      <td>Cochin</td>\n",
       "      <td>1</td>\n",
       "      <td>Thursday</td>\n",
       "      <td>Morning</td>\n",
       "      <td>Evening</td>\n",
       "      <td>385</td>\n",
       "      <td>1 stop</td>\n",
       "      <td>No info</td>\n",
       "      <td>36983</td>\n",
       "    </tr>\n",
       "    <tr>\n",
       "      <th>10</th>\n",
       "      <td>2099</td>\n",
       "      <td>Jet Airways</td>\n",
       "      <td>Banglore</td>\n",
       "      <td>New Delhi</td>\n",
       "      <td>1</td>\n",
       "      <td>Thursday</td>\n",
       "      <td>Noon</td>\n",
       "      <td>Evening</td>\n",
       "      <td>305</td>\n",
       "      <td>1 stop</td>\n",
       "      <td>No info</td>\n",
       "      <td>36235</td>\n",
       "    </tr>\n",
       "    <tr>\n",
       "      <th>11</th>\n",
       "      <td>5719</td>\n",
       "      <td>Jet Airways</td>\n",
       "      <td>Banglore</td>\n",
       "      <td>New Delhi</td>\n",
       "      <td>1</td>\n",
       "      <td>Thursday</td>\n",
       "      <td>Noon</td>\n",
       "      <td>Night</td>\n",
       "      <td>435</td>\n",
       "      <td>1 stop</td>\n",
       "      <td>No info</td>\n",
       "      <td>36235</td>\n",
       "    </tr>\n",
       "    <tr>\n",
       "      <th>12</th>\n",
       "      <td>2693</td>\n",
       "      <td>Jet Airways</td>\n",
       "      <td>Banglore</td>\n",
       "      <td>New Delhi</td>\n",
       "      <td>1</td>\n",
       "      <td>Thursday</td>\n",
       "      <td>Evening</td>\n",
       "      <td>Late Night</td>\n",
       "      <td>365</td>\n",
       "      <td>1 stop</td>\n",
       "      <td>No info</td>\n",
       "      <td>35185</td>\n",
       "    </tr>\n",
       "    <tr>\n",
       "      <th>13</th>\n",
       "      <td>8598</td>\n",
       "      <td>Multiple carriers</td>\n",
       "      <td>Delhi</td>\n",
       "      <td>Cochin</td>\n",
       "      <td>9</td>\n",
       "      <td>Tuesday</td>\n",
       "      <td>Noon</td>\n",
       "      <td>Late Night</td>\n",
       "      <td>630</td>\n",
       "      <td>2 stops</td>\n",
       "      <td>No info</td>\n",
       "      <td>34608</td>\n",
       "    </tr>\n",
       "    <tr>\n",
       "      <th>14</th>\n",
       "      <td>7617</td>\n",
       "      <td>Multiple carriers</td>\n",
       "      <td>Delhi</td>\n",
       "      <td>Cochin</td>\n",
       "      <td>3</td>\n",
       "      <td>Sunday</td>\n",
       "      <td>Noon</td>\n",
       "      <td>Late Night</td>\n",
       "      <td>630</td>\n",
       "      <td>2 stops</td>\n",
       "      <td>No info</td>\n",
       "      <td>34503</td>\n",
       "    </tr>\n",
       "    <tr>\n",
       "      <th>15</th>\n",
       "      <td>6991</td>\n",
       "      <td>Multiple carriers</td>\n",
       "      <td>Delhi</td>\n",
       "      <td>Cochin</td>\n",
       "      <td>9</td>\n",
       "      <td>Thursday</td>\n",
       "      <td>Morning</td>\n",
       "      <td>Late Night</td>\n",
       "      <td>760</td>\n",
       "      <td>1 stop</td>\n",
       "      <td>No info</td>\n",
       "      <td>34273</td>\n",
       "    </tr>\n",
       "    <tr>\n",
       "      <th>16</th>\n",
       "      <td>10052</td>\n",
       "      <td>Air India</td>\n",
       "      <td>Kolkata</td>\n",
       "      <td>Banglore</td>\n",
       "      <td>3</td>\n",
       "      <td>Sunday</td>\n",
       "      <td>Evening</td>\n",
       "      <td>Night</td>\n",
       "      <td>155</td>\n",
       "      <td>non-stop</td>\n",
       "      <td>No info</td>\n",
       "      <td>31945</td>\n",
       "    </tr>\n",
       "    <tr>\n",
       "      <th>17</th>\n",
       "      <td>3700</td>\n",
       "      <td>Jet Airways</td>\n",
       "      <td>Banglore</td>\n",
       "      <td>New Delhi</td>\n",
       "      <td>1</td>\n",
       "      <td>Thursday</td>\n",
       "      <td>Night</td>\n",
       "      <td>Morning</td>\n",
       "      <td>640</td>\n",
       "      <td>1 stop</td>\n",
       "      <td>1 Long layover</td>\n",
       "      <td>31825</td>\n",
       "    </tr>\n",
       "    <tr>\n",
       "      <th>18</th>\n",
       "      <td>10439</td>\n",
       "      <td>Jet Airways</td>\n",
       "      <td>Banglore</td>\n",
       "      <td>New Delhi</td>\n",
       "      <td>1</td>\n",
       "      <td>Thursday</td>\n",
       "      <td>Evening</td>\n",
       "      <td>Morning</td>\n",
       "      <td>860</td>\n",
       "      <td>1 stop</td>\n",
       "      <td>No info</td>\n",
       "      <td>31825</td>\n",
       "    </tr>\n",
       "    <tr>\n",
       "      <th>19</th>\n",
       "      <td>9019</td>\n",
       "      <td>Jet Airways</td>\n",
       "      <td>Banglore</td>\n",
       "      <td>New Delhi</td>\n",
       "      <td>1</td>\n",
       "      <td>Thursday</td>\n",
       "      <td>Night</td>\n",
       "      <td>Morning</td>\n",
       "      <td>755</td>\n",
       "      <td>1 stop</td>\n",
       "      <td>1 Long layover</td>\n",
       "      <td>31825</td>\n",
       "    </tr>\n",
       "  </tbody>\n",
       "</table>\n",
       "</div>"
      ],
      "text/plain": [
       "    index               Airline    Source Destination  Month       Day  \\\n",
       "0    2924  Jet Airways Business  Banglore   New Delhi      1  Thursday   \n",
       "1    5372  Jet Airways Business  Banglore   New Delhi      1  Thursday   \n",
       "2   10364  Jet Airways Business  Banglore   New Delhi      1  Thursday   \n",
       "3    5439           Jet Airways  Banglore   New Delhi      1  Thursday   \n",
       "4    1478           Jet Airways  Banglore   New Delhi      3    Monday   \n",
       "5    2618           Jet Airways  Banglore   New Delhi      3    Monday   \n",
       "6    9715  Jet Airways Business     Delhi      Cochin      6    Monday   \n",
       "7     657  Jet Airways Business  Banglore   New Delhi      1  Thursday   \n",
       "8    7351  Jet Airways Business     Delhi      Cochin      3    Sunday   \n",
       "9     396     Multiple carriers     Delhi      Cochin      1  Thursday   \n",
       "10   2099           Jet Airways  Banglore   New Delhi      1  Thursday   \n",
       "11   5719           Jet Airways  Banglore   New Delhi      1  Thursday   \n",
       "12   2693           Jet Airways  Banglore   New Delhi      1  Thursday   \n",
       "13   8598     Multiple carriers     Delhi      Cochin      9   Tuesday   \n",
       "14   7617     Multiple carriers     Delhi      Cochin      3    Sunday   \n",
       "15   6991     Multiple carriers     Delhi      Cochin      9  Thursday   \n",
       "16  10052             Air India   Kolkata    Banglore      3    Sunday   \n",
       "17   3700           Jet Airways  Banglore   New Delhi      1  Thursday   \n",
       "18  10439           Jet Airways  Banglore   New Delhi      1  Thursday   \n",
       "19   9019           Jet Airways  Banglore   New Delhi      1  Thursday   \n",
       "\n",
       "         Dep_Time   Arrival_Time  Duration Total_Stops Additional_Info  Price  \n",
       "0   Early Morning        Morning       340      1 stop  Business class  79512  \n",
       "1   Early Morning        Morning       400      1 stop  Business class  62427  \n",
       "2         Morning           Noon       280      1 stop  Business class  57209  \n",
       "3            Noon          Night       365      1 stop         No info  54826  \n",
       "4         Evening     Late Night       365      1 stop         No info  54826  \n",
       "5           Night  Early Morning       375      1 stop         No info  54826  \n",
       "6         Evening     Late Night       500     2 stops         No info  52285  \n",
       "7   Early Morning        Morning       300      1 stop         No info  52229  \n",
       "8         Evening     Late Night       500     2 stops         No info  46490  \n",
       "9         Morning        Evening       385      1 stop         No info  36983  \n",
       "10           Noon        Evening       305      1 stop         No info  36235  \n",
       "11           Noon          Night       435      1 stop         No info  36235  \n",
       "12        Evening     Late Night       365      1 stop         No info  35185  \n",
       "13           Noon     Late Night       630     2 stops         No info  34608  \n",
       "14           Noon     Late Night       630     2 stops         No info  34503  \n",
       "15        Morning     Late Night       760      1 stop         No info  34273  \n",
       "16        Evening          Night       155    non-stop         No info  31945  \n",
       "17          Night        Morning       640      1 stop  1 Long layover  31825  \n",
       "18        Evening        Morning       860      1 stop         No info  31825  \n",
       "19          Night        Morning       755      1 stop  1 Long layover  31825  "
      ]
     },
     "execution_count": 21,
     "metadata": {},
     "output_type": "execute_result"
    }
   ],
   "source": [
    "top_highest_price = df.sort_values(\"Price\", ascending = False).reset_index().head(20)\n",
    "top_highest_price"
   ]
  },
  {
   "cell_type": "code",
   "execution_count": 22,
   "id": "c00c8cc4",
   "metadata": {
    "execution": {
     "iopub.execute_input": "2022-10-01T16:19:52.522507Z",
     "iopub.status.busy": "2022-10-01T16:19:52.521584Z",
     "iopub.status.idle": "2022-10-01T16:19:52.546557Z",
     "shell.execute_reply": "2022-10-01T16:19:52.545657Z"
    },
    "papermill": {
     "duration": 0.072039,
     "end_time": "2022-10-01T16:19:52.548785",
     "exception": false,
     "start_time": "2022-10-01T16:19:52.476746",
     "status": "completed"
    },
    "scrolled": true,
    "tags": []
   },
   "outputs": [
    {
     "data": {
      "text/html": [
       "<div>\n",
       "<style scoped>\n",
       "    .dataframe tbody tr th:only-of-type {\n",
       "        vertical-align: middle;\n",
       "    }\n",
       "\n",
       "    .dataframe tbody tr th {\n",
       "        vertical-align: top;\n",
       "    }\n",
       "\n",
       "    .dataframe thead th {\n",
       "        text-align: right;\n",
       "    }\n",
       "</style>\n",
       "<table border=\"1\" class=\"dataframe\">\n",
       "  <thead>\n",
       "    <tr style=\"text-align: right;\">\n",
       "      <th></th>\n",
       "      <th>index</th>\n",
       "      <th>Airline</th>\n",
       "      <th>Source</th>\n",
       "      <th>Destination</th>\n",
       "      <th>Month</th>\n",
       "      <th>Day</th>\n",
       "      <th>Dep_Time</th>\n",
       "      <th>Arrival_Time</th>\n",
       "      <th>Duration</th>\n",
       "      <th>Total_Stops</th>\n",
       "      <th>Additional_Info</th>\n",
       "      <th>Price</th>\n",
       "    </tr>\n",
       "  </thead>\n",
       "  <tbody>\n",
       "    <tr>\n",
       "      <th>0</th>\n",
       "      <td>4839</td>\n",
       "      <td>SpiceJet</td>\n",
       "      <td>Mumbai</td>\n",
       "      <td>Hyderabad</td>\n",
       "      <td>3</td>\n",
       "      <td>Monday</td>\n",
       "      <td>Night</td>\n",
       "      <td>Late Night</td>\n",
       "      <td>90</td>\n",
       "      <td>non-stop</td>\n",
       "      <td>No info</td>\n",
       "      <td>1759</td>\n",
       "    </tr>\n",
       "    <tr>\n",
       "      <th>1</th>\n",
       "      <td>4274</td>\n",
       "      <td>SpiceJet</td>\n",
       "      <td>Mumbai</td>\n",
       "      <td>Hyderabad</td>\n",
       "      <td>3</td>\n",
       "      <td>Wednesday</td>\n",
       "      <td>Night</td>\n",
       "      <td>Late Night</td>\n",
       "      <td>85</td>\n",
       "      <td>non-stop</td>\n",
       "      <td>No info</td>\n",
       "      <td>1759</td>\n",
       "    </tr>\n",
       "    <tr>\n",
       "      <th>2</th>\n",
       "      <td>10513</td>\n",
       "      <td>SpiceJet</td>\n",
       "      <td>Mumbai</td>\n",
       "      <td>Hyderabad</td>\n",
       "      <td>3</td>\n",
       "      <td>Wednesday</td>\n",
       "      <td>Early Morning</td>\n",
       "      <td>Early Morning</td>\n",
       "      <td>80</td>\n",
       "      <td>non-stop</td>\n",
       "      <td>No info</td>\n",
       "      <td>1759</td>\n",
       "    </tr>\n",
       "    <tr>\n",
       "      <th>3</th>\n",
       "      <td>4066</td>\n",
       "      <td>SpiceJet</td>\n",
       "      <td>Mumbai</td>\n",
       "      <td>Hyderabad</td>\n",
       "      <td>3</td>\n",
       "      <td>Thursday</td>\n",
       "      <td>Night</td>\n",
       "      <td>Late Night</td>\n",
       "      <td>85</td>\n",
       "      <td>non-stop</td>\n",
       "      <td>No info</td>\n",
       "      <td>1759</td>\n",
       "    </tr>\n",
       "    <tr>\n",
       "      <th>4</th>\n",
       "      <td>1513</td>\n",
       "      <td>Jet Airways</td>\n",
       "      <td>Mumbai</td>\n",
       "      <td>Hyderabad</td>\n",
       "      <td>3</td>\n",
       "      <td>Wednesday</td>\n",
       "      <td>Late Night</td>\n",
       "      <td>Late Night</td>\n",
       "      <td>90</td>\n",
       "      <td>non-stop</td>\n",
       "      <td>In-flight meal not included</td>\n",
       "      <td>1840</td>\n",
       "    </tr>\n",
       "    <tr>\n",
       "      <th>5</th>\n",
       "      <td>8223</td>\n",
       "      <td>SpiceJet</td>\n",
       "      <td>Mumbai</td>\n",
       "      <td>Hyderabad</td>\n",
       "      <td>12</td>\n",
       "      <td>Thursday</td>\n",
       "      <td>Night</td>\n",
       "      <td>Late Night</td>\n",
       "      <td>90</td>\n",
       "      <td>non-stop</td>\n",
       "      <td>No check-in baggage included</td>\n",
       "      <td>1965</td>\n",
       "    </tr>\n",
       "    <tr>\n",
       "      <th>6</th>\n",
       "      <td>2102</td>\n",
       "      <td>SpiceJet</td>\n",
       "      <td>Mumbai</td>\n",
       "      <td>Hyderabad</td>\n",
       "      <td>6</td>\n",
       "      <td>Thursday</td>\n",
       "      <td>Noon</td>\n",
       "      <td>Noon</td>\n",
       "      <td>90</td>\n",
       "      <td>non-stop</td>\n",
       "      <td>No check-in baggage included</td>\n",
       "      <td>1965</td>\n",
       "    </tr>\n",
       "    <tr>\n",
       "      <th>7</th>\n",
       "      <td>2724</td>\n",
       "      <td>SpiceJet</td>\n",
       "      <td>Mumbai</td>\n",
       "      <td>Hyderabad</td>\n",
       "      <td>5</td>\n",
       "      <td>Tuesday</td>\n",
       "      <td>Night</td>\n",
       "      <td>Late Night</td>\n",
       "      <td>90</td>\n",
       "      <td>non-stop</td>\n",
       "      <td>No check-in baggage included</td>\n",
       "      <td>1965</td>\n",
       "    </tr>\n",
       "    <tr>\n",
       "      <th>8</th>\n",
       "      <td>655</td>\n",
       "      <td>SpiceJet</td>\n",
       "      <td>Mumbai</td>\n",
       "      <td>Hyderabad</td>\n",
       "      <td>3</td>\n",
       "      <td>Tuesday</td>\n",
       "      <td>Noon</td>\n",
       "      <td>Noon</td>\n",
       "      <td>90</td>\n",
       "      <td>non-stop</td>\n",
       "      <td>No check-in baggage included</td>\n",
       "      <td>1965</td>\n",
       "    </tr>\n",
       "    <tr>\n",
       "      <th>9</th>\n",
       "      <td>10433</td>\n",
       "      <td>SpiceJet</td>\n",
       "      <td>Mumbai</td>\n",
       "      <td>Hyderabad</td>\n",
       "      <td>5</td>\n",
       "      <td>Saturday</td>\n",
       "      <td>Early Morning</td>\n",
       "      <td>Early Morning</td>\n",
       "      <td>90</td>\n",
       "      <td>non-stop</td>\n",
       "      <td>No check-in baggage included</td>\n",
       "      <td>1965</td>\n",
       "    </tr>\n",
       "    <tr>\n",
       "      <th>10</th>\n",
       "      <td>7519</td>\n",
       "      <td>SpiceJet</td>\n",
       "      <td>Mumbai</td>\n",
       "      <td>Hyderabad</td>\n",
       "      <td>6</td>\n",
       "      <td>Friday</td>\n",
       "      <td>Noon</td>\n",
       "      <td>Noon</td>\n",
       "      <td>90</td>\n",
       "      <td>non-stop</td>\n",
       "      <td>No check-in baggage included</td>\n",
       "      <td>1965</td>\n",
       "    </tr>\n",
       "    <tr>\n",
       "      <th>11</th>\n",
       "      <td>6142</td>\n",
       "      <td>SpiceJet</td>\n",
       "      <td>Mumbai</td>\n",
       "      <td>Hyderabad</td>\n",
       "      <td>6</td>\n",
       "      <td>Saturday</td>\n",
       "      <td>Noon</td>\n",
       "      <td>Noon</td>\n",
       "      <td>90</td>\n",
       "      <td>non-stop</td>\n",
       "      <td>No check-in baggage included</td>\n",
       "      <td>1965</td>\n",
       "    </tr>\n",
       "    <tr>\n",
       "      <th>12</th>\n",
       "      <td>3505</td>\n",
       "      <td>SpiceJet</td>\n",
       "      <td>Mumbai</td>\n",
       "      <td>Hyderabad</td>\n",
       "      <td>5</td>\n",
       "      <td>Wednesday</td>\n",
       "      <td>Night</td>\n",
       "      <td>Late Night</td>\n",
       "      <td>90</td>\n",
       "      <td>non-stop</td>\n",
       "      <td>No check-in baggage included</td>\n",
       "      <td>1965</td>\n",
       "    </tr>\n",
       "    <tr>\n",
       "      <th>13</th>\n",
       "      <td>5742</td>\n",
       "      <td>SpiceJet</td>\n",
       "      <td>Mumbai</td>\n",
       "      <td>Hyderabad</td>\n",
       "      <td>6</td>\n",
       "      <td>Wednesday</td>\n",
       "      <td>Early Morning</td>\n",
       "      <td>Early Morning</td>\n",
       "      <td>90</td>\n",
       "      <td>non-stop</td>\n",
       "      <td>No check-in baggage included</td>\n",
       "      <td>1965</td>\n",
       "    </tr>\n",
       "    <tr>\n",
       "      <th>14</th>\n",
       "      <td>7480</td>\n",
       "      <td>SpiceJet</td>\n",
       "      <td>Mumbai</td>\n",
       "      <td>Hyderabad</td>\n",
       "      <td>6</td>\n",
       "      <td>Thursday</td>\n",
       "      <td>Night</td>\n",
       "      <td>Late Night</td>\n",
       "      <td>90</td>\n",
       "      <td>non-stop</td>\n",
       "      <td>No check-in baggage included</td>\n",
       "      <td>1965</td>\n",
       "    </tr>\n",
       "    <tr>\n",
       "      <th>15</th>\n",
       "      <td>5788</td>\n",
       "      <td>SpiceJet</td>\n",
       "      <td>Mumbai</td>\n",
       "      <td>Hyderabad</td>\n",
       "      <td>9</td>\n",
       "      <td>Thursday</td>\n",
       "      <td>Night</td>\n",
       "      <td>Late Night</td>\n",
       "      <td>90</td>\n",
       "      <td>non-stop</td>\n",
       "      <td>No check-in baggage included</td>\n",
       "      <td>1965</td>\n",
       "    </tr>\n",
       "    <tr>\n",
       "      <th>16</th>\n",
       "      <td>8282</td>\n",
       "      <td>SpiceJet</td>\n",
       "      <td>Mumbai</td>\n",
       "      <td>Hyderabad</td>\n",
       "      <td>6</td>\n",
       "      <td>Saturday</td>\n",
       "      <td>Night</td>\n",
       "      <td>Late Night</td>\n",
       "      <td>90</td>\n",
       "      <td>non-stop</td>\n",
       "      <td>No check-in baggage included</td>\n",
       "      <td>1965</td>\n",
       "    </tr>\n",
       "    <tr>\n",
       "      <th>17</th>\n",
       "      <td>4534</td>\n",
       "      <td>SpiceJet</td>\n",
       "      <td>Mumbai</td>\n",
       "      <td>Hyderabad</td>\n",
       "      <td>3</td>\n",
       "      <td>Wednesday</td>\n",
       "      <td>Noon</td>\n",
       "      <td>Noon</td>\n",
       "      <td>90</td>\n",
       "      <td>non-stop</td>\n",
       "      <td>No check-in baggage included</td>\n",
       "      <td>1965</td>\n",
       "    </tr>\n",
       "    <tr>\n",
       "      <th>18</th>\n",
       "      <td>1718</td>\n",
       "      <td>SpiceJet</td>\n",
       "      <td>Mumbai</td>\n",
       "      <td>Hyderabad</td>\n",
       "      <td>5</td>\n",
       "      <td>Friday</td>\n",
       "      <td>Early Morning</td>\n",
       "      <td>Early Morning</td>\n",
       "      <td>90</td>\n",
       "      <td>non-stop</td>\n",
       "      <td>No check-in baggage included</td>\n",
       "      <td>1965</td>\n",
       "    </tr>\n",
       "    <tr>\n",
       "      <th>19</th>\n",
       "      <td>228</td>\n",
       "      <td>SpiceJet</td>\n",
       "      <td>Mumbai</td>\n",
       "      <td>Hyderabad</td>\n",
       "      <td>5</td>\n",
       "      <td>Tuesday</td>\n",
       "      <td>Early Morning</td>\n",
       "      <td>Early Morning</td>\n",
       "      <td>90</td>\n",
       "      <td>non-stop</td>\n",
       "      <td>No check-in baggage included</td>\n",
       "      <td>1965</td>\n",
       "    </tr>\n",
       "  </tbody>\n",
       "</table>\n",
       "</div>"
      ],
      "text/plain": [
       "    index      Airline  Source Destination  Month        Day       Dep_Time  \\\n",
       "0    4839     SpiceJet  Mumbai   Hyderabad      3     Monday          Night   \n",
       "1    4274     SpiceJet  Mumbai   Hyderabad      3  Wednesday          Night   \n",
       "2   10513     SpiceJet  Mumbai   Hyderabad      3  Wednesday  Early Morning   \n",
       "3    4066     SpiceJet  Mumbai   Hyderabad      3   Thursday          Night   \n",
       "4    1513  Jet Airways  Mumbai   Hyderabad      3  Wednesday     Late Night   \n",
       "5    8223     SpiceJet  Mumbai   Hyderabad     12   Thursday          Night   \n",
       "6    2102     SpiceJet  Mumbai   Hyderabad      6   Thursday           Noon   \n",
       "7    2724     SpiceJet  Mumbai   Hyderabad      5    Tuesday          Night   \n",
       "8     655     SpiceJet  Mumbai   Hyderabad      3    Tuesday           Noon   \n",
       "9   10433     SpiceJet  Mumbai   Hyderabad      5   Saturday  Early Morning   \n",
       "10   7519     SpiceJet  Mumbai   Hyderabad      6     Friday           Noon   \n",
       "11   6142     SpiceJet  Mumbai   Hyderabad      6   Saturday           Noon   \n",
       "12   3505     SpiceJet  Mumbai   Hyderabad      5  Wednesday          Night   \n",
       "13   5742     SpiceJet  Mumbai   Hyderabad      6  Wednesday  Early Morning   \n",
       "14   7480     SpiceJet  Mumbai   Hyderabad      6   Thursday          Night   \n",
       "15   5788     SpiceJet  Mumbai   Hyderabad      9   Thursday          Night   \n",
       "16   8282     SpiceJet  Mumbai   Hyderabad      6   Saturday          Night   \n",
       "17   4534     SpiceJet  Mumbai   Hyderabad      3  Wednesday           Noon   \n",
       "18   1718     SpiceJet  Mumbai   Hyderabad      5     Friday  Early Morning   \n",
       "19    228     SpiceJet  Mumbai   Hyderabad      5    Tuesday  Early Morning   \n",
       "\n",
       "     Arrival_Time  Duration Total_Stops               Additional_Info  Price  \n",
       "0      Late Night        90    non-stop                       No info   1759  \n",
       "1      Late Night        85    non-stop                       No info   1759  \n",
       "2   Early Morning        80    non-stop                       No info   1759  \n",
       "3      Late Night        85    non-stop                       No info   1759  \n",
       "4      Late Night        90    non-stop   In-flight meal not included   1840  \n",
       "5      Late Night        90    non-stop  No check-in baggage included   1965  \n",
       "6            Noon        90    non-stop  No check-in baggage included   1965  \n",
       "7      Late Night        90    non-stop  No check-in baggage included   1965  \n",
       "8            Noon        90    non-stop  No check-in baggage included   1965  \n",
       "9   Early Morning        90    non-stop  No check-in baggage included   1965  \n",
       "10           Noon        90    non-stop  No check-in baggage included   1965  \n",
       "11           Noon        90    non-stop  No check-in baggage included   1965  \n",
       "12     Late Night        90    non-stop  No check-in baggage included   1965  \n",
       "13  Early Morning        90    non-stop  No check-in baggage included   1965  \n",
       "14     Late Night        90    non-stop  No check-in baggage included   1965  \n",
       "15     Late Night        90    non-stop  No check-in baggage included   1965  \n",
       "16     Late Night        90    non-stop  No check-in baggage included   1965  \n",
       "17           Noon        90    non-stop  No check-in baggage included   1965  \n",
       "18  Early Morning        90    non-stop  No check-in baggage included   1965  \n",
       "19  Early Morning        90    non-stop  No check-in baggage included   1965  "
      ]
     },
     "execution_count": 22,
     "metadata": {},
     "output_type": "execute_result"
    }
   ],
   "source": [
    "top_lowest_price = df.sort_values(\"Price\", ascending = True).reset_index().head(20)\n",
    "top_lowest_price"
   ]
  },
  {
   "cell_type": "markdown",
   "id": "05337e54",
   "metadata": {
    "papermill": {
     "duration": 0.042111,
     "end_time": "2022-10-01T16:19:52.633953",
     "exception": false,
     "start_time": "2022-10-01T16:19:52.591842",
     "status": "completed"
    },
    "tags": []
   },
   "source": [
    "<div style=\"color:yellow;display:fill;border-radius:8px;\n",
    "            background-color:#0000FF;font-size:150%;\n",
    "            font-family:Nexa;letter-spacing:0.5px\">\n",
    "    <p style=\"padding: 8px\n",
    ";color:white;\"><b>4.2 | Numerical Features </b></p>\n",
    "</div>. \n",
    "\n",
    "- **Duration**"
   ]
  },
  {
   "cell_type": "code",
   "execution_count": 23,
   "id": "f5f68192",
   "metadata": {
    "execution": {
     "iopub.execute_input": "2022-10-01T16:19:52.721754Z",
     "iopub.status.busy": "2022-10-01T16:19:52.721319Z",
     "iopub.status.idle": "2022-10-01T16:19:52.744236Z",
     "shell.execute_reply": "2022-10-01T16:19:52.743098Z"
    },
    "papermill": {
     "duration": 0.069376,
     "end_time": "2022-10-01T16:19:52.746796",
     "exception": false,
     "start_time": "2022-10-01T16:19:52.677420",
     "status": "completed"
    },
    "tags": []
   },
   "outputs": [
    {
     "data": {
      "text/html": [
       "<div>\n",
       "<style scoped>\n",
       "    .dataframe tbody tr th:only-of-type {\n",
       "        vertical-align: middle;\n",
       "    }\n",
       "\n",
       "    .dataframe tbody tr th {\n",
       "        vertical-align: top;\n",
       "    }\n",
       "\n",
       "    .dataframe thead th {\n",
       "        text-align: right;\n",
       "    }\n",
       "</style>\n",
       "<table border=\"1\" class=\"dataframe\">\n",
       "  <thead>\n",
       "    <tr style=\"text-align: right;\">\n",
       "      <th></th>\n",
       "      <th>count</th>\n",
       "      <th>mean</th>\n",
       "      <th>std</th>\n",
       "      <th>min</th>\n",
       "      <th>25%</th>\n",
       "      <th>50%</th>\n",
       "      <th>75%</th>\n",
       "      <th>max</th>\n",
       "    </tr>\n",
       "  </thead>\n",
       "  <tbody>\n",
       "    <tr>\n",
       "      <th>Duration</th>\n",
       "      <td>10462.0</td>\n",
       "      <td>629.781591</td>\n",
       "      <td>500.699045</td>\n",
       "      <td>5.0</td>\n",
       "      <td>170.0</td>\n",
       "      <td>505.0</td>\n",
       "      <td>910.0</td>\n",
       "      <td>2860.0</td>\n",
       "    </tr>\n",
       "  </tbody>\n",
       "</table>\n",
       "</div>"
      ],
      "text/plain": [
       "            count        mean         std  min    25%    50%    75%     max\n",
       "Duration  10462.0  629.781591  500.699045  5.0  170.0  505.0  910.0  2860.0"
      ]
     },
     "execution_count": 23,
     "metadata": {},
     "output_type": "execute_result"
    }
   ],
   "source": [
    "df[['Duration']].describe().T"
   ]
  },
  {
   "cell_type": "code",
   "execution_count": 24,
   "id": "52116039",
   "metadata": {
    "execution": {
     "iopub.execute_input": "2022-10-01T16:19:52.835717Z",
     "iopub.status.busy": "2022-10-01T16:19:52.834857Z",
     "iopub.status.idle": "2022-10-01T16:19:53.467242Z",
     "shell.execute_reply": "2022-10-01T16:19:53.465987Z"
    },
    "papermill": {
     "duration": 0.680244,
     "end_time": "2022-10-01T16:19:53.469783",
     "exception": false,
     "start_time": "2022-10-01T16:19:52.789539",
     "status": "completed"
    },
    "tags": []
   },
   "outputs": [
    {
     "data": {
      "text/plain": [
       "<seaborn.axisgrid.FacetGrid at 0x284955ff9d0>"
      ]
     },
     "execution_count": 24,
     "metadata": {},
     "output_type": "execute_result"
    },
    {
     "data": {
      "image/png": "[encoded data removed]",
      "text/plain": [
       "<Figure size 360x360 with 1 Axes>"
      ]
     },
     "metadata": {},
     "output_type": "display_data"
    }
   ],
   "source": [
    "sns.displot(df.Duration,bins=30,kde=True)"
   ]
  },
  {
   "cell_type": "code",
   "execution_count": 25,
   "id": "92ad8c5d",
   "metadata": {},
   "outputs": [
    {
     "data": {
      "text/plain": [
       "Text(0.5, 1.0, 'Average prices depending on the duration')"
      ]
     },
     "execution_count": 25,
     "metadata": {},
     "output_type": "execute_result"
    },
    {
     "data": {
      "image/png": "[encoded data removed]",
      "text/plain": [
       "<Figure size 720x432 with 1 Axes>"
      ]
     },
     "metadata": {},
     "output_type": "display_data"
    }
   ],
   "source": [
    "### Average prices depending on the duration\n",
    "Duration_df=df.groupby(['Duration'])['Price'].mean().reset_index()\n",
    "sns.scatterplot(data=Duration_df,x='Duration',y='Price').set_title(\"Average prices depending on the duration\",fontsize=15)"
   ]
  },
  {
   "cell_type": "markdown",
   "id": "41398045",
   "metadata": {
    "papermill": {
     "duration": 0.046927,
     "end_time": "2022-10-01T16:19:59.157056",
     "exception": false,
     "start_time": "2022-10-01T16:19:59.110129",
     "status": "completed"
    },
    "tags": []
   },
   "source": [
    "<div style=\"color:yellow;display:fill;border-radius:8px;\n",
    "            background-color:#0000FF;font-size:150%;\n",
    "            font-family:Nexa;letter-spacing:0.5px\">\n",
    "    <p style=\"padding: 8px\n",
    ";color:white;\"><b>4.3 | Categorical Features </b></p>\n",
    "</div>. "
   ]
  },
  {
   "cell_type": "markdown",
   "id": "160ea1fe",
   "metadata": {
    "papermill": {
     "duration": 0.046609,
     "end_time": "2022-10-01T16:19:59.250549",
     "exception": false,
     "start_time": "2022-10-01T16:19:59.203940",
     "status": "completed"
    },
    "tags": []
   },
   "source": [
    "- **Airline**\n",
    "-  **Source**\n",
    "- **Destination**\n",
    "- **Dep_Time**\n",
    "- **Arrival_Time**\n",
    "- **Total_Stops**\n",
    "- **Additional_Info**\n",
    "- **Month**\n",
    "- **Day**"
   ]
  },
  {
   "cell_type": "code",
   "execution_count": 26,
   "id": "74e72ab5",
   "metadata": {
    "execution": {
     "iopub.execute_input": "2022-10-01T16:19:59.348285Z",
     "iopub.status.busy": "2022-10-01T16:19:59.347894Z",
     "iopub.status.idle": "2022-10-01T16:19:59.353178Z",
     "shell.execute_reply": "2022-10-01T16:19:59.351994Z"
    },
    "papermill": {
     "duration": 0.056812,
     "end_time": "2022-10-01T16:19:59.355460",
     "exception": false,
     "start_time": "2022-10-01T16:19:59.298648",
     "status": "completed"
    },
    "tags": []
   },
   "outputs": [],
   "source": [
    "cat_cols=['Airline', 'Source', 'Destination', 'Dep_Time', 'Arrival_Time', 'Total_Stops', 'Additional_Info','Month', 'Day']"
   ]
  },
  {
   "cell_type": "code",
   "execution_count": 27,
   "id": "043f8167",
   "metadata": {
    "execution": {
     "iopub.execute_input": "2022-10-01T16:19:59.452131Z",
     "iopub.status.busy": "2022-10-01T16:19:59.451266Z",
     "iopub.status.idle": "2022-10-01T16:19:59.466661Z",
     "shell.execute_reply": "2022-10-01T16:19:59.465391Z"
    },
    "papermill": {
     "duration": 0.06745,
     "end_time": "2022-10-01T16:19:59.469955",
     "exception": false,
     "start_time": "2022-10-01T16:19:59.402505",
     "status": "completed"
    },
    "tags": []
   },
   "outputs": [
    {
     "name": "stdout",
     "output_type": "stream",
     "text": [
      "--- Airline---\n",
      "['IndiGo' 'Air India' 'Jet Airways' 'SpiceJet' 'Multiple carriers' 'GoAir'\n",
      " 'Vistara' 'Air Asia' 'Vistara Premium economy' 'Jet Airways Business'\n",
      " 'Multiple carriers Premium economy' 'Trujet']\n",
      "__________________________________________________________________________________________\n",
      "--- Source---\n",
      "['Banglore' 'Kolkata' 'Delhi' 'Chennai' 'Mumbai']\n",
      "__________________________________________________________________________________________\n",
      "--- Destination---\n",
      "['New Delhi' 'Banglore' 'Cochin' 'Kolkata' 'Delhi' 'Hyderabad']\n",
      "__________________________________________________________________________________________\n",
      "--- Dep_Time---\n",
      "['Night' 'Early Morning' 'Morning' 'Evening' 'Noon' 'Late Night']\n",
      "__________________________________________________________________________________________\n",
      "--- Arrival_Time---\n",
      "['Late Night' 'Noon' 'Night' 'Morning' 'Early Morning' 'Evening']\n",
      "__________________________________________________________________________________________\n",
      "--- Total_Stops---\n",
      "['non-stop' '2 stops' '1 stop' '3 stops' '4 stops']\n",
      "__________________________________________________________________________________________\n",
      "--- Additional_Info---\n",
      "['No info' 'In-flight meal not included' 'No check-in baggage included'\n",
      " '1 Short layover' 'No Info' '1 Long layover' 'Change airports'\n",
      " 'Business class' 'Red-eye flight' '2 Long layover']\n",
      "__________________________________________________________________________________________\n",
      "--- Month---\n",
      "[ 3  1  9 12  6  5  4]\n",
      "__________________________________________________________________________________________\n",
      "--- Day---\n",
      "['Sunday' 'Saturday' 'Friday' 'Thursday' 'Monday' 'Tuesday' 'Wednesday']\n",
      "__________________________________________________________________________________________\n"
     ]
    }
   ],
   "source": [
    "for col in cat_cols:\n",
    "    print(f'--- {col}---')\n",
    "    print(df[col].unique())\n",
    "    print('_'*90)"
   ]
  },
  {
   "cell_type": "markdown",
   "id": "07add658",
   "metadata": {
    "papermill": {
     "duration": 0.047036,
     "end_time": "2022-10-01T16:19:59.564802",
     "exception": false,
     "start_time": "2022-10-01T16:19:59.517766",
     "status": "completed"
    },
    "tags": []
   },
   "source": [
    "   <div style=\"color:yellow;display:fill;border-radius:8px;\n",
    "            background-color:#ffcc00;font-size:160%;\n",
    "            font-family:Nexa;letter-spacing:0.5px\">\n",
    "    <p style=\"padding: 8px\n",
    ";color:blue;\"><b> Airline  </b></p>\n",
    "</div>\n"
   ]
  },
  {
   "cell_type": "code",
   "execution_count": 28,
   "id": "3b06c7e9",
   "metadata": {
    "execution": {
     "iopub.execute_input": "2022-10-01T16:19:59.661660Z",
     "iopub.status.busy": "2022-10-01T16:19:59.661238Z",
     "iopub.status.idle": "2022-10-01T16:19:59.670835Z",
     "shell.execute_reply": "2022-10-01T16:19:59.669914Z"
    },
    "papermill": {
     "duration": 0.061256,
     "end_time": "2022-10-01T16:19:59.673078",
     "exception": false,
     "start_time": "2022-10-01T16:19:59.611822",
     "status": "completed"
    },
    "tags": []
   },
   "outputs": [
    {
     "data": {
      "text/plain": [
       "Jet Airways                          3700\n",
       "IndiGo                               2043\n",
       "Air India                            1694\n",
       "Multiple carriers                    1196\n",
       "SpiceJet                              815\n",
       "Vistara                               478\n",
       "Air Asia                              319\n",
       "GoAir                                 194\n",
       "Multiple carriers Premium economy      13\n",
       "Jet Airways Business                    6\n",
       "Vistara Premium economy                 3\n",
       "Trujet                                  1\n",
       "Name: Airline, dtype: int64"
      ]
     },
     "execution_count": 28,
     "metadata": {},
     "output_type": "execute_result"
    }
   ],
   "source": [
    "df.Airline.value_counts()"
   ]
  },
  {
   "cell_type": "code",
   "execution_count": 29,
   "id": "269a279f",
   "metadata": {
    "execution": {
     "iopub.execute_input": "2022-10-01T16:19:59.769482Z",
     "iopub.status.busy": "2022-10-01T16:19:59.769054Z",
     "iopub.status.idle": "2022-10-01T16:19:59.845501Z",
     "shell.execute_reply": "2022-10-01T16:19:59.844253Z"
    },
    "papermill": {
     "duration": 0.127918,
     "end_time": "2022-10-01T16:19:59.848035",
     "exception": false,
     "start_time": "2022-10-01T16:19:59.720117",
     "status": "completed"
    },
    "tags": []
   },
   "outputs": [
    {
     "data": {
      "text/html": [
       "<div>\n",
       "<style scoped>\n",
       "    .dataframe tbody tr th:only-of-type {\n",
       "        vertical-align: middle;\n",
       "    }\n",
       "\n",
       "    .dataframe tbody tr th {\n",
       "        vertical-align: top;\n",
       "    }\n",
       "\n",
       "    .dataframe thead tr th {\n",
       "        text-align: left;\n",
       "    }\n",
       "\n",
       "    .dataframe thead tr:last-of-type th {\n",
       "        text-align: right;\n",
       "    }\n",
       "</style>\n",
       "<table border=\"1\" class=\"dataframe\">\n",
       "  <thead>\n",
       "    <tr>\n",
       "      <th></th>\n",
       "      <th colspan=\"8\" halign=\"left\">Price</th>\n",
       "    </tr>\n",
       "    <tr>\n",
       "      <th></th>\n",
       "      <th>count</th>\n",
       "      <th>mean</th>\n",
       "      <th>std</th>\n",
       "      <th>min</th>\n",
       "      <th>25%</th>\n",
       "      <th>50%</th>\n",
       "      <th>75%</th>\n",
       "      <th>max</th>\n",
       "    </tr>\n",
       "    <tr>\n",
       "      <th>Airline</th>\n",
       "      <th></th>\n",
       "      <th></th>\n",
       "      <th></th>\n",
       "      <th></th>\n",
       "      <th></th>\n",
       "      <th></th>\n",
       "      <th></th>\n",
       "      <th></th>\n",
       "    </tr>\n",
       "  </thead>\n",
       "  <tbody>\n",
       "    <tr>\n",
       "      <th>Air Asia</th>\n",
       "      <td>319.0</td>\n",
       "      <td>5590.260188</td>\n",
       "      <td>2027.362290</td>\n",
       "      <td>3383.0</td>\n",
       "      <td>4282.00</td>\n",
       "      <td>5162.0</td>\n",
       "      <td>6451.00</td>\n",
       "      <td>13774.0</td>\n",
       "    </tr>\n",
       "    <tr>\n",
       "      <th>Air India</th>\n",
       "      <td>1694.0</td>\n",
       "      <td>9556.608028</td>\n",
       "      <td>3937.875634</td>\n",
       "      <td>2050.0</td>\n",
       "      <td>6597.75</td>\n",
       "      <td>9316.0</td>\n",
       "      <td>12199.00</td>\n",
       "      <td>31945.0</td>\n",
       "    </tr>\n",
       "    <tr>\n",
       "      <th>GoAir</th>\n",
       "      <td>194.0</td>\n",
       "      <td>5861.056701</td>\n",
       "      <td>2703.585767</td>\n",
       "      <td>3398.0</td>\n",
       "      <td>3898.00</td>\n",
       "      <td>5135.0</td>\n",
       "      <td>6811.25</td>\n",
       "      <td>22794.0</td>\n",
       "    </tr>\n",
       "    <tr>\n",
       "      <th>IndiGo</th>\n",
       "      <td>2043.0</td>\n",
       "      <td>5668.469897</td>\n",
       "      <td>2266.933697</td>\n",
       "      <td>2227.0</td>\n",
       "      <td>4226.00</td>\n",
       "      <td>5000.0</td>\n",
       "      <td>6493.00</td>\n",
       "      <td>22153.0</td>\n",
       "    </tr>\n",
       "    <tr>\n",
       "      <th>Jet Airways</th>\n",
       "      <td>3700.0</td>\n",
       "      <td>11599.021081</td>\n",
       "      <td>4315.671402</td>\n",
       "      <td>1840.0</td>\n",
       "      <td>8586.00</td>\n",
       "      <td>11134.0</td>\n",
       "      <td>14151.00</td>\n",
       "      <td>54826.0</td>\n",
       "    </tr>\n",
       "    <tr>\n",
       "      <th>Jet Airways Business</th>\n",
       "      <td>6.0</td>\n",
       "      <td>58358.666667</td>\n",
       "      <td>11667.596748</td>\n",
       "      <td>46490.0</td>\n",
       "      <td>52243.00</td>\n",
       "      <td>54747.0</td>\n",
       "      <td>61122.50</td>\n",
       "      <td>79512.0</td>\n",
       "    </tr>\n",
       "    <tr>\n",
       "      <th>Multiple carriers</th>\n",
       "      <td>1196.0</td>\n",
       "      <td>10902.678094</td>\n",
       "      <td>3721.234997</td>\n",
       "      <td>5797.0</td>\n",
       "      <td>7723.00</td>\n",
       "      <td>10197.0</td>\n",
       "      <td>13587.00</td>\n",
       "      <td>36983.0</td>\n",
       "    </tr>\n",
       "    <tr>\n",
       "      <th>Multiple carriers Premium economy</th>\n",
       "      <td>13.0</td>\n",
       "      <td>11418.846154</td>\n",
       "      <td>1717.153936</td>\n",
       "      <td>9845.0</td>\n",
       "      <td>10161.00</td>\n",
       "      <td>11269.0</td>\n",
       "      <td>11269.00</td>\n",
       "      <td>14629.0</td>\n",
       "    </tr>\n",
       "    <tr>\n",
       "      <th>SpiceJet</th>\n",
       "      <td>815.0</td>\n",
       "      <td>4335.841718</td>\n",
       "      <td>1851.144678</td>\n",
       "      <td>1759.0</td>\n",
       "      <td>3573.00</td>\n",
       "      <td>3873.0</td>\n",
       "      <td>4760.00</td>\n",
       "      <td>23267.0</td>\n",
       "    </tr>\n",
       "    <tr>\n",
       "      <th>Trujet</th>\n",
       "      <td>1.0</td>\n",
       "      <td>4140.000000</td>\n",
       "      <td>NaN</td>\n",
       "      <td>4140.0</td>\n",
       "      <td>4140.00</td>\n",
       "      <td>4140.0</td>\n",
       "      <td>4140.00</td>\n",
       "      <td>4140.0</td>\n",
       "    </tr>\n",
       "    <tr>\n",
       "      <th>Vistara</th>\n",
       "      <td>478.0</td>\n",
       "      <td>7801.355649</td>\n",
       "      <td>2915.288625</td>\n",
       "      <td>3687.0</td>\n",
       "      <td>5403.00</td>\n",
       "      <td>7980.0</td>\n",
       "      <td>9345.00</td>\n",
       "      <td>21730.0</td>\n",
       "    </tr>\n",
       "    <tr>\n",
       "      <th>Vistara Premium economy</th>\n",
       "      <td>3.0</td>\n",
       "      <td>8962.333333</td>\n",
       "      <td>2915.405518</td>\n",
       "      <td>5969.0</td>\n",
       "      <td>7547.00</td>\n",
       "      <td>9125.0</td>\n",
       "      <td>10459.00</td>\n",
       "      <td>11793.0</td>\n",
       "    </tr>\n",
       "  </tbody>\n",
       "</table>\n",
       "</div>"
      ],
      "text/plain": [
       "                                    Price                              \\\n",
       "                                    count          mean           std   \n",
       "Airline                                                                 \n",
       "Air Asia                            319.0   5590.260188   2027.362290   \n",
       "Air India                          1694.0   9556.608028   3937.875634   \n",
       "GoAir                               194.0   5861.056701   2703.585767   \n",
       "IndiGo                             2043.0   5668.469897   2266.933697   \n",
       "Jet Airways                        3700.0  11599.021081   4315.671402   \n",
       "Jet Airways Business                  6.0  58358.666667  11667.596748   \n",
       "Multiple carriers                  1196.0  10902.678094   3721.234997   \n",
       "Multiple carriers Premium economy    13.0  11418.846154   1717.153936   \n",
       "SpiceJet                            815.0   4335.841718   1851.144678   \n",
       "Trujet                                1.0   4140.000000           NaN   \n",
       "Vistara                             478.0   7801.355649   2915.288625   \n",
       "Vistara Premium economy               3.0   8962.333333   2915.405518   \n",
       "\n",
       "                                                                         \\\n",
       "                                       min       25%      50%       75%   \n",
       "Airline                                                                   \n",
       "Air Asia                            3383.0   4282.00   5162.0   6451.00   \n",
       "Air India                           2050.0   6597.75   9316.0  12199.00   \n",
       "GoAir                               3398.0   3898.00   5135.0   6811.25   \n",
       "IndiGo                              2227.0   4226.00   5000.0   6493.00   \n",
       "Jet Airways                         1840.0   8586.00  11134.0  14151.00   \n",
       "Jet Airways Business               46490.0  52243.00  54747.0  61122.50   \n",
       "Multiple carriers                   5797.0   7723.00  10197.0  13587.00   \n",
       "Multiple carriers Premium economy   9845.0  10161.00  11269.0  11269.00   \n",
       "SpiceJet                            1759.0   3573.00   3873.0   4760.00   \n",
       "Trujet                              4140.0   4140.00   4140.0   4140.00   \n",
       "Vistara                             3687.0   5403.00   7980.0   9345.00   \n",
       "Vistara Premium economy             5969.0   7547.00   9125.0  10459.00   \n",
       "\n",
       "                                            \n",
       "                                       max  \n",
       "Airline                                     \n",
       "Air Asia                           13774.0  \n",
       "Air India                          31945.0  \n",
       "GoAir                              22794.0  \n",
       "IndiGo                             22153.0  \n",
       "Jet Airways                        54826.0  \n",
       "Jet Airways Business               79512.0  \n",
       "Multiple carriers                  36983.0  \n",
       "Multiple carriers Premium economy  14629.0  \n",
       "SpiceJet                           23267.0  \n",
       "Trujet                              4140.0  \n",
       "Vistara                            21730.0  \n",
       "Vistara Premium economy            11793.0  "
      ]
     },
     "execution_count": 29,
     "metadata": {},
     "output_type": "execute_result"
    }
   ],
   "source": [
    "df.groupby('Airline')[['Price']].describe()"
   ]
  },
  {
   "cell_type": "code",
   "execution_count": 30,
   "id": "18f8a26e",
   "metadata": {
    "execution": {
     "iopub.execute_input": "2022-10-01T16:19:59.945918Z",
     "iopub.status.busy": "2022-10-01T16:19:59.944686Z",
     "iopub.status.idle": "2022-10-01T16:20:00.290170Z",
     "shell.execute_reply": "2022-10-01T16:20:00.289020Z"
    },
    "papermill": {
     "duration": 0.396715,
     "end_time": "2022-10-01T16:20:00.292523",
     "exception": false,
     "start_time": "2022-10-01T16:19:59.895808",
     "status": "completed"
    },
    "tags": []
   },
   "outputs": [
    {
     "data": {
      "text/plain": [
       "<AxesSubplot:>"
      ]
     },
     "execution_count": 30,
     "metadata": {},
     "output_type": "execute_result"
    },
    {
     "data": {
      "image/png": "[encoded data removed]",
      "text/plain": [
       "<Figure size 720x432 with 1 Axes>"
      ]
     },
     "metadata": {},
     "output_type": "display_data"
    }
   ],
   "source": [
    "df.Airline.value_counts(normalize=True).plot(kind='bar')"
   ]
  },
  {
   "cell_type": "markdown",
   "id": "fc38666c",
   "metadata": {
    "papermill": {
     "duration": 0.048988,
     "end_time": "2022-10-01T16:20:00.392315",
     "exception": false,
     "start_time": "2022-10-01T16:20:00.343327",
     "status": "completed"
    },
    "tags": []
   },
   "source": [
    "<p style=\"color:#0099e6;font-size:25px;font-family:Georgia;text-align:center;\"> <strong style=\"color:#fd1c20;font-size:25px;font-family:Georgia;\"> </strong></p>\n",
    "\n",
    "<p style= \"font-family:Georgia;color:#000000;font-size:110%;text-align:center;border-radius:10px 10px;border-style: solid;border-width:5px;border-color:#fbff00;\"><br>From the above bar chart we can say that,top 5 airlines are <b>Jet airways,Indigo, AirIndia, Multiple Carriers, Spicejet.</b><br>\n",
    "    <br></p>"
   ]
  },
  {
   "cell_type": "code",
   "execution_count": 31,
   "id": "a2e6eeae",
   "metadata": {
    "execution": {
     "iopub.execute_input": "2022-10-01T16:20:00.492213Z",
     "iopub.status.busy": "2022-10-01T16:20:00.491456Z",
     "iopub.status.idle": "2022-10-01T16:20:01.677329Z",
     "shell.execute_reply": "2022-10-01T16:20:01.676155Z"
    },
    "papermill": {
     "duration": 1.239291,
     "end_time": "2022-10-01T16:20:01.680250",
     "exception": false,
     "start_time": "2022-10-01T16:20:00.440959",
     "status": "completed"
    },
    "tags": []
   },
   "outputs": [
    {
     "data": {
      "text/plain": [
       "(array([ 0,  1,  2,  3,  4,  5,  6,  7,  8,  9, 10, 11]),\n",
       " [Text(0, 0, 'IndiGo'),\n",
       "  Text(1, 0, 'Air India'),\n",
       "  Text(2, 0, 'Jet Airways'),\n",
       "  Text(3, 0, 'SpiceJet'),\n",
       "  Text(4, 0, 'Multiple carriers'),\n",
       "  Text(5, 0, 'GoAir'),\n",
       "  Text(6, 0, 'Vistara'),\n",
       "  Text(7, 0, 'Air Asia'),\n",
       "  Text(8, 0, 'Vistara Premium economy'),\n",
       "  Text(9, 0, 'Jet Airways Business'),\n",
       "  Text(10, 0, 'Multiple carriers Premium economy'),\n",
       "  Text(11, 0, 'Trujet')])"
      ]
     },
     "execution_count": 31,
     "metadata": {},
     "output_type": "execute_result"
    },
    {
     "data": {
      "image/png": "[encoded data removed]",
      "text/plain": [
       "<Figure size 720x432 with 1 Axes>"
      ]
     },
     "metadata": {},
     "output_type": "display_data"
    }
   ],
   "source": [
    "sns.barplot(data=df,x='Airline',y='Price',estimator=np.median)\n",
    "plt.xticks(rotation=90)"
   ]
  },
  {
   "cell_type": "markdown",
   "id": "df16e6d7",
   "metadata": {
    "papermill": {
     "duration": 0.055626,
     "end_time": "2022-10-01T16:20:01.786106",
     "exception": false,
     "start_time": "2022-10-01T16:20:01.730480",
     "status": "completed"
    },
    "tags": []
   },
   "source": [
    "<p style= \"font-family:Georgia;color:#000000;font-size:110%;text-align:center;border-radius:10px 10px;border-style: solid;border-width:5px;border-color:#fbff00;\"><br><b>There is a huge difference between economy and business class , business class avarage price is 58000 but all economy class have almost mean 10000.</b><br>\n",
    "    <br></p>"
   ]
  },
  {
   "cell_type": "markdown",
   "id": "0dc65685",
   "metadata": {
    "papermill": {
     "duration": 0.049824,
     "end_time": "2022-10-01T16:20:01.983958",
     "exception": false,
     "start_time": "2022-10-01T16:20:01.934134",
     "status": "completed"
    },
    "tags": []
   },
   "source": [
    "   <div style=\"color:yellow;display:fill;border-radius:8px;\n",
    "            background-color:#ffcc00;font-size:160%;\n",
    "            font-family:Nexa;letter-spacing:0.5px\">\n",
    "    <p style=\"padding: 8px\n",
    ";color:blue;\"><b> Source | Destination  </b></p>\n",
    "</div>\n"
   ]
  },
  {
   "cell_type": "code",
   "execution_count": 32,
   "id": "b1b6d56f",
   "metadata": {
    "execution": {
     "iopub.execute_input": "2022-10-01T16:20:02.087872Z",
     "iopub.status.busy": "2022-10-01T16:20:02.087451Z",
     "iopub.status.idle": "2022-10-01T16:20:02.351073Z",
     "shell.execute_reply": "2022-10-01T16:20:02.349882Z"
    },
    "papermill": {
     "duration": 0.318246,
     "end_time": "2022-10-01T16:20:02.353535",
     "exception": false,
     "start_time": "2022-10-01T16:20:02.035289",
     "status": "completed"
    },
    "tags": []
   },
   "outputs": [
    {
     "name": "stdout",
     "output_type": "stream",
     "text": [
      "Delhi       4345\n",
      "Kolkata     2860\n",
      "Banglore    2179\n",
      "Mumbai       697\n",
      "Chennai      381\n",
      "Name: Source, dtype: int64\n"
     ]
    },
    {
     "data": {
      "text/plain": [
       "<AxesSubplot:>"
      ]
     },
     "execution_count": 32,
     "metadata": {},
     "output_type": "execute_result"
    },
    {
     "data": {
      "image/png": "[encoded data removed]",
      "text/plain": [
       "<Figure size 720x432 with 1 Axes>"
      ]
     },
     "metadata": {},
     "output_type": "display_data"
    }
   ],
   "source": [
    "print(df.Source.value_counts())\n",
    "df.Source.value_counts(normalize=True).plot(kind='bar')"
   ]
  },
  {
   "cell_type": "markdown",
   "id": "c349ca1a",
   "metadata": {
    "papermill": {
     "duration": 0.050333,
     "end_time": "2022-10-01T16:20:02.457600",
     "exception": false,
     "start_time": "2022-10-01T16:20:02.407267",
     "status": "completed"
    },
    "tags": []
   },
   "source": [
    "<p style= \"font-family:Georgia;color:#000000;font-size:110%;text-align:center;border-radius:10px 10px;border-style: solid;border-width:5px;border-color:#fbff00;\"><br>From the above bar chart we can say that, top 3 sources of the flights are <b>Delhi, Kolkata, Banglore.</b><br>\n",
    "    <br></p>"
   ]
  },
  {
   "cell_type": "code",
   "execution_count": 33,
   "id": "32a2c373",
   "metadata": {
    "execution": {
     "iopub.execute_input": "2022-10-01T16:20:02.563976Z",
     "iopub.status.busy": "2022-10-01T16:20:02.563549Z",
     "iopub.status.idle": "2022-10-01T16:20:02.884997Z",
     "shell.execute_reply": "2022-10-01T16:20:02.883869Z"
    },
    "papermill": {
     "duration": 0.377065,
     "end_time": "2022-10-01T16:20:02.887675",
     "exception": false,
     "start_time": "2022-10-01T16:20:02.510610",
     "status": "completed"
    },
    "tags": []
   },
   "outputs": [
    {
     "data": {
      "text/plain": [
       "<AxesSubplot:xlabel='Source'>"
      ]
     },
     "execution_count": 33,
     "metadata": {},
     "output_type": "execute_result"
    },
    {
     "data": {
      "image/png": "[encoded data removed]",
      "text/plain": [
       "<Figure size 720x432 with 1 Axes>"
      ]
     },
     "metadata": {},
     "output_type": "display_data"
    }
   ],
   "source": [
    "## avarge of price for source\n",
    "df.groupby('Source')[['Price']].max().plot(kind='line')"
   ]
  },
  {
   "cell_type": "code",
   "execution_count": 34,
   "id": "77b4a593",
   "metadata": {
    "execution": {
     "iopub.execute_input": "2022-10-01T16:20:02.993525Z",
     "iopub.status.busy": "2022-10-01T16:20:02.992973Z",
     "iopub.status.idle": "2022-10-01T16:20:03.217413Z",
     "shell.execute_reply": "2022-10-01T16:20:03.215952Z"
    },
    "papermill": {
     "duration": 0.280734,
     "end_time": "2022-10-01T16:20:03.221052",
     "exception": false,
     "start_time": "2022-10-01T16:20:02.940318",
     "status": "completed"
    },
    "tags": []
   },
   "outputs": [
    {
     "name": "stdout",
     "output_type": "stream",
     "text": [
      "Cochin       4345\n",
      "Banglore     2860\n",
      "Delhi        1265\n",
      "New Delhi     914\n",
      "Hyderabad     697\n",
      "Kolkata       381\n",
      "Name: Destination, dtype: int64\n"
     ]
    },
    {
     "data": {
      "text/plain": [
       "<AxesSubplot:>"
      ]
     },
     "execution_count": 34,
     "metadata": {},
     "output_type": "execute_result"
    },
    {
     "data": {
      "image/png": "[encoded data removed]",
      "text/plain": [
       "<Figure size 720x432 with 1 Axes>"
      ]
     },
     "metadata": {},
     "output_type": "display_data"
    }
   ],
   "source": [
    "print(df.Destination.value_counts())\n",
    "df.Destination.value_counts(normalize=True).plot(kind='bar')"
   ]
  },
  {
   "cell_type": "markdown",
   "id": "5cc9f283",
   "metadata": {
    "papermill": {
     "duration": 0.052251,
     "end_time": "2022-10-01T16:20:03.327299",
     "exception": false,
     "start_time": "2022-10-01T16:20:03.275048",
     "status": "completed"
    },
    "tags": []
   },
   "source": [
    "<p style= \"font-family:Georgia;color:#000000;font-size:110%;text-align:center;border-radius:10px 10px;border-style: solid;border-width:5px;border-color:#fbff00;\"><br>From the above bar chart we can say that,top 3 destination of the flights are <b>Cochin, Banglore, Delhi.</b><br>\n",
    "    <br></p>"
   ]
  },
  {
   "cell_type": "code",
   "execution_count": 35,
   "id": "35334d49",
   "metadata": {
    "execution": {
     "iopub.execute_input": "2022-10-01T16:20:03.432316Z",
     "iopub.status.busy": "2022-10-01T16:20:03.431896Z",
     "iopub.status.idle": "2022-10-01T16:20:03.708369Z",
     "shell.execute_reply": "2022-10-01T16:20:03.707450Z"
    },
    "papermill": {
     "duration": 0.331978,
     "end_time": "2022-10-01T16:20:03.710826",
     "exception": false,
     "start_time": "2022-10-01T16:20:03.378848",
     "status": "completed"
    },
    "tags": []
   },
   "outputs": [
    {
     "data": {
      "text/plain": [
       "<AxesSubplot:xlabel='Destination'>"
      ]
     },
     "execution_count": 35,
     "metadata": {},
     "output_type": "execute_result"
    },
    {
     "data": {
      "image/png": "[encoded data removed]",
      "text/plain": [
       "<Figure size 720x432 with 1 Axes>"
      ]
     },
     "metadata": {},
     "output_type": "display_data"
    }
   ],
   "source": [
    "## avarage price per destination\n",
    "df.groupby('Destination')[['Price']].max().plot(kind='line')"
   ]
  },
  {
   "cell_type": "markdown",
   "id": "613ab810",
   "metadata": {
    "papermill": {
     "duration": 0.052833,
     "end_time": "2022-10-01T16:20:03.819888",
     "exception": false,
     "start_time": "2022-10-01T16:20:03.767055",
     "status": "completed"
    },
    "tags": []
   },
   "source": [
    "   <div style=\"color:yellow;display:fill;border-radius:8px;\n",
    "            background-color:#ffcc00;font-size:160%;\n",
    "            font-family:Nexa;letter-spacing:0.5px\">\n",
    "    <p style=\"padding: 8px\n",
    ";color:blue;\"><b> Departure Time  </b></p>\n",
    "</div>\n"
   ]
  },
  {
   "cell_type": "code",
   "execution_count": 36,
   "id": "86a33148",
   "metadata": {
    "execution": {
     "iopub.execute_input": "2022-10-01T16:20:03.927328Z",
     "iopub.status.busy": "2022-10-01T16:20:03.926905Z",
     "iopub.status.idle": "2022-10-01T16:20:04.193480Z",
     "shell.execute_reply": "2022-10-01T16:20:04.192691Z"
    },
    "papermill": {
     "duration": 0.323216,
     "end_time": "2022-10-01T16:20:04.195784",
     "exception": false,
     "start_time": "2022-10-01T16:20:03.872568",
     "status": "completed"
    },
    "tags": []
   },
   "outputs": [
    {
     "name": "stdout",
     "output_type": "stream",
     "text": [
      "Early Morning    2814\n",
      "Evening          2323\n",
      "Morning          2170\n",
      "Noon             1696\n",
      "Night             995\n",
      "Late Night        464\n",
      "Name: Dep_Time, dtype: int64\n"
     ]
    },
    {
     "data": {
      "text/plain": [
       "<AxesSubplot:>"
      ]
     },
     "execution_count": 36,
     "metadata": {},
     "output_type": "execute_result"
    },
    {
     "data": {
      "image/png": "[encoded data removed]",
      "text/plain": [
       "<Figure size 720x432 with 1 Axes>"
      ]
     },
     "metadata": {},
     "output_type": "display_data"
    }
   ],
   "source": [
    "print(df.Dep_Time.value_counts())\n",
    "df.Dep_Time.value_counts(normalize=True).plot(kind='bar')"
   ]
  },
  {
   "cell_type": "code",
   "execution_count": 37,
   "id": "ca03529d",
   "metadata": {
    "execution": {
     "iopub.execute_input": "2022-10-01T16:20:04.305690Z",
     "iopub.status.busy": "2022-10-01T16:20:04.304862Z",
     "iopub.status.idle": "2022-10-01T16:20:04.571542Z",
     "shell.execute_reply": "2022-10-01T16:20:04.570392Z"
    },
    "papermill": {
     "duration": 0.324969,
     "end_time": "2022-10-01T16:20:04.574218",
     "exception": false,
     "start_time": "2022-10-01T16:20:04.249249",
     "status": "completed"
    },
    "tags": []
   },
   "outputs": [
    {
     "data": {
      "text/plain": [
       "<AxesSubplot:xlabel='Dep_Time'>"
      ]
     },
     "execution_count": 37,
     "metadata": {},
     "output_type": "execute_result"
    },
    {
     "data": {
      "image/png": "[encoded data removed]",
      "text/plain": [
       "<Figure size 720x432 with 1 Axes>"
      ]
     },
     "metadata": {},
     "output_type": "display_data"
    }
   ],
   "source": [
    "## avarage price per destination\n",
    "df.groupby('Dep_Time')[['Price']].min().plot(kind='line')"
   ]
  },
  {
   "cell_type": "code",
   "execution_count": 38,
   "id": "443e2835",
   "metadata": {
    "execution": {
     "iopub.execute_input": "2022-10-01T16:20:04.687053Z",
     "iopub.status.busy": "2022-10-01T16:20:04.686284Z",
     "iopub.status.idle": "2022-10-01T16:20:04.735184Z",
     "shell.execute_reply": "2022-10-01T16:20:04.734086Z"
    },
    "papermill": {
     "duration": 0.106977,
     "end_time": "2022-10-01T16:20:04.737748",
     "exception": false,
     "start_time": "2022-10-01T16:20:04.630771",
     "status": "completed"
    },
    "scrolled": true,
    "tags": []
   },
   "outputs": [
    {
     "data": {
      "text/html": [
       "<div>\n",
       "<style scoped>\n",
       "    .dataframe tbody tr th:only-of-type {\n",
       "        vertical-align: middle;\n",
       "    }\n",
       "\n",
       "    .dataframe tbody tr th {\n",
       "        vertical-align: top;\n",
       "    }\n",
       "\n",
       "    .dataframe thead tr th {\n",
       "        text-align: left;\n",
       "    }\n",
       "\n",
       "    .dataframe thead tr:last-of-type th {\n",
       "        text-align: right;\n",
       "    }\n",
       "</style>\n",
       "<table border=\"1\" class=\"dataframe\">\n",
       "  <thead>\n",
       "    <tr>\n",
       "      <th></th>\n",
       "      <th colspan=\"8\" halign=\"left\">Price</th>\n",
       "    </tr>\n",
       "    <tr>\n",
       "      <th></th>\n",
       "      <th>count</th>\n",
       "      <th>mean</th>\n",
       "      <th>std</th>\n",
       "      <th>min</th>\n",
       "      <th>25%</th>\n",
       "      <th>50%</th>\n",
       "      <th>75%</th>\n",
       "      <th>max</th>\n",
       "    </tr>\n",
       "    <tr>\n",
       "      <th>Dep_Time</th>\n",
       "      <th></th>\n",
       "      <th></th>\n",
       "      <th></th>\n",
       "      <th></th>\n",
       "      <th></th>\n",
       "      <th></th>\n",
       "      <th></th>\n",
       "      <th></th>\n",
       "    </tr>\n",
       "  </thead>\n",
       "  <tbody>\n",
       "    <tr>\n",
       "      <th>Early Morning</th>\n",
       "      <td>2814.0</td>\n",
       "      <td>9027.153163</td>\n",
       "      <td>4733.407317</td>\n",
       "      <td>1759.0</td>\n",
       "      <td>5601.0</td>\n",
       "      <td>8016.0</td>\n",
       "      <td>11883.00</td>\n",
       "      <td>79512.0</td>\n",
       "    </tr>\n",
       "    <tr>\n",
       "      <th>Evening</th>\n",
       "      <td>2323.0</td>\n",
       "      <td>9149.874731</td>\n",
       "      <td>4449.309120</td>\n",
       "      <td>2050.0</td>\n",
       "      <td>5571.0</td>\n",
       "      <td>8586.0</td>\n",
       "      <td>12373.00</td>\n",
       "      <td>54826.0</td>\n",
       "    </tr>\n",
       "    <tr>\n",
       "      <th>Late Night</th>\n",
       "      <td>464.0</td>\n",
       "      <td>7712.568966</td>\n",
       "      <td>4461.357838</td>\n",
       "      <td>1840.0</td>\n",
       "      <td>4282.0</td>\n",
       "      <td>6016.5</td>\n",
       "      <td>10491.00</td>\n",
       "      <td>29528.0</td>\n",
       "    </tr>\n",
       "    <tr>\n",
       "      <th>Morning</th>\n",
       "      <td>2170.0</td>\n",
       "      <td>9296.692166</td>\n",
       "      <td>4321.834705</td>\n",
       "      <td>2754.0</td>\n",
       "      <td>5758.5</td>\n",
       "      <td>8751.5</td>\n",
       "      <td>12384.00</td>\n",
       "      <td>57209.0</td>\n",
       "    </tr>\n",
       "    <tr>\n",
       "      <th>Night</th>\n",
       "      <td>995.0</td>\n",
       "      <td>8198.713568</td>\n",
       "      <td>5168.029358</td>\n",
       "      <td>1759.0</td>\n",
       "      <td>4148.0</td>\n",
       "      <td>6297.0</td>\n",
       "      <td>11302.00</td>\n",
       "      <td>54826.0</td>\n",
       "    </tr>\n",
       "    <tr>\n",
       "      <th>Noon</th>\n",
       "      <td>1696.0</td>\n",
       "      <td>9357.628538</td>\n",
       "      <td>4648.121950</td>\n",
       "      <td>1965.0</td>\n",
       "      <td>5753.0</td>\n",
       "      <td>8529.0</td>\n",
       "      <td>13191.75</td>\n",
       "      <td>54826.0</td>\n",
       "    </tr>\n",
       "  </tbody>\n",
       "</table>\n",
       "</div>"
      ],
      "text/plain": [
       "                Price                                                    \\\n",
       "                count         mean          std     min     25%     50%   \n",
       "Dep_Time                                                                  \n",
       "Early Morning  2814.0  9027.153163  4733.407317  1759.0  5601.0  8016.0   \n",
       "Evening        2323.0  9149.874731  4449.309120  2050.0  5571.0  8586.0   \n",
       "Late Night      464.0  7712.568966  4461.357838  1840.0  4282.0  6016.5   \n",
       "Morning        2170.0  9296.692166  4321.834705  2754.0  5758.5  8751.5   \n",
       "Night           995.0  8198.713568  5168.029358  1759.0  4148.0  6297.0   \n",
       "Noon           1696.0  9357.628538  4648.121950  1965.0  5753.0  8529.0   \n",
       "\n",
       "                                  \n",
       "                    75%      max  \n",
       "Dep_Time                          \n",
       "Early Morning  11883.00  79512.0  \n",
       "Evening        12373.00  54826.0  \n",
       "Late Night     10491.00  29528.0  \n",
       "Morning        12384.00  57209.0  \n",
       "Night          11302.00  54826.0  \n",
       "Noon           13191.75  54826.0  "
      ]
     },
     "execution_count": 38,
     "metadata": {},
     "output_type": "execute_result"
    }
   ],
   "source": [
    "df.groupby('Dep_Time')[['Price']].describe()"
   ]
  },
  {
   "cell_type": "code",
   "execution_count": 39,
   "id": "cb5e4a4d",
   "metadata": {
    "execution": {
     "iopub.execute_input": "2022-10-01T16:20:04.848112Z",
     "iopub.status.busy": "2022-10-01T16:20:04.847716Z",
     "iopub.status.idle": "2022-10-01T16:20:05.681809Z",
     "shell.execute_reply": "2022-10-01T16:20:05.680560Z"
    },
    "papermill": {
     "duration": 0.892532,
     "end_time": "2022-10-01T16:20:05.684274",
     "exception": false,
     "start_time": "2022-10-01T16:20:04.791742",
     "status": "completed"
    },
    "tags": []
   },
   "outputs": [
    {
     "data": {
      "image/png": "[encoded data removed]",
      "text/plain": [
       "<Figure size 720x432 with 1 Axes>"
      ]
     },
     "metadata": {},
     "output_type": "display_data"
    }
   ],
   "source": [
    "sns.barplot(data=df,x='Dep_Time',y='Price',estimator=np.median)\n",
    "plt.title(\"Departure Time\")\n",
    "plt.ylabel(\"Price of flight\")\n",
    "plt.xlabel(None)\n",
    "plt.show()"
   ]
  },
  {
   "cell_type": "markdown",
   "id": "b6017fb8",
   "metadata": {
    "papermill": {
     "duration": 0.054459,
     "end_time": "2022-10-01T16:20:05.793282",
     "exception": false,
     "start_time": "2022-10-01T16:20:05.738823",
     "status": "completed"
    },
    "tags": []
   },
   "source": [
    "\n",
    "<p style= \"font-family:Georgia;color:#000000;font-size:110%;text-align:center;border-radius:10px 10px;border-style: solid;border-width:5px;border-color:#fbff00;\"><br><b>Low-price flight are tend to depart at Night, Late Night time, and Early Morning as it is inconvinient time.</b><br>\n",
    "    <br></p>\n"
   ]
  },
  {
   "cell_type": "markdown",
   "id": "8100c078",
   "metadata": {
    "papermill": {
     "duration": 0.055389,
     "end_time": "2022-10-01T16:20:05.903507",
     "exception": false,
     "start_time": "2022-10-01T16:20:05.848118",
     "status": "completed"
    },
    "tags": []
   },
   "source": [
    "   <div style=\"color:yellow;display:fill;border-radius:8px;\n",
    "            background-color:#ffcc00;font-size:160%;\n",
    "            font-family:Nexa;letter-spacing:0.5px\">\n",
    "    <p style=\"padding: 8px\n",
    ";color:blue;\"><b> Arrival Time  </b></p>\n",
    "</div>\n"
   ]
  },
  {
   "cell_type": "code",
   "execution_count": 40,
   "id": "c8a186d9",
   "metadata": {
    "execution": {
     "iopub.execute_input": "2022-10-01T16:20:06.018586Z",
     "iopub.status.busy": "2022-10-01T16:20:06.018149Z",
     "iopub.status.idle": "2022-10-01T16:20:06.281269Z",
     "shell.execute_reply": "2022-10-01T16:20:06.280139Z"
    },
    "papermill": {
     "duration": 0.323948,
     "end_time": "2022-10-01T16:20:06.283714",
     "exception": false,
     "start_time": "2022-10-01T16:20:05.959766",
     "status": "completed"
    },
    "tags": []
   },
   "outputs": [
    {
     "name": "stdout",
     "output_type": "stream",
     "text": [
      "Evening          2631\n",
      "Morning          2121\n",
      "Night            1828\n",
      "Late Night       1734\n",
      "Noon             1149\n",
      "Early Morning     999\n",
      "Name: Arrival_Time, dtype: int64\n"
     ]
    },
    {
     "data": {
      "text/plain": [
       "<AxesSubplot:>"
      ]
     },
     "execution_count": 40,
     "metadata": {},
     "output_type": "execute_result"
    },
    {
     "data": {
      "image/png": "[encoded data removed]",
      "text/plain": [
       "<Figure size 720x432 with 1 Axes>"
      ]
     },
     "metadata": {},
     "output_type": "display_data"
    }
   ],
   "source": [
    "print(df.Arrival_Time.value_counts())\n",
    "df.Arrival_Time.value_counts(normalize=True).plot(kind='bar')"
   ]
  },
  {
   "cell_type": "code",
   "execution_count": 41,
   "id": "600a3572",
   "metadata": {
    "execution": {
     "iopub.execute_input": "2022-10-01T16:20:06.399171Z",
     "iopub.status.busy": "2022-10-01T16:20:06.398454Z",
     "iopub.status.idle": "2022-10-01T16:20:06.670229Z",
     "shell.execute_reply": "2022-10-01T16:20:06.669089Z"
    },
    "papermill": {
     "duration": 0.331071,
     "end_time": "2022-10-01T16:20:06.672996",
     "exception": false,
     "start_time": "2022-10-01T16:20:06.341925",
     "status": "completed"
    },
    "tags": []
   },
   "outputs": [
    {
     "data": {
      "text/plain": [
       "<AxesSubplot:xlabel='Arrival_Time'>"
      ]
     },
     "execution_count": 41,
     "metadata": {},
     "output_type": "execute_result"
    },
    {
     "data": {
      "image/png": "[encoded data removed]",
      "text/plain": [
       "<Figure size 720x432 with 1 Axes>"
      ]
     },
     "metadata": {},
     "output_type": "display_data"
    }
   ],
   "source": [
    "## avarage price per destination\n",
    "df.groupby('Arrival_Time')[['Price']].min().plot(kind='line')"
   ]
  },
  {
   "cell_type": "code",
   "execution_count": 42,
   "id": "08392e25",
   "metadata": {
    "execution": {
     "iopub.execute_input": "2022-10-01T16:20:06.789111Z",
     "iopub.status.busy": "2022-10-01T16:20:06.788717Z",
     "iopub.status.idle": "2022-10-01T16:20:06.843315Z",
     "shell.execute_reply": "2022-10-01T16:20:06.841993Z"
    },
    "papermill": {
     "duration": 0.11513,
     "end_time": "2022-10-01T16:20:06.846240",
     "exception": false,
     "start_time": "2022-10-01T16:20:06.731110",
     "status": "completed"
    },
    "scrolled": true,
    "tags": []
   },
   "outputs": [
    {
     "data": {
      "text/html": [
       "<div>\n",
       "<style scoped>\n",
       "    .dataframe tbody tr th:only-of-type {\n",
       "        vertical-align: middle;\n",
       "    }\n",
       "\n",
       "    .dataframe tbody tr th {\n",
       "        vertical-align: top;\n",
       "    }\n",
       "\n",
       "    .dataframe thead tr th {\n",
       "        text-align: left;\n",
       "    }\n",
       "\n",
       "    .dataframe thead tr:last-of-type th {\n",
       "        text-align: right;\n",
       "    }\n",
       "</style>\n",
       "<table border=\"1\" class=\"dataframe\">\n",
       "  <thead>\n",
       "    <tr>\n",
       "      <th></th>\n",
       "      <th colspan=\"8\" halign=\"left\">Price</th>\n",
       "    </tr>\n",
       "    <tr>\n",
       "      <th></th>\n",
       "      <th>count</th>\n",
       "      <th>mean</th>\n",
       "      <th>std</th>\n",
       "      <th>min</th>\n",
       "      <th>25%</th>\n",
       "      <th>50%</th>\n",
       "      <th>75%</th>\n",
       "      <th>max</th>\n",
       "    </tr>\n",
       "    <tr>\n",
       "      <th>Arrival_Time</th>\n",
       "      <th></th>\n",
       "      <th></th>\n",
       "      <th></th>\n",
       "      <th></th>\n",
       "      <th></th>\n",
       "      <th></th>\n",
       "      <th></th>\n",
       "      <th></th>\n",
       "    </tr>\n",
       "  </thead>\n",
       "  <tbody>\n",
       "    <tr>\n",
       "      <th>Early Morning</th>\n",
       "      <td>999.0</td>\n",
       "      <td>8325.957958</td>\n",
       "      <td>4749.170637</td>\n",
       "      <td>1759.0</td>\n",
       "      <td>4423.0</td>\n",
       "      <td>7229.0</td>\n",
       "      <td>11537.5</td>\n",
       "      <td>54826.0</td>\n",
       "    </tr>\n",
       "    <tr>\n",
       "      <th>Evening</th>\n",
       "      <td>2631.0</td>\n",
       "      <td>10119.762068</td>\n",
       "      <td>4109.434484</td>\n",
       "      <td>2050.0</td>\n",
       "      <td>7229.0</td>\n",
       "      <td>10262.0</td>\n",
       "      <td>12795.5</td>\n",
       "      <td>36983.0</td>\n",
       "    </tr>\n",
       "    <tr>\n",
       "      <th>Late Night</th>\n",
       "      <td>1734.0</td>\n",
       "      <td>9317.480969</td>\n",
       "      <td>5092.168783</td>\n",
       "      <td>1759.0</td>\n",
       "      <td>4995.0</td>\n",
       "      <td>8283.0</td>\n",
       "      <td>13376.0</td>\n",
       "      <td>54826.0</td>\n",
       "    </tr>\n",
       "    <tr>\n",
       "      <th>Morning</th>\n",
       "      <td>2121.0</td>\n",
       "      <td>8855.860443</td>\n",
       "      <td>4806.366604</td>\n",
       "      <td>2759.0</td>\n",
       "      <td>4995.0</td>\n",
       "      <td>8040.0</td>\n",
       "      <td>12080.0</td>\n",
       "      <td>79512.0</td>\n",
       "    </tr>\n",
       "    <tr>\n",
       "      <th>Night</th>\n",
       "      <td>1828.0</td>\n",
       "      <td>8358.746171</td>\n",
       "      <td>4145.497610</td>\n",
       "      <td>2050.0</td>\n",
       "      <td>5583.0</td>\n",
       "      <td>7229.0</td>\n",
       "      <td>10844.0</td>\n",
       "      <td>54826.0</td>\n",
       "    </tr>\n",
       "    <tr>\n",
       "      <th>Noon</th>\n",
       "      <td>1149.0</td>\n",
       "      <td>8073.084421</td>\n",
       "      <td>4742.269593</td>\n",
       "      <td>1965.0</td>\n",
       "      <td>4668.0</td>\n",
       "      <td>6600.0</td>\n",
       "      <td>10844.0</td>\n",
       "      <td>57209.0</td>\n",
       "    </tr>\n",
       "  </tbody>\n",
       "</table>\n",
       "</div>"
      ],
      "text/plain": [
       "                Price                                                      \\\n",
       "                count          mean          std     min     25%      50%   \n",
       "Arrival_Time                                                                \n",
       "Early Morning   999.0   8325.957958  4749.170637  1759.0  4423.0   7229.0   \n",
       "Evening        2631.0  10119.762068  4109.434484  2050.0  7229.0  10262.0   \n",
       "Late Night     1734.0   9317.480969  5092.168783  1759.0  4995.0   8283.0   \n",
       "Morning        2121.0   8855.860443  4806.366604  2759.0  4995.0   8040.0   \n",
       "Night          1828.0   8358.746171  4145.497610  2050.0  5583.0   7229.0   \n",
       "Noon           1149.0   8073.084421  4742.269593  1965.0  4668.0   6600.0   \n",
       "\n",
       "                                 \n",
       "                   75%      max  \n",
       "Arrival_Time                     \n",
       "Early Morning  11537.5  54826.0  \n",
       "Evening        12795.5  36983.0  \n",
       "Late Night     13376.0  54826.0  \n",
       "Morning        12080.0  79512.0  \n",
       "Night          10844.0  54826.0  \n",
       "Noon           10844.0  57209.0  "
      ]
     },
     "execution_count": 42,
     "metadata": {},
     "output_type": "execute_result"
    }
   ],
   "source": [
    "df.groupby('Arrival_Time')[['Price']].describe()"
   ]
  },
  {
   "cell_type": "code",
   "execution_count": 43,
   "id": "27c9a166",
   "metadata": {
    "execution": {
     "iopub.execute_input": "2022-10-01T16:20:06.962723Z",
     "iopub.status.busy": "2022-10-01T16:20:06.961378Z",
     "iopub.status.idle": "2022-10-01T16:20:07.804091Z",
     "shell.execute_reply": "2022-10-01T16:20:07.802905Z"
    },
    "papermill": {
     "duration": 0.903535,
     "end_time": "2022-10-01T16:20:07.806558",
     "exception": false,
     "start_time": "2022-10-01T16:20:06.903023",
     "status": "completed"
    },
    "tags": []
   },
   "outputs": [
    {
     "data": {
      "image/png": "[encoded data removed]",
      "text/plain": [
       "<Figure size 720x432 with 1 Axes>"
      ]
     },
     "metadata": {},
     "output_type": "display_data"
    }
   ],
   "source": [
    "sns.barplot(data=df,x='Arrival_Time',y='Price',estimator=np.median)\n",
    "plt.title(\"Arrival Time\")\n",
    "plt.ylabel(\"Price of flight\")\n",
    "plt.xlabel(None)\n",
    "plt.show()"
   ]
  },
  {
   "cell_type": "markdown",
   "id": "eb310014",
   "metadata": {
    "papermill": {
     "duration": 0.05629,
     "end_time": "2022-10-01T16:20:07.918661",
     "exception": false,
     "start_time": "2022-10-01T16:20:07.862371",
     "status": "completed"
    },
    "tags": []
   },
   "source": [
    "<p style= \"font-family:Georgia;color:#000000;font-size:110%;text-align:center;border-radius:10px 10px;border-style: solid;border-width:5px;border-color:#fbff00;\"><br><b>The most expensive flights depart at Morning and arrive at Eve time.\n",
    "\n",
    "</b><br>\n",
    "    <br></p>"
   ]
  },
  {
   "cell_type": "code",
   "execution_count": 44,
   "id": "6647d609",
   "metadata": {
    "execution": {
     "iopub.execute_input": "2022-10-01T16:20:08.034826Z",
     "iopub.status.busy": "2022-10-01T16:20:08.034094Z",
     "iopub.status.idle": "2022-10-01T16:20:08.764850Z",
     "shell.execute_reply": "2022-10-01T16:20:08.763277Z"
    },
    "papermill": {
     "duration": 0.791727,
     "end_time": "2022-10-01T16:20:08.767763",
     "exception": false,
     "start_time": "2022-10-01T16:20:07.976036",
     "status": "completed"
    },
    "tags": []
   },
   "outputs": [
    {
     "data": {
      "text/plain": [
       "Text(0.5, 1.0, 'Airline prices based on the arrival time')"
      ]
     },
     "execution_count": 44,
     "metadata": {},
     "output_type": "execute_result"
    },
    {
     "data": {
      "image/png": "[encoded data removed]",
      "text/plain": [
       "<Figure size 1296x360 with 2 Axes>"
      ]
     },
     "metadata": {},
     "output_type": "display_data"
    }
   ],
   "source": [
    "plt.figure(figsize = (18,5))\n",
    "plt.subplot(1,2,1)\n",
    "sns.boxplot(data=df, y=\"Price\", x=\"Dep_Time\",showfliers=False).set_title(\"Airline prices based on the departure time\",fontsize=15)\n",
    "plt.subplot(1,2,2)\n",
    "sns.boxplot(data=df, y=\"Price\", x=\"Arrival_Time\",showfliers=False).set_title(\"Airline prices based on the arrival time\",fontsize=15)"
   ]
  },
  {
   "cell_type": "markdown",
   "id": "64722464",
   "metadata": {
    "papermill": {
     "duration": 0.057036,
     "end_time": "2022-10-01T16:20:08.885250",
     "exception": false,
     "start_time": "2022-10-01T16:20:08.828214",
     "status": "completed"
    },
    "tags": []
   },
   "source": [
    "\n",
    "<p style= \"font-family:Georgia;color:#000000;font-size:110%;text-align:center;border-radius:10px 10px;border-style: solid;border-width:5px;border-color:#fbff00;\"><br><b>Leaving at night or arriving at night remains the cheapest way to travel. But it's also visible that arriving early morning is also cheap and afternoon flight are a bit cheaper that evening, morning and night flight.</b><br>\n",
    "    <br></p>\n"
   ]
  },
  {
   "cell_type": "markdown",
   "id": "9c774cbc",
   "metadata": {
    "papermill": {
     "duration": 0.056746,
     "end_time": "2022-10-01T16:20:08.999324",
     "exception": false,
     "start_time": "2022-10-01T16:20:08.942578",
     "status": "completed"
    },
    "tags": []
   },
   "source": [
    "   <div style=\"color:yellow;display:fill;border-radius:8px;\n",
    "            background-color:#ffcc00;font-size:160%;\n",
    "            font-family:Nexa;letter-spacing:0.5px\">\n",
    "    <p style=\"padding: 8px\n",
    ";color:blue;\"><b> Total Stops  </b></p>\n",
    "</div>\n"
   ]
  },
  {
   "cell_type": "code",
   "execution_count": 45,
   "id": "6e917b08",
   "metadata": {
    "execution": {
     "iopub.execute_input": "2022-10-01T16:20:09.118533Z",
     "iopub.status.busy": "2022-10-01T16:20:09.117730Z",
     "iopub.status.idle": "2022-10-01T16:20:09.363292Z",
     "shell.execute_reply": "2022-10-01T16:20:09.361783Z"
    },
    "papermill": {
     "duration": 0.307833,
     "end_time": "2022-10-01T16:20:09.365931",
     "exception": false,
     "start_time": "2022-10-01T16:20:09.058098",
     "status": "completed"
    },
    "tags": []
   },
   "outputs": [
    {
     "data": {
      "text/plain": [
       "<AxesSubplot:>"
      ]
     },
     "execution_count": 45,
     "metadata": {},
     "output_type": "execute_result"
    },
    {
     "data": {
      "image/png": "[encoded data removed]",
      "text/plain": [
       "<Figure size 720x432 with 1 Axes>"
      ]
     },
     "metadata": {},
     "output_type": "display_data"
    }
   ],
   "source": [
    "df.Total_Stops.value_counts(normalize=True).plot(kind='bar')"
   ]
  },
  {
   "cell_type": "markdown",
   "id": "ee33f710",
   "metadata": {
    "papermill": {
     "duration": 0.05818,
     "end_time": "2022-10-01T16:20:09.482787",
     "exception": false,
     "start_time": "2022-10-01T16:20:09.424607",
     "status": "completed"
    },
    "tags": []
   },
   "source": [
    "\n",
    "<p style= \"font-family:Georgia;color:#000000;font-size:110%;text-align:center;border-radius:10px 10px;border-style: solid;border-width:5px;border-color:#fbff00;\"><br>From the above bar chart we can say that,top 3 Flights stop are <b>1 stop, non-stop, 2 stops.</b><br>\n",
    "    <br></p>"
   ]
  },
  {
   "cell_type": "code",
   "execution_count": 46,
   "id": "8340f297",
   "metadata": {
    "execution": {
     "iopub.execute_input": "2022-10-01T16:20:09.603323Z",
     "iopub.status.busy": "2022-10-01T16:20:09.602907Z",
     "iopub.status.idle": "2022-10-01T16:20:09.897869Z",
     "shell.execute_reply": "2022-10-01T16:20:09.896434Z"
    },
    "papermill": {
     "duration": 0.358079,
     "end_time": "2022-10-01T16:20:09.900551",
     "exception": false,
     "start_time": "2022-10-01T16:20:09.542472",
     "status": "completed"
    },
    "tags": []
   },
   "outputs": [
    {
     "data": {
      "text/plain": [
       "<AxesSubplot:xlabel='Total_Stops'>"
      ]
     },
     "execution_count": 46,
     "metadata": {},
     "output_type": "execute_result"
    },
    {
     "data": {
      "image/png": "[encoded data removed]",
      "text/plain": [
       "<Figure size 720x432 with 1 Axes>"
      ]
     },
     "metadata": {},
     "output_type": "display_data"
    }
   ],
   "source": [
    "df.groupby('Total_Stops')[['Price']].mean().plot()"
   ]
  },
  {
   "cell_type": "code",
   "execution_count": 47,
   "id": "27125e15",
   "metadata": {
    "execution": {
     "iopub.execute_input": "2022-10-01T16:20:10.020329Z",
     "iopub.status.busy": "2022-10-01T16:20:10.019928Z",
     "iopub.status.idle": "2022-10-01T16:20:11.846880Z",
     "shell.execute_reply": "2022-10-01T16:20:11.845997Z"
    },
    "papermill": {
     "duration": 1.889666,
     "end_time": "2022-10-01T16:20:11.849054",
     "exception": false,
     "start_time": "2022-10-01T16:20:09.959388",
     "status": "completed"
    },
    "tags": []
   },
   "outputs": [
    {
     "data": {
      "text/plain": [
       "(array([ 0,  1,  2,  3,  4,  5,  6,  7,  8,  9, 10, 11]),\n",
       " [Text(0, 0, 'IndiGo'),\n",
       "  Text(1, 0, 'Air India'),\n",
       "  Text(2, 0, 'Jet Airways'),\n",
       "  Text(3, 0, 'SpiceJet'),\n",
       "  Text(4, 0, 'Multiple carriers'),\n",
       "  Text(5, 0, 'GoAir'),\n",
       "  Text(6, 0, 'Vistara'),\n",
       "  Text(7, 0, 'Air Asia'),\n",
       "  Text(8, 0, 'Vistara Premium economy'),\n",
       "  Text(9, 0, 'Jet Airways Business'),\n",
       "  Text(10, 0, 'Multiple carriers Premium economy'),\n",
       "  Text(11, 0, 'Trujet')])"
      ]
     },
     "execution_count": 47,
     "metadata": {},
     "output_type": "execute_result"
    },
    {
     "data": {
      "image/png": "[encoded data removed]",
      "text/plain": [
       "<Figure size 1080x1080 with 1 Axes>"
      ]
     },
     "metadata": {},
     "output_type": "display_data"
    }
   ],
   "source": [
    "plt.figure(figsize=(15,15))\n",
    "sns.barplot(y = \"Price\", x = \"Airline\",hue=\"Total_Stops\",data = df)\n",
    "plt.xticks(rotation=90)"
   ]
  },
  {
   "cell_type": "markdown",
   "id": "0ab15d0f",
   "metadata": {
    "papermill": {
     "duration": 0.059499,
     "end_time": "2022-10-01T16:20:11.971489",
     "exception": false,
     "start_time": "2022-10-01T16:20:11.911990",
     "status": "completed"
    },
    "tags": []
   },
   "source": [
    "\n",
    "<p style= \"font-family:Georgia;color:#000000;font-size:110%;text-align:center;border-radius:10px 10px;border-style: solid;border-width:5px;border-color:#fbff00;\"><br>It's clear that the more stops there are the more expensive the flight is except for <b>AirAsia</b> where the prices seems more constant. The behaviour and different analysis of AirAsia tend to show that it relates to a low cost company.<br>\n",
    "    <br></p>"
   ]
  },
  {
   "cell_type": "markdown",
   "id": "716f4fd5",
   "metadata": {
    "papermill": {
     "duration": 0.059253,
     "end_time": "2022-10-01T16:20:12.090786",
     "exception": false,
     "start_time": "2022-10-01T16:20:12.031533",
     "status": "completed"
    },
    "tags": []
   },
   "source": [
    "   <div style=\"color:yellow;display:fill;border-radius:8px;\n",
    "            background-color:#ffcc00;font-size:160%;\n",
    "            font-family:Nexa;letter-spacing:0.5px\">\n",
    "    <p style=\"padding: 8px\n",
    ";color:blue;\"><b> Additional information  </b></p>\n",
    "</div>\n"
   ]
  },
  {
   "cell_type": "code",
   "execution_count": 48,
   "id": "d0be80a3",
   "metadata": {
    "execution": {
     "iopub.execute_input": "2022-10-01T16:20:12.213103Z",
     "iopub.status.busy": "2022-10-01T16:20:12.212364Z",
     "iopub.status.idle": "2022-10-01T16:20:12.219954Z",
     "shell.execute_reply": "2022-10-01T16:20:12.218984Z"
    },
    "papermill": {
     "duration": 0.071739,
     "end_time": "2022-10-01T16:20:12.222238",
     "exception": false,
     "start_time": "2022-10-01T16:20:12.150499",
     "status": "completed"
    },
    "tags": []
   },
   "outputs": [
    {
     "data": {
      "text/plain": [
       "array(['No info', 'In-flight meal not included',\n",
       "       'No check-in baggage included', '1 Short layover', 'No Info',\n",
       "       '1 Long layover', 'Change airports', 'Business class',\n",
       "       'Red-eye flight', '2 Long layover'], dtype=object)"
      ]
     },
     "execution_count": 48,
     "metadata": {},
     "output_type": "execute_result"
    }
   ],
   "source": [
    "df.Additional_Info.unique()"
   ]
  },
  {
   "cell_type": "code",
   "execution_count": 49,
   "id": "e77e3cb2",
   "metadata": {
    "execution": {
     "iopub.execute_input": "2022-10-01T16:20:12.345170Z",
     "iopub.status.busy": "2022-10-01T16:20:12.344424Z",
     "iopub.status.idle": "2022-10-01T16:20:12.351147Z",
     "shell.execute_reply": "2022-10-01T16:20:12.350269Z"
    },
    "papermill": {
     "duration": 0.071709,
     "end_time": "2022-10-01T16:20:12.353740",
     "exception": false,
     "start_time": "2022-10-01T16:20:12.282031",
     "status": "completed"
    },
    "tags": []
   },
   "outputs": [],
   "source": [
    "df['Additional_Info']=df['Additional_Info'].replace({'No Info':'No info'})"
   ]
  },
  {
   "cell_type": "code",
   "execution_count": 50,
   "id": "ff43d6f3",
   "metadata": {
    "execution": {
     "iopub.execute_input": "2022-10-01T16:20:12.475825Z",
     "iopub.status.busy": "2022-10-01T16:20:12.475385Z",
     "iopub.status.idle": "2022-10-01T16:20:12.799863Z",
     "shell.execute_reply": "2022-10-01T16:20:12.798703Z"
    },
    "papermill": {
     "duration": 0.38885,
     "end_time": "2022-10-01T16:20:12.802458",
     "exception": false,
     "start_time": "2022-10-01T16:20:12.413608",
     "status": "completed"
    },
    "tags": []
   },
   "outputs": [
    {
     "name": "stdout",
     "output_type": "stream",
     "text": [
      "No info                         8185\n",
      "In-flight meal not included     1926\n",
      "No check-in baggage included     318\n",
      "1 Long layover                    19\n",
      "Change airports                    7\n",
      "Business class                     4\n",
      "1 Short layover                    1\n",
      "Red-eye flight                     1\n",
      "2 Long layover                     1\n",
      "Name: Additional_Info, dtype: int64\n"
     ]
    },
    {
     "data": {
      "text/plain": [
       "<AxesSubplot:>"
      ]
     },
     "execution_count": 50,
     "metadata": {},
     "output_type": "execute_result"
    },
    {
     "data": {
      "image/png": "[encoded data removed]",
      "text/plain": [
       "<Figure size 720x432 with 1 Axes>"
      ]
     },
     "metadata": {},
     "output_type": "display_data"
    }
   ],
   "source": [
    "print(df.Additional_Info.value_counts())\n",
    "df.Additional_Info.value_counts(normalize=True).plot(kind='bar')"
   ]
  },
  {
   "cell_type": "markdown",
   "id": "964a14b1",
   "metadata": {
    "papermill": {
     "duration": 0.060368,
     "end_time": "2022-10-01T16:20:12.927922",
     "exception": false,
     "start_time": "2022-10-01T16:20:12.867554",
     "status": "completed"
    },
    "tags": []
   },
   "source": [
    "\n",
    "<p style= \"font-family:Georgia;color:#000000;font-size:110%;text-align:center;border-radius:10px 10px;border-style: solid;border-width:5px;border-color:#fbff00;\"><br>From the above bar chart we can say that,top 3 Additional info are<br>\n",
    "    <b>1.No info.<br>\n",
    "    2.In-flight meal not included.<br>\n",
    "    3.No check-in baggage included.<br></b>\n",
    "    <br></p>"
   ]
  },
  {
   "cell_type": "code",
   "execution_count": 51,
   "id": "397b45c2",
   "metadata": {
    "execution": {
     "iopub.execute_input": "2022-10-01T16:20:13.052803Z",
     "iopub.status.busy": "2022-10-01T16:20:13.052023Z",
     "iopub.status.idle": "2022-10-01T16:20:13.322358Z",
     "shell.execute_reply": "2022-10-01T16:20:13.321128Z"
    },
    "papermill": {
     "duration": 0.336583,
     "end_time": "2022-10-01T16:20:13.325298",
     "exception": false,
     "start_time": "2022-10-01T16:20:12.988715",
     "status": "completed"
    },
    "tags": []
   },
   "outputs": [
    {
     "data": {
      "text/plain": [
       "(array([-1.,  0.,  1.,  2.,  3.,  4.,  5.,  6.,  7.,  8.,  9.]),\n",
       " [Text(-1.0, 0, 'Red-eye flight'),\n",
       "  Text(0.0, 0, '1 Long layover'),\n",
       "  Text(1.0, 0, '1 Short layover'),\n",
       "  Text(2.0, 0, '2 Long layover'),\n",
       "  Text(3.0, 0, 'Business class'),\n",
       "  Text(4.0, 0, 'Change airports'),\n",
       "  Text(5.0, 0, 'In-flight meal not included'),\n",
       "  Text(6.0, 0, 'No check-in baggage included'),\n",
       "  Text(7.0, 0, 'No info'),\n",
       "  Text(8.0, 0, 'Red-eye flight'),\n",
       "  Text(9.0, 0, '')])"
      ]
     },
     "execution_count": 51,
     "metadata": {},
     "output_type": "execute_result"
    },
    {
     "data": {
      "image/png": "[encoded data removed]",
      "text/plain": [
       "<Figure size 720x432 with 1 Axes>"
      ]
     },
     "metadata": {},
     "output_type": "display_data"
    }
   ],
   "source": [
    "df.groupby('Additional_Info')[['Price']].mean().plot(kind='line')\n",
    "plt.xticks(rotation=75)"
   ]
  },
  {
   "cell_type": "markdown",
   "id": "5656c1ca",
   "metadata": {
    "papermill": {
     "duration": 0.062127,
     "end_time": "2022-10-01T16:20:13.452627",
     "exception": false,
     "start_time": "2022-10-01T16:20:13.390500",
     "status": "completed"
    },
    "tags": []
   },
   "source": [
    "   <div style=\"color:yellow;display:fill;border-radius:8px;\n",
    "            background-color:#ffcc00;font-size:160%;\n",
    "            font-family:Nexa;letter-spacing:0.5px\">\n",
    "    <p style=\"padding: 8px\n",
    ";color:blue;\"><b> Day  </b></p>\n",
    "</div>\n"
   ]
  },
  {
   "cell_type": "code",
   "execution_count": 52,
   "id": "2858c759",
   "metadata": {
    "execution": {
     "iopub.execute_input": "2022-10-01T16:20:13.579202Z",
     "iopub.status.busy": "2022-10-01T16:20:13.578453Z",
     "iopub.status.idle": "2022-10-01T16:20:13.881669Z",
     "shell.execute_reply": "2022-10-01T16:20:13.880453Z"
    },
    "papermill": {
     "duration": 0.370151,
     "end_time": "2022-10-01T16:20:13.884444",
     "exception": false,
     "start_time": "2022-10-01T16:20:13.514293",
     "status": "completed"
    },
    "tags": []
   },
   "outputs": [
    {
     "name": "stdout",
     "output_type": "stream",
     "text": [
      "Thursday     2231\n",
      "Friday       1781\n",
      "Wednesday    1579\n",
      "Monday       1451\n",
      "Tuesday      1217\n",
      "Saturday     1168\n",
      "Sunday       1035\n",
      "Name: Day, dtype: int64\n"
     ]
    },
    {
     "data": {
      "text/plain": [
       "<AxesSubplot:>"
      ]
     },
     "execution_count": 52,
     "metadata": {},
     "output_type": "execute_result"
    },
    {
     "data": {
      "image/png": "[encoded data removed]",
      "text/plain": [
       "<Figure size 720x432 with 1 Axes>"
      ]
     },
     "metadata": {},
     "output_type": "display_data"
    }
   ],
   "source": [
    "print(df.Day.value_counts())\n",
    "df.Day.value_counts(normalize=True).plot(kind='bar')"
   ]
  },
  {
   "cell_type": "code",
   "execution_count": 53,
   "id": "acd69e80",
   "metadata": {
    "execution": {
     "iopub.execute_input": "2022-10-01T16:20:14.011541Z",
     "iopub.status.busy": "2022-10-01T16:20:14.011109Z",
     "iopub.status.idle": "2022-10-01T16:20:14.064452Z",
     "shell.execute_reply": "2022-10-01T16:20:14.063148Z"
    },
    "papermill": {
     "duration": 0.120494,
     "end_time": "2022-10-01T16:20:14.067037",
     "exception": false,
     "start_time": "2022-10-01T16:20:13.946543",
     "status": "completed"
    },
    "tags": []
   },
   "outputs": [
    {
     "data": {
      "text/html": [
       "<div>\n",
       "<style scoped>\n",
       "    .dataframe tbody tr th:only-of-type {\n",
       "        vertical-align: middle;\n",
       "    }\n",
       "\n",
       "    .dataframe tbody tr th {\n",
       "        vertical-align: top;\n",
       "    }\n",
       "\n",
       "    .dataframe thead tr th {\n",
       "        text-align: left;\n",
       "    }\n",
       "\n",
       "    .dataframe thead tr:last-of-type th {\n",
       "        text-align: right;\n",
       "    }\n",
       "</style>\n",
       "<table border=\"1\" class=\"dataframe\">\n",
       "  <thead>\n",
       "    <tr>\n",
       "      <th></th>\n",
       "      <th colspan=\"8\" halign=\"left\">Price</th>\n",
       "    </tr>\n",
       "    <tr>\n",
       "      <th></th>\n",
       "      <th>count</th>\n",
       "      <th>mean</th>\n",
       "      <th>std</th>\n",
       "      <th>min</th>\n",
       "      <th>25%</th>\n",
       "      <th>50%</th>\n",
       "      <th>75%</th>\n",
       "      <th>max</th>\n",
       "    </tr>\n",
       "    <tr>\n",
       "      <th>Day</th>\n",
       "      <th></th>\n",
       "      <th></th>\n",
       "      <th></th>\n",
       "      <th></th>\n",
       "      <th></th>\n",
       "      <th></th>\n",
       "      <th></th>\n",
       "      <th></th>\n",
       "    </tr>\n",
       "  </thead>\n",
       "  <tbody>\n",
       "    <tr>\n",
       "      <th>Friday</th>\n",
       "      <td>1781.0</td>\n",
       "      <td>8516.704099</td>\n",
       "      <td>3702.168850</td>\n",
       "      <td>1965.0</td>\n",
       "      <td>5277.0</td>\n",
       "      <td>8266.0</td>\n",
       "      <td>10919.0</td>\n",
       "      <td>27210.0</td>\n",
       "    </tr>\n",
       "    <tr>\n",
       "      <th>Monday</th>\n",
       "      <td>1451.0</td>\n",
       "      <td>9625.053756</td>\n",
       "      <td>5260.066567</td>\n",
       "      <td>1759.0</td>\n",
       "      <td>4958.5</td>\n",
       "      <td>8907.0</td>\n",
       "      <td>13502.0</td>\n",
       "      <td>54826.0</td>\n",
       "    </tr>\n",
       "    <tr>\n",
       "      <th>Saturday</th>\n",
       "      <td>1168.0</td>\n",
       "      <td>8773.347603</td>\n",
       "      <td>3839.354435</td>\n",
       "      <td>1965.0</td>\n",
       "      <td>5192.0</td>\n",
       "      <td>8586.0</td>\n",
       "      <td>11982.0</td>\n",
       "      <td>19644.0</td>\n",
       "    </tr>\n",
       "    <tr>\n",
       "      <th>Sunday</th>\n",
       "      <td>1035.0</td>\n",
       "      <td>9565.657005</td>\n",
       "      <td>4618.226207</td>\n",
       "      <td>1965.0</td>\n",
       "      <td>5887.5</td>\n",
       "      <td>8855.0</td>\n",
       "      <td>13014.0</td>\n",
       "      <td>46490.0</td>\n",
       "    </tr>\n",
       "    <tr>\n",
       "      <th>Thursday</th>\n",
       "      <td>2231.0</td>\n",
       "      <td>9747.583147</td>\n",
       "      <td>5666.773578</td>\n",
       "      <td>1759.0</td>\n",
       "      <td>6015.0</td>\n",
       "      <td>8603.0</td>\n",
       "      <td>12557.0</td>\n",
       "      <td>79512.0</td>\n",
       "    </tr>\n",
       "    <tr>\n",
       "      <th>Tuesday</th>\n",
       "      <td>1217.0</td>\n",
       "      <td>8904.513558</td>\n",
       "      <td>4407.102421</td>\n",
       "      <td>1965.0</td>\n",
       "      <td>4823.0</td>\n",
       "      <td>8033.0</td>\n",
       "      <td>12734.0</td>\n",
       "      <td>34608.0</td>\n",
       "    </tr>\n",
       "    <tr>\n",
       "      <th>Wednesday</th>\n",
       "      <td>1579.0</td>\n",
       "      <td>7962.445218</td>\n",
       "      <td>3598.058242</td>\n",
       "      <td>1759.0</td>\n",
       "      <td>4823.0</td>\n",
       "      <td>7228.0</td>\n",
       "      <td>10703.0</td>\n",
       "      <td>21219.0</td>\n",
       "    </tr>\n",
       "  </tbody>\n",
       "</table>\n",
       "</div>"
      ],
      "text/plain": [
       "            Price                                                             \\\n",
       "            count         mean          std     min     25%     50%      75%   \n",
       "Day                                                                            \n",
       "Friday     1781.0  8516.704099  3702.168850  1965.0  5277.0  8266.0  10919.0   \n",
       "Monday     1451.0  9625.053756  5260.066567  1759.0  4958.5  8907.0  13502.0   \n",
       "Saturday   1168.0  8773.347603  3839.354435  1965.0  5192.0  8586.0  11982.0   \n",
       "Sunday     1035.0  9565.657005  4618.226207  1965.0  5887.5  8855.0  13014.0   \n",
       "Thursday   2231.0  9747.583147  5666.773578  1759.0  6015.0  8603.0  12557.0   \n",
       "Tuesday    1217.0  8904.513558  4407.102421  1965.0  4823.0  8033.0  12734.0   \n",
       "Wednesday  1579.0  7962.445218  3598.058242  1759.0  4823.0  7228.0  10703.0   \n",
       "\n",
       "                    \n",
       "               max  \n",
       "Day                 \n",
       "Friday     27210.0  \n",
       "Monday     54826.0  \n",
       "Saturday   19644.0  \n",
       "Sunday     46490.0  \n",
       "Thursday   79512.0  \n",
       "Tuesday    34608.0  \n",
       "Wednesday  21219.0  "
      ]
     },
     "execution_count": 53,
     "metadata": {},
     "output_type": "execute_result"
    }
   ],
   "source": [
    "df.groupby('Day')[['Price']].describe()"
   ]
  },
  {
   "cell_type": "code",
   "execution_count": 54,
   "id": "3324c38d",
   "metadata": {
    "execution": {
     "iopub.execute_input": "2022-10-01T16:20:14.196657Z",
     "iopub.status.busy": "2022-10-01T16:20:14.195982Z",
     "iopub.status.idle": "2022-10-01T16:20:15.102480Z",
     "shell.execute_reply": "2022-10-01T16:20:15.101367Z"
    },
    "papermill": {
     "duration": 0.973043,
     "end_time": "2022-10-01T16:20:15.104955",
     "exception": false,
     "start_time": "2022-10-01T16:20:14.131912",
     "status": "completed"
    },
    "tags": []
   },
   "outputs": [
    {
     "data": {
      "text/plain": [
       "<AxesSubplot:xlabel='Day', ylabel='Price'>"
      ]
     },
     "execution_count": 54,
     "metadata": {},
     "output_type": "execute_result"
    },
    {
     "data": {
      "image/png": "[encoded data removed]",
      "text/plain": [
       "<Figure size 720x432 with 1 Axes>"
      ]
     },
     "metadata": {},
     "output_type": "display_data"
    }
   ],
   "source": [
    "sns.barplot(data=df,x='Day',y='Price',estimator=np.median)\n"
   ]
  },
  {
   "cell_type": "markdown",
   "id": "ee658c97",
   "metadata": {
    "papermill": {
     "duration": 0.06255,
     "end_time": "2022-10-01T16:20:15.232143",
     "exception": false,
     "start_time": "2022-10-01T16:20:15.169593",
     "status": "completed"
    },
    "tags": []
   },
   "source": [
    "\n",
    "<p style= \"font-family:Georgia;color:#000000;font-size:110%;text-align:center;border-radius:10px 10px;border-style: solid;border-width:5px;border-color:#fbff00;\"><br>From the above bar chart we can say that,All week days nearly have the same prices for Air line<br>\n",
    "    <br></p>"
   ]
  },
  {
   "cell_type": "markdown",
   "id": "04e9b6b3",
   "metadata": {
    "papermill": {
     "duration": 0.062577,
     "end_time": "2022-10-01T16:20:15.357686",
     "exception": false,
     "start_time": "2022-10-01T16:20:15.295109",
     "status": "completed"
    },
    "tags": []
   },
   "source": [
    "   <div style=\"color:yellow;display:fill;border-radius:8px;\n",
    "            background-color:#ffcc00;font-size:160%;\n",
    "            font-family:Nexa;letter-spacing:0.5px\">\n",
    "    <p style=\"padding: 8px\n",
    ";color:blue;\"><b> Month  </b></p>\n",
    "</div>\n"
   ]
  },
  {
   "cell_type": "code",
   "execution_count": 55,
   "id": "0138d8d9",
   "metadata": {
    "execution": {
     "iopub.execute_input": "2022-10-01T16:20:15.485220Z",
     "iopub.status.busy": "2022-10-01T16:20:15.484411Z",
     "iopub.status.idle": "2022-10-01T16:20:15.748966Z",
     "shell.execute_reply": "2022-10-01T16:20:15.747797Z"
    },
    "papermill": {
     "duration": 0.33172,
     "end_time": "2022-10-01T16:20:15.751800",
     "exception": false,
     "start_time": "2022-10-01T16:20:15.420080",
     "status": "completed"
    },
    "tags": []
   },
   "outputs": [
    {
     "name": "stdout",
     "output_type": "stream",
     "text": [
      "6     2465\n",
      "3     2169\n",
      "5     2025\n",
      "9     1375\n",
      "1     1058\n",
      "12     946\n",
      "4      424\n",
      "Name: Month, dtype: int64\n"
     ]
    },
    {
     "data": {
      "text/plain": [
       "<AxesSubplot:>"
      ]
     },
     "execution_count": 55,
     "metadata": {},
     "output_type": "execute_result"
    },
    {
     "data": {
      "image/png": "[encoded data removed]",
      "text/plain": [
       "<Figure size 720x432 with 1 Axes>"
      ]
     },
     "metadata": {},
     "output_type": "display_data"
    }
   ],
   "source": [
    "print(df.Month.value_counts())\n",
    "df.Month.value_counts(normalize=True).plot(kind='bar')"
   ]
  },
  {
   "cell_type": "code",
   "execution_count": 56,
   "id": "83b39c96",
   "metadata": {
    "execution": {
     "iopub.execute_input": "2022-10-01T16:20:15.881693Z",
     "iopub.status.busy": "2022-10-01T16:20:15.881003Z",
     "iopub.status.idle": "2022-10-01T16:20:15.934247Z",
     "shell.execute_reply": "2022-10-01T16:20:15.932880Z"
    },
    "papermill": {
     "duration": 0.121076,
     "end_time": "2022-10-01T16:20:15.936877",
     "exception": false,
     "start_time": "2022-10-01T16:20:15.815801",
     "status": "completed"
    },
    "tags": []
   },
   "outputs": [
    {
     "data": {
      "text/html": [
       "<div>\n",
       "<style scoped>\n",
       "    .dataframe tbody tr th:only-of-type {\n",
       "        vertical-align: middle;\n",
       "    }\n",
       "\n",
       "    .dataframe tbody tr th {\n",
       "        vertical-align: top;\n",
       "    }\n",
       "\n",
       "    .dataframe thead tr th {\n",
       "        text-align: left;\n",
       "    }\n",
       "\n",
       "    .dataframe thead tr:last-of-type th {\n",
       "        text-align: right;\n",
       "    }\n",
       "</style>\n",
       "<table border=\"1\" class=\"dataframe\">\n",
       "  <thead>\n",
       "    <tr>\n",
       "      <th></th>\n",
       "      <th colspan=\"8\" halign=\"left\">Price</th>\n",
       "    </tr>\n",
       "    <tr>\n",
       "      <th></th>\n",
       "      <th>count</th>\n",
       "      <th>mean</th>\n",
       "      <th>std</th>\n",
       "      <th>min</th>\n",
       "      <th>25%</th>\n",
       "      <th>50%</th>\n",
       "      <th>75%</th>\n",
       "      <th>max</th>\n",
       "    </tr>\n",
       "    <tr>\n",
       "      <th>Month</th>\n",
       "      <th></th>\n",
       "      <th></th>\n",
       "      <th></th>\n",
       "      <th></th>\n",
       "      <th></th>\n",
       "      <th></th>\n",
       "      <th></th>\n",
       "      <th></th>\n",
       "    </tr>\n",
       "  </thead>\n",
       "  <tbody>\n",
       "    <tr>\n",
       "      <th>1</th>\n",
       "      <td>1058.0</td>\n",
       "      <td>10457.094518</td>\n",
       "      <td>7177.094771</td>\n",
       "      <td>1965.0</td>\n",
       "      <td>5515.00</td>\n",
       "      <td>8849.0</td>\n",
       "      <td>12936.75</td>\n",
       "      <td>79512.0</td>\n",
       "    </tr>\n",
       "    <tr>\n",
       "      <th>3</th>\n",
       "      <td>2169.0</td>\n",
       "      <td>8425.913785</td>\n",
       "      <td>4395.681298</td>\n",
       "      <td>1759.0</td>\n",
       "      <td>5170.00</td>\n",
       "      <td>7486.0</td>\n",
       "      <td>11392.00</td>\n",
       "      <td>54826.0</td>\n",
       "    </tr>\n",
       "    <tr>\n",
       "      <th>4</th>\n",
       "      <td>424.0</td>\n",
       "      <td>5230.860849</td>\n",
       "      <td>1052.465994</td>\n",
       "      <td>3383.0</td>\n",
       "      <td>4423.00</td>\n",
       "      <td>4924.0</td>\n",
       "      <td>6093.25</td>\n",
       "      <td>9564.0</td>\n",
       "    </tr>\n",
       "    <tr>\n",
       "      <th>5</th>\n",
       "      <td>2025.0</td>\n",
       "      <td>9253.126914</td>\n",
       "      <td>3912.361395</td>\n",
       "      <td>1965.0</td>\n",
       "      <td>6094.00</td>\n",
       "      <td>9187.0</td>\n",
       "      <td>12898.00</td>\n",
       "      <td>21219.0</td>\n",
       "    </tr>\n",
       "    <tr>\n",
       "      <th>6</th>\n",
       "      <td>2465.0</td>\n",
       "      <td>9138.287221</td>\n",
       "      <td>4513.329094</td>\n",
       "      <td>1965.0</td>\n",
       "      <td>5054.00</td>\n",
       "      <td>8452.0</td>\n",
       "      <td>12819.00</td>\n",
       "      <td>52285.0</td>\n",
       "    </tr>\n",
       "    <tr>\n",
       "      <th>9</th>\n",
       "      <td>1375.0</td>\n",
       "      <td>9474.560000</td>\n",
       "      <td>4052.895687</td>\n",
       "      <td>1965.0</td>\n",
       "      <td>6257.50</td>\n",
       "      <td>9314.0</td>\n",
       "      <td>12373.00</td>\n",
       "      <td>34608.0</td>\n",
       "    </tr>\n",
       "    <tr>\n",
       "      <th>12</th>\n",
       "      <td>946.0</td>\n",
       "      <td>9080.340381</td>\n",
       "      <td>3812.499458</td>\n",
       "      <td>1965.0</td>\n",
       "      <td>5602.75</td>\n",
       "      <td>8949.0</td>\n",
       "      <td>12506.75</td>\n",
       "      <td>23843.0</td>\n",
       "    </tr>\n",
       "  </tbody>\n",
       "</table>\n",
       "</div>"
      ],
      "text/plain": [
       "        Price                                                                \\\n",
       "        count          mean          std     min      25%     50%       75%   \n",
       "Month                                                                         \n",
       "1      1058.0  10457.094518  7177.094771  1965.0  5515.00  8849.0  12936.75   \n",
       "3      2169.0   8425.913785  4395.681298  1759.0  5170.00  7486.0  11392.00   \n",
       "4       424.0   5230.860849  1052.465994  3383.0  4423.00  4924.0   6093.25   \n",
       "5      2025.0   9253.126914  3912.361395  1965.0  6094.00  9187.0  12898.00   \n",
       "6      2465.0   9138.287221  4513.329094  1965.0  5054.00  8452.0  12819.00   \n",
       "9      1375.0   9474.560000  4052.895687  1965.0  6257.50  9314.0  12373.00   \n",
       "12      946.0   9080.340381  3812.499458  1965.0  5602.75  8949.0  12506.75   \n",
       "\n",
       "                \n",
       "           max  \n",
       "Month           \n",
       "1      79512.0  \n",
       "3      54826.0  \n",
       "4       9564.0  \n",
       "5      21219.0  \n",
       "6      52285.0  \n",
       "9      34608.0  \n",
       "12     23843.0  "
      ]
     },
     "execution_count": 56,
     "metadata": {},
     "output_type": "execute_result"
    }
   ],
   "source": [
    "df.groupby('Month')[['Price']].describe()"
   ]
  },
  {
   "cell_type": "code",
   "execution_count": 57,
   "id": "2310e5a7",
   "metadata": {
    "execution": {
     "iopub.execute_input": "2022-10-01T16:20:16.066285Z",
     "iopub.status.busy": "2022-10-01T16:20:16.065881Z",
     "iopub.status.idle": "2022-10-01T16:20:16.922394Z",
     "shell.execute_reply": "2022-10-01T16:20:16.921146Z"
    },
    "papermill": {
     "duration": 0.924449,
     "end_time": "2022-10-01T16:20:16.925052",
     "exception": false,
     "start_time": "2022-10-01T16:20:16.000603",
     "status": "completed"
    },
    "tags": []
   },
   "outputs": [
    {
     "data": {
      "text/plain": [
       "<AxesSubplot:xlabel='Month', ylabel='Price'>"
      ]
     },
     "execution_count": 57,
     "metadata": {},
     "output_type": "execute_result"
    },
    {
     "data": {
      "image/png": "[encoded data removed]",
      "text/plain": [
       "<Figure size 720x432 with 1 Axes>"
      ]
     },
     "metadata": {},
     "output_type": "display_data"
    }
   ],
   "source": [
    "sns.barplot(data=df,x='Month',y='Price',estimator=np.median)"
   ]
  },
  {
   "cell_type": "markdown",
   "id": "fb5a8a0e",
   "metadata": {},
   "source": [
    "# <b>5 <span style='color:#0000FF'>|</span> Encoding</b>"
   ]
  },
  {
   "cell_type": "code",
   "execution_count": 58,
   "id": "fb82ce9d",
   "metadata": {
    "execution": {
     "iopub.execute_input": "2022-10-01T16:20:17.187747Z",
     "iopub.status.busy": "2022-10-01T16:20:17.187022Z",
     "iopub.status.idle": "2022-10-01T16:20:17.202204Z",
     "shell.execute_reply": "2022-10-01T16:20:17.201409Z"
    },
    "papermill": {
     "duration": 0.083662,
     "end_time": "2022-10-01T16:20:17.204335",
     "exception": false,
     "start_time": "2022-10-01T16:20:17.120673",
     "status": "completed"
    },
    "scrolled": true,
    "tags": []
   },
   "outputs": [
    {
     "data": {
      "text/html": [
       "<div>\n",
       "<style scoped>\n",
       "    .dataframe tbody tr th:only-of-type {\n",
       "        vertical-align: middle;\n",
       "    }\n",
       "\n",
       "    .dataframe tbody tr th {\n",
       "        vertical-align: top;\n",
       "    }\n",
       "\n",
       "    .dataframe thead th {\n",
       "        text-align: right;\n",
       "    }\n",
       "</style>\n",
       "<table border=\"1\" class=\"dataframe\">\n",
       "  <thead>\n",
       "    <tr style=\"text-align: right;\">\n",
       "      <th></th>\n",
       "      <th>Airline</th>\n",
       "      <th>Source</th>\n",
       "      <th>Destination</th>\n",
       "      <th>Month</th>\n",
       "      <th>Day</th>\n",
       "      <th>Dep_Time</th>\n",
       "      <th>Arrival_Time</th>\n",
       "      <th>Duration</th>\n",
       "      <th>Total_Stops</th>\n",
       "      <th>Additional_Info</th>\n",
       "      <th>Price</th>\n",
       "    </tr>\n",
       "  </thead>\n",
       "  <tbody>\n",
       "    <tr>\n",
       "      <th>0</th>\n",
       "      <td>IndiGo</td>\n",
       "      <td>Banglore</td>\n",
       "      <td>New Delhi</td>\n",
       "      <td>3</td>\n",
       "      <td>Sunday</td>\n",
       "      <td>Night</td>\n",
       "      <td>Late Night</td>\n",
       "      <td>170</td>\n",
       "      <td>non-stop</td>\n",
       "      <td>No info</td>\n",
       "      <td>3897</td>\n",
       "    </tr>\n",
       "    <tr>\n",
       "      <th>1</th>\n",
       "      <td>Air India</td>\n",
       "      <td>Kolkata</td>\n",
       "      <td>Banglore</td>\n",
       "      <td>1</td>\n",
       "      <td>Saturday</td>\n",
       "      <td>Early Morning</td>\n",
       "      <td>Noon</td>\n",
       "      <td>445</td>\n",
       "      <td>2 stops</td>\n",
       "      <td>No info</td>\n",
       "      <td>7662</td>\n",
       "    </tr>\n",
       "    <tr>\n",
       "      <th>2</th>\n",
       "      <td>Jet Airways</td>\n",
       "      <td>Delhi</td>\n",
       "      <td>Cochin</td>\n",
       "      <td>9</td>\n",
       "      <td>Friday</td>\n",
       "      <td>Morning</td>\n",
       "      <td>Late Night</td>\n",
       "      <td>1140</td>\n",
       "      <td>2 stops</td>\n",
       "      <td>No info</td>\n",
       "      <td>13882</td>\n",
       "    </tr>\n",
       "    <tr>\n",
       "      <th>3</th>\n",
       "      <td>IndiGo</td>\n",
       "      <td>Kolkata</td>\n",
       "      <td>Banglore</td>\n",
       "      <td>12</td>\n",
       "      <td>Thursday</td>\n",
       "      <td>Evening</td>\n",
       "      <td>Night</td>\n",
       "      <td>325</td>\n",
       "      <td>1 stop</td>\n",
       "      <td>No info</td>\n",
       "      <td>6218</td>\n",
       "    </tr>\n",
       "    <tr>\n",
       "      <th>4</th>\n",
       "      <td>IndiGo</td>\n",
       "      <td>Banglore</td>\n",
       "      <td>New Delhi</td>\n",
       "      <td>1</td>\n",
       "      <td>Thursday</td>\n",
       "      <td>Noon</td>\n",
       "      <td>Night</td>\n",
       "      <td>285</td>\n",
       "      <td>1 stop</td>\n",
       "      <td>No info</td>\n",
       "      <td>13302</td>\n",
       "    </tr>\n",
       "  </tbody>\n",
       "</table>\n",
       "</div>"
      ],
      "text/plain": [
       "       Airline    Source Destination  Month       Day       Dep_Time  \\\n",
       "0       IndiGo  Banglore   New Delhi      3    Sunday          Night   \n",
       "1    Air India   Kolkata    Banglore      1  Saturday  Early Morning   \n",
       "2  Jet Airways     Delhi      Cochin      9    Friday        Morning   \n",
       "3       IndiGo   Kolkata    Banglore     12  Thursday        Evening   \n",
       "4       IndiGo  Banglore   New Delhi      1  Thursday           Noon   \n",
       "\n",
       "  Arrival_Time  Duration Total_Stops Additional_Info  Price  \n",
       "0   Late Night       170    non-stop         No info   3897  \n",
       "1         Noon       445     2 stops         No info   7662  \n",
       "2   Late Night      1140     2 stops         No info  13882  \n",
       "3        Night       325      1 stop         No info   6218  \n",
       "4        Night       285      1 stop         No info  13302  "
      ]
     },
     "execution_count": 58,
     "metadata": {},
     "output_type": "execute_result"
    }
   ],
   "source": [
    "df.head()"
   ]
  },
  {
   "cell_type": "code",
   "execution_count": 59,
   "id": "3525c918",
   "metadata": {
    "execution": {
     "iopub.execute_input": "2022-10-01T16:20:17.463400Z",
     "iopub.status.busy": "2022-10-01T16:20:17.462773Z",
     "iopub.status.idle": "2022-10-01T16:20:17.469571Z",
     "shell.execute_reply": "2022-10-01T16:20:17.468649Z"
    },
    "papermill": {
     "duration": 0.074786,
     "end_time": "2022-10-01T16:20:17.471935",
     "exception": false,
     "start_time": "2022-10-01T16:20:17.397149",
     "status": "completed"
    },
    "tags": []
   },
   "outputs": [],
   "source": [
    "def processed(df):\n",
    "                \n",
    "    ## label encoding \n",
    "    df['Total_Stops']=df['Total_Stops'].map({'non-stop':0 ,'1 stop':1 ,'2 stops':2,'3 stops':3,'4 stops':4,'NaN':0})\n",
    "    df['Additional_Info']=df['Additional_Info'].map({'No info':0, 'In-flight meal not included':1,\n",
    "                                                     'No check-in baggage included':2, '1 Short layover':3,\n",
    "                                                     '1 Long layover':4, 'Change airports':5, 'Business class':6,\n",
    "                                                     'Red-eye flight':6, '2 Long layover':7})\n",
    "    ## hot encoding \n",
    "    dummies=['Airline', 'Source', 'Destination', 'Dep_Time', 'Arrival_Time','Month', 'Day']\n",
    "    df=pd.get_dummies(df,columns=dummies,drop_first=True)\n",
    "    \n",
    "    return df"
   ]
  },
  {
   "cell_type": "code",
   "execution_count": 60,
   "id": "4f64e3df",
   "metadata": {
    "execution": {
     "iopub.execute_input": "2022-10-01T16:20:17.603457Z",
     "iopub.status.busy": "2022-10-01T16:20:17.602743Z",
     "iopub.status.idle": "2022-10-01T16:20:17.628966Z",
     "shell.execute_reply": "2022-10-01T16:20:17.627836Z"
    },
    "papermill": {
     "duration": 0.09593,
     "end_time": "2022-10-01T16:20:17.631934",
     "exception": false,
     "start_time": "2022-10-01T16:20:17.536004",
     "status": "completed"
    },
    "tags": []
   },
   "outputs": [],
   "source": [
    "df=processed(df)"
   ]
  },
  {
   "cell_type": "code",
   "execution_count": 61,
   "id": "bb792437",
   "metadata": {
    "execution": {
     "iopub.execute_input": "2022-10-01T16:20:17.762965Z",
     "iopub.status.busy": "2022-10-01T16:20:17.762550Z",
     "iopub.status.idle": "2022-10-01T16:20:17.789272Z",
     "shell.execute_reply": "2022-10-01T16:20:17.788443Z"
    },
    "papermill": {
     "duration": 0.095499,
     "end_time": "2022-10-01T16:20:17.791365",
     "exception": false,
     "start_time": "2022-10-01T16:20:17.695866",
     "status": "completed"
    },
    "scrolled": true,
    "tags": []
   },
   "outputs": [
    {
     "data": {
      "text/html": [
       "<div>\n",
       "<style scoped>\n",
       "    .dataframe tbody tr th:only-of-type {\n",
       "        vertical-align: middle;\n",
       "    }\n",
       "\n",
       "    .dataframe tbody tr th {\n",
       "        vertical-align: top;\n",
       "    }\n",
       "\n",
       "    .dataframe thead th {\n",
       "        text-align: right;\n",
       "    }\n",
       "</style>\n",
       "<table border=\"1\" class=\"dataframe\">\n",
       "  <thead>\n",
       "    <tr style=\"text-align: right;\">\n",
       "      <th></th>\n",
       "      <th>Duration</th>\n",
       "      <th>Total_Stops</th>\n",
       "      <th>Additional_Info</th>\n",
       "      <th>Price</th>\n",
       "      <th>Airline_Air India</th>\n",
       "      <th>Airline_GoAir</th>\n",
       "      <th>Airline_IndiGo</th>\n",
       "      <th>Airline_Jet Airways</th>\n",
       "      <th>Airline_Jet Airways Business</th>\n",
       "      <th>Airline_Multiple carriers</th>\n",
       "      <th>Airline_Multiple carriers Premium economy</th>\n",
       "      <th>Airline_SpiceJet</th>\n",
       "      <th>Airline_Trujet</th>\n",
       "      <th>Airline_Vistara</th>\n",
       "      <th>Airline_Vistara Premium economy</th>\n",
       "      <th>Source_Chennai</th>\n",
       "      <th>Source_Delhi</th>\n",
       "      <th>Source_Kolkata</th>\n",
       "      <th>Source_Mumbai</th>\n",
       "      <th>Destination_Cochin</th>\n",
       "      <th>Destination_Delhi</th>\n",
       "      <th>Destination_Hyderabad</th>\n",
       "      <th>Destination_Kolkata</th>\n",
       "      <th>Destination_New Delhi</th>\n",
       "      <th>Dep_Time_Evening</th>\n",
       "      <th>Dep_Time_Late Night</th>\n",
       "      <th>Dep_Time_Morning</th>\n",
       "      <th>Dep_Time_Night</th>\n",
       "      <th>Dep_Time_Noon</th>\n",
       "      <th>Arrival_Time_Evening</th>\n",
       "      <th>Arrival_Time_Late Night</th>\n",
       "      <th>Arrival_Time_Morning</th>\n",
       "      <th>Arrival_Time_Night</th>\n",
       "      <th>Arrival_Time_Noon</th>\n",
       "      <th>Month_3</th>\n",
       "      <th>Month_4</th>\n",
       "      <th>Month_5</th>\n",
       "      <th>Month_6</th>\n",
       "      <th>Month_9</th>\n",
       "      <th>Month_12</th>\n",
       "      <th>Day_Monday</th>\n",
       "      <th>Day_Saturday</th>\n",
       "      <th>Day_Sunday</th>\n",
       "      <th>Day_Thursday</th>\n",
       "      <th>Day_Tuesday</th>\n",
       "      <th>Day_Wednesday</th>\n",
       "    </tr>\n",
       "  </thead>\n",
       "  <tbody>\n",
       "    <tr>\n",
       "      <th>0</th>\n",
       "      <td>170</td>\n",
       "      <td>0</td>\n",
       "      <td>0</td>\n",
       "      <td>3897</td>\n",
       "      <td>0</td>\n",
       "      <td>0</td>\n",
       "      <td>1</td>\n",
       "      <td>0</td>\n",
       "      <td>0</td>\n",
       "      <td>0</td>\n",
       "      <td>0</td>\n",
       "      <td>0</td>\n",
       "      <td>0</td>\n",
       "      <td>0</td>\n",
       "      <td>0</td>\n",
       "      <td>0</td>\n",
       "      <td>0</td>\n",
       "      <td>0</td>\n",
       "      <td>0</td>\n",
       "      <td>0</td>\n",
       "      <td>0</td>\n",
       "      <td>0</td>\n",
       "      <td>0</td>\n",
       "      <td>1</td>\n",
       "      <td>0</td>\n",
       "      <td>0</td>\n",
       "      <td>0</td>\n",
       "      <td>1</td>\n",
       "      <td>0</td>\n",
       "      <td>0</td>\n",
       "      <td>1</td>\n",
       "      <td>0</td>\n",
       "      <td>0</td>\n",
       "      <td>0</td>\n",
       "      <td>1</td>\n",
       "      <td>0</td>\n",
       "      <td>0</td>\n",
       "      <td>0</td>\n",
       "      <td>0</td>\n",
       "      <td>0</td>\n",
       "      <td>0</td>\n",
       "      <td>0</td>\n",
       "      <td>1</td>\n",
       "      <td>0</td>\n",
       "      <td>0</td>\n",
       "      <td>0</td>\n",
       "    </tr>\n",
       "    <tr>\n",
       "      <th>1</th>\n",
       "      <td>445</td>\n",
       "      <td>2</td>\n",
       "      <td>0</td>\n",
       "      <td>7662</td>\n",
       "      <td>1</td>\n",
       "      <td>0</td>\n",
       "      <td>0</td>\n",
       "      <td>0</td>\n",
       "      <td>0</td>\n",
       "      <td>0</td>\n",
       "      <td>0</td>\n",
       "      <td>0</td>\n",
       "      <td>0</td>\n",
       "      <td>0</td>\n",
       "      <td>0</td>\n",
       "      <td>0</td>\n",
       "      <td>0</td>\n",
       "      <td>1</td>\n",
       "      <td>0</td>\n",
       "      <td>0</td>\n",
       "      <td>0</td>\n",
       "      <td>0</td>\n",
       "      <td>0</td>\n",
       "      <td>0</td>\n",
       "      <td>0</td>\n",
       "      <td>0</td>\n",
       "      <td>0</td>\n",
       "      <td>0</td>\n",
       "      <td>0</td>\n",
       "      <td>0</td>\n",
       "      <td>0</td>\n",
       "      <td>0</td>\n",
       "      <td>0</td>\n",
       "      <td>1</td>\n",
       "      <td>0</td>\n",
       "      <td>0</td>\n",
       "      <td>0</td>\n",
       "      <td>0</td>\n",
       "      <td>0</td>\n",
       "      <td>0</td>\n",
       "      <td>0</td>\n",
       "      <td>1</td>\n",
       "      <td>0</td>\n",
       "      <td>0</td>\n",
       "      <td>0</td>\n",
       "      <td>0</td>\n",
       "    </tr>\n",
       "    <tr>\n",
       "      <th>2</th>\n",
       "      <td>1140</td>\n",
       "      <td>2</td>\n",
       "      <td>0</td>\n",
       "      <td>13882</td>\n",
       "      <td>0</td>\n",
       "      <td>0</td>\n",
       "      <td>0</td>\n",
       "      <td>1</td>\n",
       "      <td>0</td>\n",
       "      <td>0</td>\n",
       "      <td>0</td>\n",
       "      <td>0</td>\n",
       "      <td>0</td>\n",
       "      <td>0</td>\n",
       "      <td>0</td>\n",
       "      <td>0</td>\n",
       "      <td>1</td>\n",
       "      <td>0</td>\n",
       "      <td>0</td>\n",
       "      <td>1</td>\n",
       "      <td>0</td>\n",
       "      <td>0</td>\n",
       "      <td>0</td>\n",
       "      <td>0</td>\n",
       "      <td>0</td>\n",
       "      <td>0</td>\n",
       "      <td>1</td>\n",
       "      <td>0</td>\n",
       "      <td>0</td>\n",
       "      <td>0</td>\n",
       "      <td>1</td>\n",
       "      <td>0</td>\n",
       "      <td>0</td>\n",
       "      <td>0</td>\n",
       "      <td>0</td>\n",
       "      <td>0</td>\n",
       "      <td>0</td>\n",
       "      <td>0</td>\n",
       "      <td>1</td>\n",
       "      <td>0</td>\n",
       "      <td>0</td>\n",
       "      <td>0</td>\n",
       "      <td>0</td>\n",
       "      <td>0</td>\n",
       "      <td>0</td>\n",
       "      <td>0</td>\n",
       "    </tr>\n",
       "    <tr>\n",
       "      <th>3</th>\n",
       "      <td>325</td>\n",
       "      <td>1</td>\n",
       "      <td>0</td>\n",
       "      <td>6218</td>\n",
       "      <td>0</td>\n",
       "      <td>0</td>\n",
       "      <td>1</td>\n",
       "      <td>0</td>\n",
       "      <td>0</td>\n",
       "      <td>0</td>\n",
       "      <td>0</td>\n",
       "      <td>0</td>\n",
       "      <td>0</td>\n",
       "      <td>0</td>\n",
       "      <td>0</td>\n",
       "      <td>0</td>\n",
       "      <td>0</td>\n",
       "      <td>1</td>\n",
       "      <td>0</td>\n",
       "      <td>0</td>\n",
       "      <td>0</td>\n",
       "      <td>0</td>\n",
       "      <td>0</td>\n",
       "      <td>0</td>\n",
       "      <td>1</td>\n",
       "      <td>0</td>\n",
       "      <td>0</td>\n",
       "      <td>0</td>\n",
       "      <td>0</td>\n",
       "      <td>0</td>\n",
       "      <td>0</td>\n",
       "      <td>0</td>\n",
       "      <td>1</td>\n",
       "      <td>0</td>\n",
       "      <td>0</td>\n",
       "      <td>0</td>\n",
       "      <td>0</td>\n",
       "      <td>0</td>\n",
       "      <td>0</td>\n",
       "      <td>1</td>\n",
       "      <td>0</td>\n",
       "      <td>0</td>\n",
       "      <td>0</td>\n",
       "      <td>1</td>\n",
       "      <td>0</td>\n",
       "      <td>0</td>\n",
       "    </tr>\n",
       "    <tr>\n",
       "      <th>4</th>\n",
       "      <td>285</td>\n",
       "      <td>1</td>\n",
       "      <td>0</td>\n",
       "      <td>13302</td>\n",
       "      <td>0</td>\n",
       "      <td>0</td>\n",
       "      <td>1</td>\n",
       "      <td>0</td>\n",
       "      <td>0</td>\n",
       "      <td>0</td>\n",
       "      <td>0</td>\n",
       "      <td>0</td>\n",
       "      <td>0</td>\n",
       "      <td>0</td>\n",
       "      <td>0</td>\n",
       "      <td>0</td>\n",
       "      <td>0</td>\n",
       "      <td>0</td>\n",
       "      <td>0</td>\n",
       "      <td>0</td>\n",
       "      <td>0</td>\n",
       "      <td>0</td>\n",
       "      <td>0</td>\n",
       "      <td>1</td>\n",
       "      <td>0</td>\n",
       "      <td>0</td>\n",
       "      <td>0</td>\n",
       "      <td>0</td>\n",
       "      <td>1</td>\n",
       "      <td>0</td>\n",
       "      <td>0</td>\n",
       "      <td>0</td>\n",
       "      <td>1</td>\n",
       "      <td>0</td>\n",
       "      <td>0</td>\n",
       "      <td>0</td>\n",
       "      <td>0</td>\n",
       "      <td>0</td>\n",
       "      <td>0</td>\n",
       "      <td>0</td>\n",
       "      <td>0</td>\n",
       "      <td>0</td>\n",
       "      <td>0</td>\n",
       "      <td>1</td>\n",
       "      <td>0</td>\n",
       "      <td>0</td>\n",
       "    </tr>\n",
       "  </tbody>\n",
       "</table>\n",
       "</div>"
      ],
      "text/plain": [
       "   Duration  Total_Stops  Additional_Info  Price  Airline_Air India  \\\n",
       "0       170            0                0   3897                  0   \n",
       "1       445            2                0   7662                  1   \n",
       "2      1140            2                0  13882                  0   \n",
       "3       325            1                0   6218                  0   \n",
       "4       285            1                0  13302                  0   \n",
       "\n",
       "   Airline_GoAir  Airline_IndiGo  Airline_Jet Airways  \\\n",
       "0              0               1                    0   \n",
       "1              0               0                    0   \n",
       "2              0               0                    1   \n",
       "3              0               1                    0   \n",
       "4              0               1                    0   \n",
       "\n",
       "   Airline_Jet Airways Business  Airline_Multiple carriers  \\\n",
       "0                             0                          0   \n",
       "1                             0                          0   \n",
       "2                             0                          0   \n",
       "3                             0                          0   \n",
       "4                             0                          0   \n",
       "\n",
       "   Airline_Multiple carriers Premium economy  Airline_SpiceJet  \\\n",
       "0                                          0                 0   \n",
       "1                                          0                 0   \n",
       "2                                          0                 0   \n",
       "3                                          0                 0   \n",
       "4                                          0                 0   \n",
       "\n",
       "   Airline_Trujet  Airline_Vistara  Airline_Vistara Premium economy  \\\n",
       "0               0                0                                0   \n",
       "1               0                0                                0   \n",
       "2               0                0                                0   \n",
       "3               0                0                                0   \n",
       "4               0                0                                0   \n",
       "\n",
       "   Source_Chennai  Source_Delhi  Source_Kolkata  Source_Mumbai  \\\n",
       "0               0             0               0              0   \n",
       "1               0             0               1              0   \n",
       "2               0             1               0              0   \n",
       "3               0             0               1              0   \n",
       "4               0             0               0              0   \n",
       "\n",
       "   Destination_Cochin  Destination_Delhi  Destination_Hyderabad  \\\n",
       "0                   0                  0                      0   \n",
       "1                   0                  0                      0   \n",
       "2                   1                  0                      0   \n",
       "3                   0                  0                      0   \n",
       "4                   0                  0                      0   \n",
       "\n",
       "   Destination_Kolkata  Destination_New Delhi  Dep_Time_Evening  \\\n",
       "0                    0                      1                 0   \n",
       "1                    0                      0                 0   \n",
       "2                    0                      0                 0   \n",
       "3                    0                      0                 1   \n",
       "4                    0                      1                 0   \n",
       "\n",
       "   Dep_Time_Late Night  Dep_Time_Morning  Dep_Time_Night  Dep_Time_Noon  \\\n",
       "0                    0                 0               1              0   \n",
       "1                    0                 0               0              0   \n",
       "2                    0                 1               0              0   \n",
       "3                    0                 0               0              0   \n",
       "4                    0                 0               0              1   \n",
       "\n",
       "   Arrival_Time_Evening  Arrival_Time_Late Night  Arrival_Time_Morning  \\\n",
       "0                     0                        1                     0   \n",
       "1                     0                        0                     0   \n",
       "2                     0                        1                     0   \n",
       "3                     0                        0                     0   \n",
       "4                     0                        0                     0   \n",
       "\n",
       "   Arrival_Time_Night  Arrival_Time_Noon  Month_3  Month_4  Month_5  Month_6  \\\n",
       "0                   0                  0        1        0        0        0   \n",
       "1                   0                  1        0        0        0        0   \n",
       "2                   0                  0        0        0        0        0   \n",
       "3                   1                  0        0        0        0        0   \n",
       "4                   1                  0        0        0        0        0   \n",
       "\n",
       "   Month_9  Month_12  Day_Monday  Day_Saturday  Day_Sunday  Day_Thursday  \\\n",
       "0        0         0           0             0           1             0   \n",
       "1        0         0           0             1           0             0   \n",
       "2        1         0           0             0           0             0   \n",
       "3        0         1           0             0           0             1   \n",
       "4        0         0           0             0           0             1   \n",
       "\n",
       "   Day_Tuesday  Day_Wednesday  \n",
       "0            0              0  \n",
       "1            0              0  \n",
       "2            0              0  \n",
       "3            0              0  \n",
       "4            0              0  "
      ]
     },
     "execution_count": 61,
     "metadata": {},
     "output_type": "execute_result"
    }
   ],
   "source": [
    "df.head()"
   ]
  },
  {
   "cell_type": "markdown",
   "id": "12de877d",
   "metadata": {
    "papermill": {
     "duration": 0.06491,
     "end_time": "2022-10-01T16:20:17.921658",
     "exception": false,
     "start_time": "2022-10-01T16:20:17.856748",
     "status": "completed"
    },
    "tags": []
   },
   "source": [
    "# <b>6<span style='color:#0000FF'>|</span> Split Dataset for Training and Testing </b>"
   ]
  },
  {
   "cell_type": "code",
   "execution_count": 62,
   "id": "00542ec1",
   "metadata": {
    "execution": {
     "iopub.execute_input": "2022-10-01T16:20:18.053161Z",
     "iopub.status.busy": "2022-10-01T16:20:18.052310Z",
     "iopub.status.idle": "2022-10-01T16:20:18.059908Z",
     "shell.execute_reply": "2022-10-01T16:20:18.059104Z"
    },
    "papermill": {
     "duration": 0.076012,
     "end_time": "2022-10-01T16:20:18.062204",
     "exception": false,
     "start_time": "2022-10-01T16:20:17.986192",
     "status": "completed"
    },
    "tags": []
   },
   "outputs": [],
   "source": [
    "features = df.drop(columns =['Price'], axis = 1)\n",
    "target = df['Price']"
   ]
  },
  {
   "cell_type": "code",
   "execution_count": 63,
   "id": "6f4f4fef",
   "metadata": {
    "execution": {
     "iopub.execute_input": "2022-10-01T16:20:18.197299Z",
     "iopub.status.busy": "2022-10-01T16:20:18.196585Z",
     "iopub.status.idle": "2022-10-01T16:20:18.206696Z",
     "shell.execute_reply": "2022-10-01T16:20:18.205703Z"
    },
    "papermill": {
     "duration": 0.082533,
     "end_time": "2022-10-01T16:20:18.209008",
     "exception": false,
     "start_time": "2022-10-01T16:20:18.126475",
     "status": "completed"
    },
    "tags": []
   },
   "outputs": [],
   "source": [
    "x_train, x_test, y_train, y_test = train_test_split(features, target, shuffle = True, test_size = .15, random_state = 44)"
   ]
  },
  {
   "cell_type": "code",
   "execution_count": 64,
   "id": "b0e63232",
   "metadata": {
    "execution": {
     "iopub.execute_input": "2022-10-01T16:20:18.341442Z",
     "iopub.status.busy": "2022-10-01T16:20:18.340677Z",
     "iopub.status.idle": "2022-10-01T16:20:18.347089Z",
     "shell.execute_reply": "2022-10-01T16:20:18.345792Z"
    },
    "papermill": {
     "duration": 0.075389,
     "end_time": "2022-10-01T16:20:18.349620",
     "exception": false,
     "start_time": "2022-10-01T16:20:18.274231",
     "status": "completed"
    },
    "tags": []
   },
   "outputs": [
    {
     "name": "stdout",
     "output_type": "stream",
     "text": [
      "Shape of training feature: (8892, 45)\n",
      "Shape of testing feature: (1570, 45)\n",
      "Shape of training label: (8892,)\n",
      "Shape of training label: (1570,)\n"
     ]
    }
   ],
   "source": [
    "print('Shape of training feature:', x_train.shape)\n",
    "print('Shape of testing feature:', x_test.shape)\n",
    "print('Shape of training label:', y_train.shape)\n",
    "print('Shape of training label:', y_test.shape)"
   ]
  },
  {
   "cell_type": "markdown",
   "id": "d8b5edd9",
   "metadata": {
    "papermill": {
     "duration": 0.065067,
     "end_time": "2022-10-01T16:20:18.481876",
     "exception": false,
     "start_time": "2022-10-01T16:20:18.416809",
     "status": "completed"
    },
    "tags": []
   },
   "source": [
    "# <b>7<span style='color:#0000FF'>|</span> Standrization </b>"
   ]
  },
  {
   "cell_type": "code",
   "execution_count": 65,
   "id": "792792c8",
   "metadata": {
    "execution": {
     "iopub.execute_input": "2022-10-01T16:20:18.613965Z",
     "iopub.status.busy": "2022-10-01T16:20:18.613260Z",
     "iopub.status.idle": "2022-10-01T16:20:18.639025Z",
     "shell.execute_reply": "2022-10-01T16:20:18.637738Z"
    },
    "papermill": {
     "duration": 0.094952,
     "end_time": "2022-10-01T16:20:18.641611",
     "exception": false,
     "start_time": "2022-10-01T16:20:18.546659",
     "status": "completed"
    },
    "tags": []
   },
   "outputs": [
    {
     "data": {
      "text/plain": [
       "StandardScaler()"
      ]
     },
     "execution_count": 65,
     "metadata": {},
     "output_type": "execute_result"
    }
   ],
   "source": [
    "Scaler = StandardScaler()\n",
    "Scaler.fit(x_train)"
   ]
  },
  {
   "cell_type": "code",
   "execution_count": 66,
   "id": "ad8337a4",
   "metadata": {
    "execution": {
     "iopub.execute_input": "2022-10-01T16:20:18.773612Z",
     "iopub.status.busy": "2022-10-01T16:20:18.773208Z",
     "iopub.status.idle": "2022-10-01T16:20:18.785842Z",
     "shell.execute_reply": "2022-10-01T16:20:18.784825Z"
    },
    "papermill": {
     "duration": 0.081373,
     "end_time": "2022-10-01T16:20:18.788438",
     "exception": false,
     "start_time": "2022-10-01T16:20:18.707065",
     "status": "completed"
    },
    "tags": []
   },
   "outputs": [],
   "source": [
    "x_train = Scaler.transform(x_train)\n",
    "x_test = Scaler.transform(x_test)"
   ]
  },
  {
   "cell_type": "code",
   "execution_count": 67,
   "id": "4693d4be",
   "metadata": {
    "execution": {
     "iopub.execute_input": "2022-10-01T16:20:18.923143Z",
     "iopub.status.busy": "2022-10-01T16:20:18.922371Z",
     "iopub.status.idle": "2022-10-01T16:20:18.929118Z",
     "shell.execute_reply": "2022-10-01T16:20:18.928224Z"
    },
    "papermill": {
     "duration": 0.077363,
     "end_time": "2022-10-01T16:20:18.931128",
     "exception": false,
     "start_time": "2022-10-01T16:20:18.853765",
     "status": "completed"
    },
    "scrolled": true,
    "tags": []
   },
   "outputs": [
    {
     "data": {
      "text/plain": [
       "array([[-0.3502524 ,  0.2934107 , -0.47020211, ..., -0.5209371 ,\n",
       "        -0.35896541, -0.41789559],\n",
       "       [ 0.76917767,  0.2934107 , -0.47020211, ..., -0.5209371 ,\n",
       "        -0.35896541,  2.39294222],\n",
       "       [-1.08987585, -1.2120757 , -0.47020211, ..., -0.5209371 ,\n",
       "        -0.35896541, -0.41789559],\n",
       "       ...,\n",
       "       [-0.67008957,  0.2934107 , -0.47020211, ..., -0.5209371 ,\n",
       "         2.78578376, -0.41789559],\n",
       "       [-0.27029311,  0.2934107 ,  1.33742313, ..., -0.5209371 ,\n",
       "        -0.35896541, -0.41789559],\n",
       "       [ 0.42935069,  0.2934107 , -0.47020211, ..., -0.5209371 ,\n",
       "         2.78578376, -0.41789559]])"
      ]
     },
     "execution_count": 67,
     "metadata": {},
     "output_type": "execute_result"
    }
   ],
   "source": [
    "x_train"
   ]
  },
  {
   "cell_type": "markdown",
   "id": "b677aaa9",
   "metadata": {
    "papermill": {
     "duration": 0.064958,
     "end_time": "2022-10-01T16:20:19.060879",
     "exception": false,
     "start_time": "2022-10-01T16:20:18.995921",
     "status": "completed"
    },
    "tags": []
   },
   "source": [
    "# <b>8 <span style='color:#0000FF'>|</span> Modeling </b>"
   ]
  },
  {
   "cell_type": "code",
   "execution_count": 68,
   "id": "f388013d",
   "metadata": {
    "execution": {
     "iopub.execute_input": "2022-10-01T16:20:19.193947Z",
     "iopub.status.busy": "2022-10-01T16:20:19.193181Z",
     "iopub.status.idle": "2022-10-01T16:20:19.198109Z",
     "shell.execute_reply": "2022-10-01T16:20:19.197332Z"
    },
    "papermill": {
     "duration": 0.073656,
     "end_time": "2022-10-01T16:20:19.200191",
     "exception": false,
     "start_time": "2022-10-01T16:20:19.126535",
     "status": "completed"
    },
    "tags": []
   },
   "outputs": [],
   "source": [
    "models = {\n",
    "    \"LR\": LinearRegression(),\n",
    "    \"KNNR\" : KNeighborsRegressor(), \n",
    "    \"SVR\": SVR(),\n",
    "    \"DT\": DecisionTreeRegressor(),\n",
    "    \"RF\": RandomForestRegressor(),\n",
    "    \"RE\":Ridge(),\n",
    "    \"LO\":Lasso(alpha = 0.1),\n",
    "    \"LGBR\":GradientBoostingRegressor(),\n",
    "    \"XGBR\": XGBRegressor()\n",
    "}"
   ]
  },
  {
   "cell_type": "code",
   "execution_count": 69,
   "id": "fb3b9323",
   "metadata": {},
   "outputs": [
    {
     "name": "stdout",
     "output_type": "stream",
     "text": [
      "Using model: LR\n",
      "Mean Absolute Error: 1896.3241678184445\n",
      "Mean Squared Error: 2608.685263432331\n",
      "Root Mean Squared Error: 2608.685263432331\n",
      "Training Accuracy: 0.6300966468722253\n",
      "Testing Accuracy: 0.685843097548025\n",
      "--------------------------------------------------\n",
      "Using model: KNNR\n",
      "Mean Absolute Error: 1559.3082802547772\n",
      "Mean Squared Error: 2254.675904412052\n",
      "Root Mean Squared Error: 2254.675904412052\n",
      "Training Accuracy: 0.8140381942794362\n",
      "Testing Accuracy: 0.7653224834715256\n",
      "--------------------------------------------------\n",
      "Using model: SVR\n",
      "Mean Absolute Error: 3422.7663553167895\n",
      "Mean Squared Error: 4600.914651133872\n",
      "Root Mean Squared Error: 4600.914651133872\n",
      "Training Accuracy: 0.02327691807568355\n",
      "Testing Accuracy: 0.022781701703960655\n",
      "--------------------------------------------------\n",
      "Using model: DT\n",
      "Mean Absolute Error: 1171.0896026690932\n",
      "Mean Squared Error: 2544.6227284125716\n",
      "Root Mean Squared Error: 2544.6227284125716\n",
      "Training Accuracy: 0.9890338576089125\n",
      "Testing Accuracy: 0.7010833954365611\n",
      "--------------------------------------------------\n",
      "Using model: RF\n",
      "Mean Absolute Error: 950.9290089908676\n",
      "Mean Squared Error: 1894.6758977700163\n",
      "Root Mean Squared Error: 1894.6758977700163\n",
      "Training Accuracy: 0.9662683643017013\n",
      "Testing Accuracy: 0.8342806972193098\n",
      "--------------------------------------------------\n",
      "Using model: RE\n",
      "Mean Absolute Error: 1895.6650228950887\n",
      "Mean Squared Error: 2609.5954882485603\n",
      "Root Mean Squared Error: 2609.5954882485603\n",
      "Training Accuracy: 0.6301672079677048\n",
      "Testing Accuracy: 0.6856238274809368\n",
      "--------------------------------------------------\n",
      "Using model: LO\n",
      "Mean Absolute Error: 1895.6748272744082\n",
      "Mean Squared Error: 2609.626958480147\n",
      "Root Mean Squared Error: 2609.626958480147\n",
      "Training Accuracy: 0.6301671313731854\n",
      "Testing Accuracy: 0.6856162450409349\n",
      "--------------------------------------------------\n",
      "Using model: LGBR\n",
      "Mean Absolute Error: 1394.1146592054374\n",
      "Mean Squared Error: 1990.718138910255\n",
      "Root Mean Squared Error: 1990.718138910255\n",
      "Training Accuracy: 0.7788879644724866\n",
      "Testing Accuracy: 0.8170540566824808\n",
      "--------------------------------------------------\n",
      "Using model: XGBR\n",
      "Mean Absolute Error: 949.3318738026225\n",
      "Mean Squared Error: 1526.481696886712\n",
      "Root Mean Squared Error: 1526.481696886712\n",
      "Training Accuracy: 0.9348189265719751\n",
      "Testing Accuracy: 0.8924311714441817\n",
      "--------------------------------------------------\n"
     ]
    }
   ],
   "source": [
    "from sklearn.metrics import mean_absolute_error, mean_squared_error, r2_score\n",
    "\n",
    "for name, model in models.items():\n",
    "    print(f'Using model: {name}')\n",
    "    model.fit(x_train, y_train)\n",
    "    y_pred = model.predict(x_test) \n",
    "    print(f'Mean Absolute Error:', metrics.mean_absolute_error(y_test, y_pred))\n",
    "    print(f'Mean Squared Error: {np.sqrt(mean_squared_error(y_test, y_pred))}') \n",
    "    print(f'Root Mean Squared Error:', np.sqrt(metrics.mean_squared_error(y_test, y_pred)))\n",
    "    print(f'Training Accuracy: {model.score(x_train, y_train)}')\n",
    "    print(f'Testing Accuracy: {r2_score(y_test, y_pred)}')\n",
    "    print('-'*50)"
   ]
  },
  {
   "cell_type": "markdown",
   "id": "847d012b",
   "metadata": {
    "papermill": {
     "duration": 0.065374,
     "end_time": "2022-10-01T16:20:44.374640",
     "exception": false,
     "start_time": "2022-10-01T16:20:44.309266",
     "status": "completed"
    },
    "tags": []
   },
   "source": [
    "<p style= \"font-family:Georgia;color:#000000;font-size:110%;text-align:center;border-radius:10px 10px;border-style: solid;border-width:5px;border-color:#fbff00;\"><br>The best models' results is <b>XGboost<b></b>\n",
    "    <br></p>\n",
    "    "
   ]
  },
  {
   "cell_type": "markdown",
   "id": "d1be2c1a",
   "metadata": {
    "papermill": {
     "duration": 0.06573,
     "end_time": "2022-10-01T16:20:44.507582",
     "exception": false,
     "start_time": "2022-10-01T16:20:44.441852",
     "status": "completed"
    },
    "tags": []
   },
   "source": [
    "<div style=\"color:yellow;display:fill;border-radius:8px;\n",
    "            background-color:#ffcc00;font-size:150%;\n",
    "            font-family:Nexa;letter-spacing:0.5px\">\n",
    "    <p style=\"padding: 8px\n",
    ";color:black;\"><b>  XGboost  </b></p>\n",
    "</div>. "
   ]
  },
  {
   "cell_type": "code",
   "execution_count": 70,
   "id": "ba9cf9fb",
   "metadata": {
    "execution": {
     "iopub.execute_input": "2022-10-01T16:20:44.641643Z",
     "iopub.status.busy": "2022-10-01T16:20:44.640745Z",
     "iopub.status.idle": "2022-10-01T16:20:45.986011Z",
     "shell.execute_reply": "2022-10-01T16:20:45.985072Z"
    },
    "papermill": {
     "duration": 1.415624,
     "end_time": "2022-10-01T16:20:45.989122",
     "exception": false,
     "start_time": "2022-10-01T16:20:44.573498",
     "status": "completed"
    },
    "tags": []
   },
   "outputs": [
    {
     "name": "stdout",
     "output_type": "stream",
     "text": [
      "Training Accuracy: 0.9348189265719751\n",
      "Testing Accuracy: 0.8924311714441817\n"
     ]
    }
   ],
   "source": [
    "model = XGBRegressor()\n",
    "\n",
    "model.fit(x_train, y_train)\n",
    "y_pred = model.predict(x_test)\n",
    "\n",
    "## accurcy \n",
    "print(f'Training Accuracy: {model.score(x_train, y_train)}')\n",
    "print(f'Testing Accuracy: {r2_score(y_test, y_pred)}')"
   ]
  },
  {
   "cell_type": "markdown",
   "id": "0c6b86a8",
   "metadata": {
    "papermill": {
     "duration": 0.067735,
     "end_time": "2022-10-01T16:48:47.516990",
     "exception": false,
     "start_time": "2022-10-01T16:48:47.449255",
     "status": "completed"
    },
    "tags": []
   },
   "source": [
    "<p style= \"font-family:Georgia;color:#000000;font-size:110%;text-align:center;border-radius:10px 10px;border-style: solid;border-width:5px;border-color:#fbff00;\"><br>The best accuracy for <b>XGboost <b> model is <b> 90 %</b>\n",
    "    <br></p>\n",
    "    \n",
    "    \n",
    "    "
   ]
  }
 ],
 "metadata": {
  "kernelspec": {
   "display_name": "Python 3 (ipykernel)",
   "language": "python",
   "name": "python3"
  },
  "language_info": {
   "codemirror_mode": {
    "name": "ipython",
    "version": 3
   },
   "file_extension": ".py",
   "mimetype": "text/x-python",
   "name": "python",
   "nbconvert_exporter": "python",
   "pygments_lexer": "ipython3",
   "version": "3.9.12"
  },
  "papermill": {
   "default_parameters": {},
   "duration": 1759.085754,
   "end_time": "2022-10-01T16:48:49.114832",
   "environment_variables": {},
   "exception": null,
   "input_path": "__notebook__.ipynb",
   "output_path": "__notebook__.ipynb",
   "parameters": {},
   "start_time": "2022-10-01T16:19:30.029078",
   "version": "2.3.4"
  },
  "widgets": {
   "application/vnd.jupyter.widget-state+json": {
    "state": {
     "02c3eb2800384901af6c9e9bba4822f4": {
      "model_module": "@jupyter-widgets/base",
      "model_module_version": "1.2.0",
      "model_name": "LayoutModel",
      "state": {
       "_model_module": "@jupyter-widgets/base",
       "_model_module_version": "1.2.0",
       "_model_name": "LayoutModel",
       "_view_count": null,
       "_view_module": "@jupyter-widgets/base",
       "_view_module_version": "1.2.0",
       "_view_name": "LayoutView",
       "align_content": null,
       "align_items": null,
       "align_self": null,
       "border": null,
       "bottom": null,
       "display": null,
       "flex": null,
       "flex_flow": null,
       "grid_area": null,
       "grid_auto_columns": null,
       "grid_auto_flow": null,
       "grid_auto_rows": null,
       "grid_column": null,
       "grid_gap": null,
       "grid_row": null,
       "grid_template_areas": null,
       "grid_template_columns": null,
       "grid_template_rows": null,
       "height": null,
       "justify_content": null,
       "justify_items": null,
       "left": null,
       "margin": null,
       "max_height": null,
       "max_width": null,
       "min_height": null,
       "min_width": null,
       "object_fit": null,
       "object_position": null,
       "order": null,
       "overflow": null,
       "overflow_x": null,
       "overflow_y": null,
       "padding": null,
       "right": null,
       "top": null,
       "visibility": null,
       "width": null
      }
     },
     "144fcfc59d3f49169569e24d1599781e": {
      "model_module": "@jupyter-widgets/controls",
      "model_module_version": "1.5.0",
      "model_name": "HBoxModel",
      "state": {
       "_dom_classes": [],
       "_model_module": "@jupyter-widgets/controls",
       "_model_module_version": "1.5.0",
       "_model_name": "HBoxModel",
       "_view_count": null,
       "_view_module": "@jupyter-widgets/controls",
       "_view_module_version": "1.5.0",
       "_view_name": "HBoxView",
       "box_style": "",
       "children": [
        "IPY_MODEL_da70daa446bd4e06a6db26ca46a8c61b",
        "IPY_MODEL_5176f3fbe6ee484aa6049776475222c7",
        "IPY_MODEL_99a80b1435dd4d0b97e03b0c552b56ed"
       ],
       "layout": "IPY_MODEL_c95e065c617f4d0fac08ee4012340df7"
      }
     },
     "14622fe2cb5048959e2081b7fb89f6df": {
      "model_module": "@jupyter-widgets/base",
      "model_module_version": "1.2.0",
      "model_name": "LayoutModel",
      "state": {
       "_model_module": "@jupyter-widgets/base",
       "_model_module_version": "1.2.0",
       "_model_name": "LayoutModel",
       "_view_count": null,
       "_view_module": "@jupyter-widgets/base",
       "_view_module_version": "1.2.0",
       "_view_name": "LayoutView",
       "align_content": null,
       "align_items": null,
       "align_self": null,
       "border": null,
       "bottom": null,
       "display": null,
       "flex": null,
       "flex_flow": null,
       "grid_area": null,
       "grid_auto_columns": null,
       "grid_auto_flow": null,
       "grid_auto_rows": null,
       "grid_column": null,
       "grid_gap": null,
       "grid_row": null,
       "grid_template_areas": null,
       "grid_template_columns": null,
       "grid_template_rows": null,
       "height": null,
       "justify_content": null,
       "justify_items": null,
       "left": null,
       "margin": null,
       "max_height": null,
       "max_width": null,
       "min_height": null,
       "min_width": null,
       "object_fit": null,
       "object_position": null,
       "order": null,
       "overflow": null,
       "overflow_x": null,
       "overflow_y": null,
       "padding": null,
       "right": null,
       "top": null,
       "visibility": null,
       "width": null
      }
     },
     "17617ae3fb0c40319e7b9347dea46b6a": {
      "model_module": "@jupyter-widgets/controls",
      "model_module_version": "1.5.0",
      "model_name": "HTMLModel",
      "state": {
       "_dom_classes": [],
       "_model_module": "@jupyter-widgets/controls",
       "_model_module_version": "1.5.0",
       "_model_name": "HTMLModel",
       "_view_count": null,
       "_view_module": "@jupyter-widgets/controls",
       "_view_module_version": "1.5.0",
       "_view_name": "HTMLView",
       "description": "",
       "description_tooltip": null,
       "layout": "IPY_MODEL_ec2f94a8655a4fb58e005d248bffa9db",
       "placeholder": "​",
       "style": "IPY_MODEL_ecc68c960c334f5692ec95a5848e41e9",
       "value": " 18/18 [00:00&lt;00:00, 22.06it/s, Completed]"
      }
     },
     "23b366cf13294557b6ffa65d29012331": {
      "model_module": "@jupyter-widgets/base",
      "model_module_version": "1.2.0",
      "model_name": "LayoutModel",
      "state": {
       "_model_module": "@jupyter-widgets/base",
       "_model_module_version": "1.2.0",
       "_model_name": "LayoutModel",
       "_view_count": null,
       "_view_module": "@jupyter-widgets/base",
       "_view_module_version": "1.2.0",
       "_view_name": "LayoutView",
       "align_content": null,
       "align_items": null,
       "align_self": null,
       "border": null,
       "bottom": null,
       "display": null,
       "flex": null,
       "flex_flow": null,
       "grid_area": null,
       "grid_auto_columns": null,
       "grid_auto_flow": null,
       "grid_auto_rows": null,
       "grid_column": null,
       "grid_gap": null,
       "grid_row": null,
       "grid_template_areas": null,
       "grid_template_columns": null,
       "grid_template_rows": null,
       "height": null,
       "justify_content": null,
       "justify_items": null,
       "left": null,
       "margin": null,
       "max_height": null,
       "max_width": null,
       "min_height": null,
       "min_width": null,
       "object_fit": null,
       "object_position": null,
       "order": null,
       "overflow": null,
       "overflow_x": null,
       "overflow_y": null,
       "padding": null,
       "right": null,
       "top": null,
       "visibility": null,
       "width": null
      }
     },
     "25e7f81591e6473e9fd592a226542748": {
      "model_module": "@jupyter-widgets/controls",
      "model_module_version": "1.5.0",
      "model_name": "HTMLModel",
      "state": {
       "_dom_classes": [],
       "_model_module": "@jupyter-widgets/controls",
       "_model_module_version": "1.5.0",
       "_model_name": "HTMLModel",
       "_view_count": null,
       "_view_module": "@jupyter-widgets/controls",
       "_view_module_version": "1.5.0",
       "_view_name": "HTMLView",
       "description": "",
       "description_tooltip": null,
       "layout": "IPY_MODEL_d372f0335af34b2cb1efe2c2fb85a5bf",
       "placeholder": "​",
       "style": "IPY_MODEL_9369103e9c654fe2ac45076c772590cf",
       "value": " 1/1 [00:00&lt;00:00, 35.33it/s]"
      }
     },
     "2dd02e679f264025b3a00b1e5a2b8d72": {
      "model_module": "@jupyter-widgets/controls",
      "model_module_version": "1.5.0",
      "model_name": "HTMLModel",
      "state": {
       "_dom_classes": [],
       "_model_module": "@jupyter-widgets/controls",
       "_model_module_version": "1.5.0",
       "_model_name": "HTMLModel",
       "_view_count": null,
       "_view_module": "@jupyter-widgets/controls",
       "_view_module_version": "1.5.0",
       "_view_name": "HTMLView",
       "description": "",
       "description_tooltip": null,
       "layout": "IPY_MODEL_c50b9bd5d1604d5ca0d59aad1c9ccb9c",
       "placeholder": "​",
       "style": "IPY_MODEL_8db2f3c1c3cf48d7be6967a933edd258",
       "value": "Summarize dataset: 100%"
      }
     },
     "46e8775658b040b5902942b4e0e7505e": {
      "model_module": "@jupyter-widgets/controls",
      "model_module_version": "1.5.0",
      "model_name": "FloatProgressModel",
      "state": {
       "_dom_classes": [],
       "_model_module": "@jupyter-widgets/controls",
       "_model_module_version": "1.5.0",
       "_model_name": "FloatProgressModel",
       "_view_count": null,
       "_view_module": "@jupyter-widgets/controls",
       "_view_module_version": "1.5.0",
       "_view_name": "ProgressView",
       "bar_style": "success",
       "description": "",
       "description_tooltip": null,
       "layout": "IPY_MODEL_ac320c9588a64d8cb5c56c4192e62083",
       "max": 1,
       "min": 0,
       "orientation": "horizontal",
       "style": "IPY_MODEL_76fddaa24bb84f91a3b5458c3cfd7213",
       "value": 1
      }
     },
     "5176f3fbe6ee484aa6049776475222c7": {
      "model_module": "@jupyter-widgets/controls",
      "model_module_version": "1.5.0",
      "model_name": "FloatProgressModel",
      "state": {
       "_dom_classes": [],
       "_model_module": "@jupyter-widgets/controls",
       "_model_module_version": "1.5.0",
       "_model_name": "FloatProgressModel",
       "_view_count": null,
       "_view_module": "@jupyter-widgets/controls",
       "_view_module_version": "1.5.0",
       "_view_name": "ProgressView",
       "bar_style": "success",
       "description": "",
       "description_tooltip": null,
       "layout": "IPY_MODEL_997ee6c60bf44127a95ef0838a1fd031",
       "max": 1,
       "min": 0,
       "orientation": "horizontal",
       "style": "IPY_MODEL_ce7b02eb6b3d4f0c9cec6dec97dcdd95",
       "value": 1
      }
     },
     "56784782eb6b4a37a4a0043efae2789c": {
      "model_module": "@jupyter-widgets/controls",
      "model_module_version": "1.5.0",
      "model_name": "FloatProgressModel",
      "state": {
       "_dom_classes": [],
       "_model_module": "@jupyter-widgets/controls",
       "_model_module_version": "1.5.0",
       "_model_name": "FloatProgressModel",
       "_view_count": null,
       "_view_module": "@jupyter-widgets/controls",
       "_view_module_version": "1.5.0",
       "_view_name": "ProgressView",
       "bar_style": "success",
       "description": "",
       "description_tooltip": null,
       "layout": "IPY_MODEL_02c3eb2800384901af6c9e9bba4822f4",
       "max": 1,
       "min": 0,
       "orientation": "horizontal",
       "style": "IPY_MODEL_9b6c35665a1845679e4c335cd955e2ed",
       "value": 1
      }
     },
     "599a580519eb4e12a80e6294d613315b": {
      "model_module": "@jupyter-widgets/base",
      "model_module_version": "1.2.0",
      "model_name": "LayoutModel",
      "state": {
       "_model_module": "@jupyter-widgets/base",
       "_model_module_version": "1.2.0",
       "_model_name": "LayoutModel",
       "_view_count": null,
       "_view_module": "@jupyter-widgets/base",
       "_view_module_version": "1.2.0",
       "_view_name": "LayoutView",
       "align_content": null,
       "align_items": null,
       "align_self": null,
       "border": null,
       "bottom": null,
       "display": null,
       "flex": null,
       "flex_flow": null,
       "grid_area": null,
       "grid_auto_columns": null,
       "grid_auto_flow": null,
       "grid_auto_rows": null,
       "grid_column": null,
       "grid_gap": null,
       "grid_row": null,
       "grid_template_areas": null,
       "grid_template_columns": null,
       "grid_template_rows": null,
       "height": null,
       "justify_content": null,
       "justify_items": null,
       "left": null,
       "margin": null,
       "max_height": null,
       "max_width": null,
       "min_height": null,
       "min_width": null,
       "object_fit": null,
       "object_position": null,
       "order": null,
       "overflow": null,
       "overflow_x": null,
       "overflow_y": null,
       "padding": null,
       "right": null,
       "top": null,
       "visibility": null,
       "width": null
      }
     },
     "675642a4cc2e4f1682df8cdf2ccb8eac": {
      "model_module": "@jupyter-widgets/base",
      "model_module_version": "1.2.0",
      "model_name": "LayoutModel",
      "state": {
       "_model_module": "@jupyter-widgets/base",
       "_model_module_version": "1.2.0",
       "_model_name": "LayoutModel",
       "_view_count": null,
       "_view_module": "@jupyter-widgets/base",
       "_view_module_version": "1.2.0",
       "_view_name": "LayoutView",
       "align_content": null,
       "align_items": null,
       "align_self": null,
       "border": null,
       "bottom": null,
       "display": null,
       "flex": null,
       "flex_flow": null,
       "grid_area": null,
       "grid_auto_columns": null,
       "grid_auto_flow": null,
       "grid_auto_rows": null,
       "grid_column": null,
       "grid_gap": null,
       "grid_row": null,
       "grid_template_areas": null,
       "grid_template_columns": null,
       "grid_template_rows": null,
       "height": null,
       "justify_content": null,
       "justify_items": null,
       "left": null,
       "margin": null,
       "max_height": null,
       "max_width": null,
       "min_height": null,
       "min_width": null,
       "object_fit": null,
       "object_position": null,
       "order": null,
       "overflow": null,
       "overflow_x": null,
       "overflow_y": null,
       "padding": null,
       "right": null,
       "top": null,
       "visibility": null,
       "width": null
      }
     },
     "6dbff71093414bb0a965c056575246cf": {
      "model_module": "@jupyter-widgets/controls",
      "model_module_version": "1.5.0",
      "model_name": "DescriptionStyleModel",
      "state": {
       "_model_module": "@jupyter-widgets/controls",
       "_model_module_version": "1.5.0",
       "_model_name": "DescriptionStyleModel",
       "_view_count": null,
       "_view_module": "@jupyter-widgets/base",
       "_view_module_version": "1.2.0",
       "_view_name": "StyleView",
       "description_width": ""
      }
     },
     "72af64948d02477cb62629ae56a64a50": {
      "model_module": "@jupyter-widgets/base",
      "model_module_version": "1.2.0",
      "model_name": "LayoutModel",
      "state": {
       "_model_module": "@jupyter-widgets/base",
       "_model_module_version": "1.2.0",
       "_model_name": "LayoutModel",
       "_view_count": null,
       "_view_module": "@jupyter-widgets/base",
       "_view_module_version": "1.2.0",
       "_view_name": "LayoutView",
       "align_content": null,
       "align_items": null,
       "align_self": null,
       "border": null,
       "bottom": null,
       "display": null,
       "flex": null,
       "flex_flow": null,
       "grid_area": null,
       "grid_auto_columns": null,
       "grid_auto_flow": null,
       "grid_auto_rows": null,
       "grid_column": null,
       "grid_gap": null,
       "grid_row": null,
       "grid_template_areas": null,
       "grid_template_columns": null,
       "grid_template_rows": null,
       "height": null,
       "justify_content": null,
       "justify_items": null,
       "left": null,
       "margin": null,
       "max_height": null,
       "max_width": null,
       "min_height": null,
       "min_width": null,
       "object_fit": null,
       "object_position": null,
       "order": null,
       "overflow": null,
       "overflow_x": null,
       "overflow_y": null,
       "padding": null,
       "right": null,
       "top": null,
       "visibility": null,
       "width": null
      }
     },
     "734b876f8ca24ef8824960dab0c5723e": {
      "model_module": "@jupyter-widgets/base",
      "model_module_version": "1.2.0",
      "model_name": "LayoutModel",
      "state": {
       "_model_module": "@jupyter-widgets/base",
       "_model_module_version": "1.2.0",
       "_model_name": "LayoutModel",
       "_view_count": null,
       "_view_module": "@jupyter-widgets/base",
       "_view_module_version": "1.2.0",
       "_view_name": "LayoutView",
       "align_content": null,
       "align_items": null,
       "align_self": null,
       "border": null,
       "bottom": null,
       "display": null,
       "flex": null,
       "flex_flow": null,
       "grid_area": null,
       "grid_auto_columns": null,
       "grid_auto_flow": null,
       "grid_auto_rows": null,
       "grid_column": null,
       "grid_gap": null,
       "grid_row": null,
       "grid_template_areas": null,
       "grid_template_columns": null,
       "grid_template_rows": null,
       "height": null,
       "justify_content": null,
       "justify_items": null,
       "left": null,
       "margin": null,
       "max_height": null,
       "max_width": null,
       "min_height": null,
       "min_width": null,
       "object_fit": null,
       "object_position": null,
       "order": null,
       "overflow": null,
       "overflow_x": null,
       "overflow_y": null,
       "padding": null,
       "right": null,
       "top": null,
       "visibility": null,
       "width": null
      }
     },
     "76fddaa24bb84f91a3b5458c3cfd7213": {
      "model_module": "@jupyter-widgets/controls",
      "model_module_version": "1.5.0",
      "model_name": "ProgressStyleModel",
      "state": {
       "_model_module": "@jupyter-widgets/controls",
       "_model_module_version": "1.5.0",
       "_model_name": "ProgressStyleModel",
       "_view_count": null,
       "_view_module": "@jupyter-widgets/base",
       "_view_module_version": "1.2.0",
       "_view_name": "StyleView",
       "bar_color": null,
       "description_width": ""
      }
     },
     "8db2f3c1c3cf48d7be6967a933edd258": {
      "model_module": "@jupyter-widgets/controls",
      "model_module_version": "1.5.0",
      "model_name": "DescriptionStyleModel",
      "state": {
       "_model_module": "@jupyter-widgets/controls",
       "_model_module_version": "1.5.0",
       "_model_name": "DescriptionStyleModel",
       "_view_count": null,
       "_view_module": "@jupyter-widgets/base",
       "_view_module_version": "1.2.0",
       "_view_name": "StyleView",
       "description_width": ""
      }
     },
     "92138b9861b043aaa12375dd141049e7": {
      "model_module": "@jupyter-widgets/controls",
      "model_module_version": "1.5.0",
      "model_name": "DescriptionStyleModel",
      "state": {
       "_model_module": "@jupyter-widgets/controls",
       "_model_module_version": "1.5.0",
       "_model_name": "DescriptionStyleModel",
       "_view_count": null,
       "_view_module": "@jupyter-widgets/base",
       "_view_module_version": "1.2.0",
       "_view_name": "StyleView",
       "description_width": ""
      }
     },
     "9369103e9c654fe2ac45076c772590cf": {
      "model_module": "@jupyter-widgets/controls",
      "model_module_version": "1.5.0",
      "model_name": "DescriptionStyleModel",
      "state": {
       "_model_module": "@jupyter-widgets/controls",
       "_model_module_version": "1.5.0",
       "_model_name": "DescriptionStyleModel",
       "_view_count": null,
       "_view_module": "@jupyter-widgets/base",
       "_view_module_version": "1.2.0",
       "_view_name": "StyleView",
       "description_width": ""
      }
     },
     "997ee6c60bf44127a95ef0838a1fd031": {
      "model_module": "@jupyter-widgets/base",
      "model_module_version": "1.2.0",
      "model_name": "LayoutModel",
      "state": {
       "_model_module": "@jupyter-widgets/base",
       "_model_module_version": "1.2.0",
       "_model_name": "LayoutModel",
       "_view_count": null,
       "_view_module": "@jupyter-widgets/base",
       "_view_module_version": "1.2.0",
       "_view_name": "LayoutView",
       "align_content": null,
       "align_items": null,
       "align_self": null,
       "border": null,
       "bottom": null,
       "display": null,
       "flex": null,
       "flex_flow": null,
       "grid_area": null,
       "grid_auto_columns": null,
       "grid_auto_flow": null,
       "grid_auto_rows": null,
       "grid_column": null,
       "grid_gap": null,
       "grid_row": null,
       "grid_template_areas": null,
       "grid_template_columns": null,
       "grid_template_rows": null,
       "height": null,
       "justify_content": null,
       "justify_items": null,
       "left": null,
       "margin": null,
       "max_height": null,
       "max_width": null,
       "min_height": null,
       "min_width": null,
       "object_fit": null,
       "object_position": null,
       "order": null,
       "overflow": null,
       "overflow_x": null,
       "overflow_y": null,
       "padding": null,
       "right": null,
       "top": null,
       "visibility": null,
       "width": null
      }
     },
     "99a80b1435dd4d0b97e03b0c552b56ed": {
      "model_module": "@jupyter-widgets/controls",
      "model_module_version": "1.5.0",
      "model_name": "HTMLModel",
      "state": {
       "_dom_classes": [],
       "_model_module": "@jupyter-widgets/controls",
       "_model_module_version": "1.5.0",
       "_model_name": "HTMLModel",
       "_view_count": null,
       "_view_module": "@jupyter-widgets/controls",
       "_view_module_version": "1.5.0",
       "_view_name": "HTMLView",
       "description": "",
       "description_tooltip": null,
       "layout": "IPY_MODEL_599a580519eb4e12a80e6294d613315b",
       "placeholder": "​",
       "style": "IPY_MODEL_c72b4c2791e94613975da304ef971e7b",
       "value": " 1/1 [00:00&lt;00:00,  2.11it/s]"
      }
     },
     "9b6c35665a1845679e4c335cd955e2ed": {
      "model_module": "@jupyter-widgets/controls",
      "model_module_version": "1.5.0",
      "model_name": "ProgressStyleModel",
      "state": {
       "_model_module": "@jupyter-widgets/controls",
       "_model_module_version": "1.5.0",
       "_model_name": "ProgressStyleModel",
       "_view_count": null,
       "_view_module": "@jupyter-widgets/base",
       "_view_module_version": "1.2.0",
       "_view_name": "StyleView",
       "bar_color": null,
       "description_width": ""
      }
     },
     "9fe7d04184ee4e54957c7d5357fb03c5": {
      "model_module": "@jupyter-widgets/controls",
      "model_module_version": "1.5.0",
      "model_name": "HBoxModel",
      "state": {
       "_dom_classes": [],
       "_model_module": "@jupyter-widgets/controls",
       "_model_module_version": "1.5.0",
       "_model_name": "HBoxModel",
       "_view_count": null,
       "_view_module": "@jupyter-widgets/controls",
       "_view_module_version": "1.5.0",
       "_view_name": "HBoxView",
       "box_style": "",
       "children": [
        "IPY_MODEL_e54148b721a54011b912da142370bbf2",
        "IPY_MODEL_56784782eb6b4a37a4a0043efae2789c",
        "IPY_MODEL_25e7f81591e6473e9fd592a226542748"
       ],
       "layout": "IPY_MODEL_14622fe2cb5048959e2081b7fb89f6df"
      }
     },
     "a0441b97b7cc45e59449b70c9fc00872": {
      "model_module": "@jupyter-widgets/controls",
      "model_module_version": "1.5.0",
      "model_name": "DescriptionStyleModel",
      "state": {
       "_model_module": "@jupyter-widgets/controls",
       "_model_module_version": "1.5.0",
       "_model_name": "DescriptionStyleModel",
       "_view_count": null,
       "_view_module": "@jupyter-widgets/base",
       "_view_module_version": "1.2.0",
       "_view_name": "StyleView",
       "description_width": ""
      }
     },
     "a3bf19f97c004a50a443bfd0b5b37350": {
      "model_module": "@jupyter-widgets/controls",
      "model_module_version": "1.5.0",
      "model_name": "DescriptionStyleModel",
      "state": {
       "_model_module": "@jupyter-widgets/controls",
       "_model_module_version": "1.5.0",
       "_model_name": "DescriptionStyleModel",
       "_view_count": null,
       "_view_module": "@jupyter-widgets/base",
       "_view_module_version": "1.2.0",
       "_view_name": "StyleView",
       "description_width": ""
      }
     },
     "a5f8de1d9bc9491c85a53c569e87ca0c": {
      "model_module": "@jupyter-widgets/controls",
      "model_module_version": "1.5.0",
      "model_name": "ProgressStyleModel",
      "state": {
       "_model_module": "@jupyter-widgets/controls",
       "_model_module_version": "1.5.0",
       "_model_name": "ProgressStyleModel",
       "_view_count": null,
       "_view_module": "@jupyter-widgets/base",
       "_view_module_version": "1.2.0",
       "_view_name": "StyleView",
       "bar_color": null,
       "description_width": ""
      }
     },
     "a6efa9f64b2142708ca20bc890093f7f": {
      "model_module": "@jupyter-widgets/base",
      "model_module_version": "1.2.0",
      "model_name": "LayoutModel",
      "state": {
       "_model_module": "@jupyter-widgets/base",
       "_model_module_version": "1.2.0",
       "_model_name": "LayoutModel",
       "_view_count": null,
       "_view_module": "@jupyter-widgets/base",
       "_view_module_version": "1.2.0",
       "_view_name": "LayoutView",
       "align_content": null,
       "align_items": null,
       "align_self": null,
       "border": null,
       "bottom": null,
       "display": null,
       "flex": null,
       "flex_flow": null,
       "grid_area": null,
       "grid_auto_columns": null,
       "grid_auto_flow": null,
       "grid_auto_rows": null,
       "grid_column": null,
       "grid_gap": null,
       "grid_row": null,
       "grid_template_areas": null,
       "grid_template_columns": null,
       "grid_template_rows": null,
       "height": null,
       "justify_content": null,
       "justify_items": null,
       "left": null,
       "margin": null,
       "max_height": null,
       "max_width": null,
       "min_height": null,
       "min_width": null,
       "object_fit": null,
       "object_position": null,
       "order": null,
       "overflow": null,
       "overflow_x": null,
       "overflow_y": null,
       "padding": null,
       "right": null,
       "top": null,
       "visibility": null,
       "width": null
      }
     },
     "ac320c9588a64d8cb5c56c4192e62083": {
      "model_module": "@jupyter-widgets/base",
      "model_module_version": "1.2.0",
      "model_name": "LayoutModel",
      "state": {
       "_model_module": "@jupyter-widgets/base",
       "_model_module_version": "1.2.0",
       "_model_name": "LayoutModel",
       "_view_count": null,
       "_view_module": "@jupyter-widgets/base",
       "_view_module_version": "1.2.0",
       "_view_name": "LayoutView",
       "align_content": null,
       "align_items": null,
       "align_self": null,
       "border": null,
       "bottom": null,
       "display": null,
       "flex": null,
       "flex_flow": null,
       "grid_area": null,
       "grid_auto_columns": null,
       "grid_auto_flow": null,
       "grid_auto_rows": null,
       "grid_column": null,
       "grid_gap": null,
       "grid_row": null,
       "grid_template_areas": null,
       "grid_template_columns": null,
       "grid_template_rows": null,
       "height": null,
       "justify_content": null,
       "justify_items": null,
       "left": null,
       "margin": null,
       "max_height": null,
       "max_width": null,
       "min_height": null,
       "min_width": null,
       "object_fit": null,
       "object_position": null,
       "order": null,
       "overflow": null,
       "overflow_x": null,
       "overflow_y": null,
       "padding": null,
       "right": null,
       "top": null,
       "visibility": null,
       "width": null
      }
     },
     "af61483fa7f64cb982564244cae4761f": {
      "model_module": "@jupyter-widgets/base",
      "model_module_version": "1.2.0",
      "model_name": "LayoutModel",
      "state": {
       "_model_module": "@jupyter-widgets/base",
       "_model_module_version": "1.2.0",
       "_model_name": "LayoutModel",
       "_view_count": null,
       "_view_module": "@jupyter-widgets/base",
       "_view_module_version": "1.2.0",
       "_view_name": "LayoutView",
       "align_content": null,
       "align_items": null,
       "align_self": null,
       "border": null,
       "bottom": null,
       "display": null,
       "flex": null,
       "flex_flow": null,
       "grid_area": null,
       "grid_auto_columns": null,
       "grid_auto_flow": null,
       "grid_auto_rows": null,
       "grid_column": null,
       "grid_gap": null,
       "grid_row": null,
       "grid_template_areas": null,
       "grid_template_columns": null,
       "grid_template_rows": null,
       "height": null,
       "justify_content": null,
       "justify_items": null,
       "left": null,
       "margin": null,
       "max_height": null,
       "max_width": null,
       "min_height": null,
       "min_width": null,
       "object_fit": null,
       "object_position": null,
       "order": null,
       "overflow": null,
       "overflow_x": null,
       "overflow_y": null,
       "padding": null,
       "right": null,
       "top": null,
       "visibility": null,
       "width": null
      }
     },
     "c50b9bd5d1604d5ca0d59aad1c9ccb9c": {
      "model_module": "@jupyter-widgets/base",
      "model_module_version": "1.2.0",
      "model_name": "LayoutModel",
      "state": {
       "_model_module": "@jupyter-widgets/base",
       "_model_module_version": "1.2.0",
       "_model_name": "LayoutModel",
       "_view_count": null,
       "_view_module": "@jupyter-widgets/base",
       "_view_module_version": "1.2.0",
       "_view_name": "LayoutView",
       "align_content": null,
       "align_items": null,
       "align_self": null,
       "border": null,
       "bottom": null,
       "display": null,
       "flex": null,
       "flex_flow": null,
       "grid_area": null,
       "grid_auto_columns": null,
       "grid_auto_flow": null,
       "grid_auto_rows": null,
       "grid_column": null,
       "grid_gap": null,
       "grid_row": null,
       "grid_template_areas": null,
       "grid_template_columns": null,
       "grid_template_rows": null,
       "height": null,
       "justify_content": null,
       "justify_items": null,
       "left": null,
       "margin": null,
       "max_height": null,
       "max_width": null,
       "min_height": null,
       "min_width": null,
       "object_fit": null,
       "object_position": null,
       "order": null,
       "overflow": null,
       "overflow_x": null,
       "overflow_y": null,
       "padding": null,
       "right": null,
       "top": null,
       "visibility": null,
       "width": null
      }
     },
     "c72b4c2791e94613975da304ef971e7b": {
      "model_module": "@jupyter-widgets/controls",
      "model_module_version": "1.5.0",
      "model_name": "DescriptionStyleModel",
      "state": {
       "_model_module": "@jupyter-widgets/controls",
       "_model_module_version": "1.5.0",
       "_model_name": "DescriptionStyleModel",
       "_view_count": null,
       "_view_module": "@jupyter-widgets/base",
       "_view_module_version": "1.2.0",
       "_view_name": "StyleView",
       "description_width": ""
      }
     },
     "c72feedef38e4f51b2e6f2f8261f6317": {
      "model_module": "@jupyter-widgets/controls",
      "model_module_version": "1.5.0",
      "model_name": "HBoxModel",
      "state": {
       "_dom_classes": [],
       "_model_module": "@jupyter-widgets/controls",
       "_model_module_version": "1.5.0",
       "_model_name": "HBoxModel",
       "_view_count": null,
       "_view_module": "@jupyter-widgets/controls",
       "_view_module_version": "1.5.0",
       "_view_name": "HBoxView",
       "box_style": "",
       "children": [
        "IPY_MODEL_f01dbd7e37d14a85a4ac9474f046e0df",
        "IPY_MODEL_46e8775658b040b5902942b4e0e7505e",
        "IPY_MODEL_f1e98a4004244d758d16ce5d67f79490"
       ],
       "layout": "IPY_MODEL_72af64948d02477cb62629ae56a64a50"
      }
     },
     "c95e065c617f4d0fac08ee4012340df7": {
      "model_module": "@jupyter-widgets/base",
      "model_module_version": "1.2.0",
      "model_name": "LayoutModel",
      "state": {
       "_model_module": "@jupyter-widgets/base",
       "_model_module_version": "1.2.0",
       "_model_name": "LayoutModel",
       "_view_count": null,
       "_view_module": "@jupyter-widgets/base",
       "_view_module_version": "1.2.0",
       "_view_name": "LayoutView",
       "align_content": null,
       "align_items": null,
       "align_self": null,
       "border": null,
       "bottom": null,
       "display": null,
       "flex": null,
       "flex_flow": null,
       "grid_area": null,
       "grid_auto_columns": null,
       "grid_auto_flow": null,
       "grid_auto_rows": null,
       "grid_column": null,
       "grid_gap": null,
       "grid_row": null,
       "grid_template_areas": null,
       "grid_template_columns": null,
       "grid_template_rows": null,
       "height": null,
       "justify_content": null,
       "justify_items": null,
       "left": null,
       "margin": null,
       "max_height": null,
       "max_width": null,
       "min_height": null,
       "min_width": null,
       "object_fit": null,
       "object_position": null,
       "order": null,
       "overflow": null,
       "overflow_x": null,
       "overflow_y": null,
       "padding": null,
       "right": null,
       "top": null,
       "visibility": null,
       "width": null
      }
     },
     "ce7b02eb6b3d4f0c9cec6dec97dcdd95": {
      "model_module": "@jupyter-widgets/controls",
      "model_module_version": "1.5.0",
      "model_name": "ProgressStyleModel",
      "state": {
       "_model_module": "@jupyter-widgets/controls",
       "_model_module_version": "1.5.0",
       "_model_name": "ProgressStyleModel",
       "_view_count": null,
       "_view_module": "@jupyter-widgets/base",
       "_view_module_version": "1.2.0",
       "_view_name": "StyleView",
       "bar_color": null,
       "description_width": ""
      }
     },
     "cecd0b393ba545379ecc6de13e6094ec": {
      "model_module": "@jupyter-widgets/base",
      "model_module_version": "1.2.0",
      "model_name": "LayoutModel",
      "state": {
       "_model_module": "@jupyter-widgets/base",
       "_model_module_version": "1.2.0",
       "_model_name": "LayoutModel",
       "_view_count": null,
       "_view_module": "@jupyter-widgets/base",
       "_view_module_version": "1.2.0",
       "_view_name": "LayoutView",
       "align_content": null,
       "align_items": null,
       "align_self": null,
       "border": null,
       "bottom": null,
       "display": null,
       "flex": null,
       "flex_flow": null,
       "grid_area": null,
       "grid_auto_columns": null,
       "grid_auto_flow": null,
       "grid_auto_rows": null,
       "grid_column": null,
       "grid_gap": null,
       "grid_row": null,
       "grid_template_areas": null,
       "grid_template_columns": null,
       "grid_template_rows": null,
       "height": null,
       "justify_content": null,
       "justify_items": null,
       "left": null,
       "margin": null,
       "max_height": null,
       "max_width": null,
       "min_height": null,
       "min_width": null,
       "object_fit": null,
       "object_position": null,
       "order": null,
       "overflow": null,
       "overflow_x": null,
       "overflow_y": null,
       "padding": null,
       "right": null,
       "top": null,
       "visibility": null,
       "width": null
      }
     },
     "d372f0335af34b2cb1efe2c2fb85a5bf": {
      "model_module": "@jupyter-widgets/base",
      "model_module_version": "1.2.0",
      "model_name": "LayoutModel",
      "state": {
       "_model_module": "@jupyter-widgets/base",
       "_model_module_version": "1.2.0",
       "_model_name": "LayoutModel",
       "_view_count": null,
       "_view_module": "@jupyter-widgets/base",
       "_view_module_version": "1.2.0",
       "_view_name": "LayoutView",
       "align_content": null,
       "align_items": null,
       "align_self": null,
       "border": null,
       "bottom": null,
       "display": null,
       "flex": null,
       "flex_flow": null,
       "grid_area": null,
       "grid_auto_columns": null,
       "grid_auto_flow": null,
       "grid_auto_rows": null,
       "grid_column": null,
       "grid_gap": null,
       "grid_row": null,
       "grid_template_areas": null,
       "grid_template_columns": null,
       "grid_template_rows": null,
       "height": null,
       "justify_content": null,
       "justify_items": null,
       "left": null,
       "margin": null,
       "max_height": null,
       "max_width": null,
       "min_height": null,
       "min_width": null,
       "object_fit": null,
       "object_position": null,
       "order": null,
       "overflow": null,
       "overflow_x": null,
       "overflow_y": null,
       "padding": null,
       "right": null,
       "top": null,
       "visibility": null,
       "width": null
      }
     },
     "da70daa446bd4e06a6db26ca46a8c61b": {
      "model_module": "@jupyter-widgets/controls",
      "model_module_version": "1.5.0",
      "model_name": "HTMLModel",
      "state": {
       "_dom_classes": [],
       "_model_module": "@jupyter-widgets/controls",
       "_model_module_version": "1.5.0",
       "_model_name": "HTMLModel",
       "_view_count": null,
       "_view_module": "@jupyter-widgets/controls",
       "_view_module_version": "1.5.0",
       "_view_name": "HTMLView",
       "description": "",
       "description_tooltip": null,
       "layout": "IPY_MODEL_734b876f8ca24ef8824960dab0c5723e",
       "placeholder": "​",
       "style": "IPY_MODEL_a0441b97b7cc45e59449b70c9fc00872",
       "value": "Render HTML: 100%"
      }
     },
     "e54148b721a54011b912da142370bbf2": {
      "model_module": "@jupyter-widgets/controls",
      "model_module_version": "1.5.0",
      "model_name": "HTMLModel",
      "state": {
       "_dom_classes": [],
       "_model_module": "@jupyter-widgets/controls",
       "_model_module_version": "1.5.0",
       "_model_name": "HTMLModel",
       "_view_count": null,
       "_view_module": "@jupyter-widgets/controls",
       "_view_module_version": "1.5.0",
       "_view_name": "HTMLView",
       "description": "",
       "description_tooltip": null,
       "layout": "IPY_MODEL_23b366cf13294557b6ffa65d29012331",
       "placeholder": "​",
       "style": "IPY_MODEL_92138b9861b043aaa12375dd141049e7",
       "value": "Export report to file: 100%"
      }
     },
     "e78d5d6d5ee54848b542dbb8441b2ec4": {
      "model_module": "@jupyter-widgets/controls",
      "model_module_version": "1.5.0",
      "model_name": "FloatProgressModel",
      "state": {
       "_dom_classes": [],
       "_model_module": "@jupyter-widgets/controls",
       "_model_module_version": "1.5.0",
       "_model_name": "FloatProgressModel",
       "_view_count": null,
       "_view_module": "@jupyter-widgets/controls",
       "_view_module_version": "1.5.0",
       "_view_name": "ProgressView",
       "bar_style": "success",
       "description": "",
       "description_tooltip": null,
       "layout": "IPY_MODEL_675642a4cc2e4f1682df8cdf2ccb8eac",
       "max": 5,
       "min": 0,
       "orientation": "horizontal",
       "style": "IPY_MODEL_a5f8de1d9bc9491c85a53c569e87ca0c",
       "value": 5
      }
     },
     "ec2f94a8655a4fb58e005d248bffa9db": {
      "model_module": "@jupyter-widgets/base",
      "model_module_version": "1.2.0",
      "model_name": "LayoutModel",
      "state": {
       "_model_module": "@jupyter-widgets/base",
       "_model_module_version": "1.2.0",
       "_model_name": "LayoutModel",
       "_view_count": null,
       "_view_module": "@jupyter-widgets/base",
       "_view_module_version": "1.2.0",
       "_view_name": "LayoutView",
       "align_content": null,
       "align_items": null,
       "align_self": null,
       "border": null,
       "bottom": null,
       "display": null,
       "flex": null,
       "flex_flow": null,
       "grid_area": null,
       "grid_auto_columns": null,
       "grid_auto_flow": null,
       "grid_auto_rows": null,
       "grid_column": null,
       "grid_gap": null,
       "grid_row": null,
       "grid_template_areas": null,
       "grid_template_columns": null,
       "grid_template_rows": null,
       "height": null,
       "justify_content": null,
       "justify_items": null,
       "left": null,
       "margin": null,
       "max_height": null,
       "max_width": null,
       "min_height": null,
       "min_width": null,
       "object_fit": null,
       "object_position": null,
       "order": null,
       "overflow": null,
       "overflow_x": null,
       "overflow_y": null,
       "padding": null,
       "right": null,
       "top": null,
       "visibility": null,
       "width": null
      }
     },
     "ecc68c960c334f5692ec95a5848e41e9": {
      "model_module": "@jupyter-widgets/controls",
      "model_module_version": "1.5.0",
      "model_name": "DescriptionStyleModel",
      "state": {
       "_model_module": "@jupyter-widgets/controls",
       "_model_module_version": "1.5.0",
       "_model_name": "DescriptionStyleModel",
       "_view_count": null,
       "_view_module": "@jupyter-widgets/base",
       "_view_module_version": "1.2.0",
       "_view_name": "StyleView",
       "description_width": ""
      }
     },
     "f01dbd7e37d14a85a4ac9474f046e0df": {
      "model_module": "@jupyter-widgets/controls",
      "model_module_version": "1.5.0",
      "model_name": "HTMLModel",
      "state": {
       "_dom_classes": [],
       "_model_module": "@jupyter-widgets/controls",
       "_model_module_version": "1.5.0",
       "_model_name": "HTMLModel",
       "_view_count": null,
       "_view_module": "@jupyter-widgets/controls",
       "_view_module_version": "1.5.0",
       "_view_name": "HTMLView",
       "description": "",
       "description_tooltip": null,
       "layout": "IPY_MODEL_cecd0b393ba545379ecc6de13e6094ec",
       "placeholder": "​",
       "style": "IPY_MODEL_6dbff71093414bb0a965c056575246cf",
       "value": "Generate report structure: 100%"
      }
     },
     "f1e98a4004244d758d16ce5d67f79490": {
      "model_module": "@jupyter-widgets/controls",
      "model_module_version": "1.5.0",
      "model_name": "HTMLModel",
      "state": {
       "_dom_classes": [],
       "_model_module": "@jupyter-widgets/controls",
       "_model_module_version": "1.5.0",
       "_model_name": "HTMLModel",
       "_view_count": null,
       "_view_module": "@jupyter-widgets/controls",
       "_view_module_version": "1.5.0",
       "_view_name": "HTMLView",
       "description": "",
       "description_tooltip": null,
       "layout": "IPY_MODEL_a6efa9f64b2142708ca20bc890093f7f",
       "placeholder": "​",
       "style": "IPY_MODEL_a3bf19f97c004a50a443bfd0b5b37350",
       "value": " 1/1 [00:02&lt;00:00,  2.54s/it]"
      }
     },
     "f5169d9101b7445092122cf407298d7d": {
      "model_module": "@jupyter-widgets/controls",
      "model_module_version": "1.5.0",
      "model_name": "HBoxModel",
      "state": {
       "_dom_classes": [],
       "_model_module": "@jupyter-widgets/controls",
       "_model_module_version": "1.5.0",
       "_model_name": "HBoxModel",
       "_view_count": null,
       "_view_module": "@jupyter-widgets/controls",
       "_view_module_version": "1.5.0",
       "_view_name": "HBoxView",
       "box_style": "",
       "children": [
        "IPY_MODEL_2dd02e679f264025b3a00b1e5a2b8d72",
        "IPY_MODEL_e78d5d6d5ee54848b542dbb8441b2ec4",
        "IPY_MODEL_17617ae3fb0c40319e7b9347dea46b6a"
       ],
       "layout": "IPY_MODEL_af61483fa7f64cb982564244cae4761f"
      }
     }
    },
    "version_major": 2,
    "version_minor": 0
   }
  }
 },
 "nbformat": 4,
 "nbformat_minor": 5
}
